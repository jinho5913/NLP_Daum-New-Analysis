{
 "cells": [
  {
   "cell_type": "code",
   "execution_count": null,
   "id": "c2bc9c4e",
   "metadata": {},
   "outputs": [],
   "source": [
    "!pip list --outdated\n",
    "!pip install --upgrade matplotilb\n",
    "!pip install --upgrade lxml\n",
    "!pip install --upgrade numpy\n",
    "!pip install --upgrade pandas\n",
    "!pip install --upgrade requests\n",
    "!pip install kiwipiepy\n",
    "!pip install stanza\n",
    "!pip install matplotlib\n",
    "!conda install -y -c conda-forge wordcloud\n",
    "!pip install tensorflow\n",
    "!pip install cssselect\n",
    "!pip install gensim\n",
    "!pip install pyLDAvis==2.1.2"
   ]
  },
  {
   "cell_type": "markdown",
   "id": "8b03b891",
   "metadata": {},
   "source": [
    "# 1. Import"
   ]
  },
  {
   "cell_type": "code",
   "execution_count": 1,
   "id": "9466f633",
   "metadata": {},
   "outputs": [],
   "source": [
    "from kiwipiepy import Kiwi\n",
    "kiwi = Kiwi()\n",
    "import requests\n",
    "import lxml.html\n",
    "import pandas as pd\n",
    "import re\n",
    "from sklearn.feature_extraction.text import CountVectorizer\n",
    "from sklearn.feature_extraction.text import TfidfVectorizer\n",
    "import stanza\n",
    "from bs4 import BeautifulSoup \n",
    "from wordcloud import WordCloud\n",
    "from sklearn.model_selection import train_test_split\n",
    "import tensorflow as tf\n",
    "from sklearn.feature_extraction.text import TfidfTransformer\n",
    "trans = TfidfTransformer()\n",
    "from gensim.matutils import Sparse2Corpus\n",
    "from gensim.models.ldamodel import LdaModel\n",
    "import warnings\n",
    "import numpy\n",
    "import pyLDAvis.gensim\n",
    "from gensim.models import CoherenceModel\n",
    "from gensim.corpora.dictionary import Dictionary\n",
    "import gc\n",
    "import nltk\n",
    "\n",
    "warnings.filterwarnings(\"ignore\")"
   ]
  },
  {
   "cell_type": "markdown",
   "id": "db6e465d",
   "metadata": {},
   "source": [
    "# 2. 웹 크롤링"
   ]
  },
  {
   "cell_type": "code",
   "execution_count": 2,
   "id": "ad68ea4e",
   "metadata": {},
   "outputs": [
    {
     "data": {
      "text/plain": [
       "0"
      ]
     },
     "execution_count": 2,
     "metadata": {},
     "output_type": "execute_result"
    }
   ],
   "source": [
    "import gc\n",
    "gc.collect()"
   ]
  },
  {
   "cell_type": "code",
   "execution_count": 7,
   "id": "abf4ddfa",
   "metadata": {},
   "outputs": [],
   "source": [
    "category = ['society','economic','culture','digital']\n",
    "for i in category:\n",
    "    href=[]\n",
    "    for date in range(30, 0, -1):\n",
    "        for page in range(1,4):\n",
    "            url=f'https://news.daum.net/breakingnews/{i}?page={page}&regDate=202205{date}'.format(i,page,date)\n",
    "            res = requests.get(url)\n",
    "            root = lxml.html.fromstring(res.text)\n",
    "            for link in root.cssselect('div.box_etc li div a.link_txt'):\n",
    "                href.append(link.attrib['href'])\n",
    "    data = []\n",
    "    for url in href:\n",
    "        res = requests.get(url)\n",
    "        root = lxml.html.fromstring(res.text)\n",
    "        body = root.cssselect('div#harmonyContainer.article_view')\n",
    "        content = body[0].text_content()\n",
    "        content = content.strip()\n",
    "        content = re.sub(r'\\s+',' ', content)\n",
    "        data.append((url, content))\n",
    "    globals()['df_'+i] = pd.DataFrame(data, columns=['url','content'])"
   ]
  },
  {
   "cell_type": "code",
   "execution_count": 13,
   "id": "4e8e2723",
   "metadata": {},
   "outputs": [],
   "source": [
    "df_politics.drop_duplicates(subset='content', keep='first',inplace=True)\n",
    "df_economic.drop_duplicates(subset='content', keep='first',inplace=True)\n",
    "df_foreign.drop_duplicates(subset='content', keep='first',inplace=True)\n",
    "df_culture.drop_duplicates(subset='content', keep='first',inplace=True)\n",
    "df_digital.drop_duplicates(subset='content', keep='first',inplace=True)"
   ]
  },
  {
   "cell_type": "code",
   "execution_count": 18,
   "id": "1b9d714a",
   "metadata": {},
   "outputs": [],
   "source": [
    "df_politics.to_csv('data/정치기사.csv')\n",
    "df_economic.to_csv('data/경제기사.csv')\n",
    "df_foreign.to_csv('data.국제기사.csv')\n",
    "df_culture.to_csv('data/문화기사.csv')\n",
    "df_digital.to_csv('data/IT기사.csv')"
   ]
  },
  {
   "cell_type": "code",
   "execution_count": 2,
   "id": "c212a92a",
   "metadata": {},
   "outputs": [
    {
     "data": {
      "text/plain": [
       "0"
      ]
     },
     "execution_count": 2,
     "metadata": {},
     "output_type": "execute_result"
    }
   ],
   "source": [
    "gc.collect()"
   ]
  },
  {
   "cell_type": "markdown",
   "id": "9a94faad",
   "metadata": {},
   "source": [
    "# 3. TDM\n",
    "- 한글 불용어처리 참고 링크  \n",
    "https://bkshin.tistory.com/entry/NLP-3-%EB%B6%88%EC%9A%A9%EC%96%B4Stop-word-%EC%A0%9C%EA%B1%B0\n",
    "\n",
    "\n",
    "- sklearn CountVectorizer 설명링크  \n",
    "https://scikit-learn.org/stable/modules/generated/sklearn.feature_extraction.text.CountVectorizer.html\n",
    "  \n",
    "  \n",
    "- 기호 처리  \n",
    "http://textmining.kr/?p=387  \n",
    "- 기호처리2  \n",
    "https://wikidocs.net/77676\n",
    "  \n",
    "  \n",
    "  \n",
    "- TF-IDF 관련(여기 내용이랑은 관련 없음)  \n",
    "https://chan-lab.tistory.com/27"
   ]
  },
  {
   "cell_type": "code",
   "execution_count": 291,
   "id": "1502d719",
   "metadata": {},
   "outputs": [],
   "source": [
    "df_politics=pd.read_csv('data/정치기사.csv')\n",
    "df_economic= pd.read_csv('data/경제기사.csv')\n",
    "df_foreign= pd.read_csv('data/국제기사.csv')\n",
    "df_culture= pd.read_csv('data/문화기사.csv')\n",
    "df_digital= pd.read_csv('data/IT기사.csv')"
   ]
  },
  {
   "cell_type": "code",
   "execution_count": 292,
   "id": "3150a370",
   "metadata": {},
   "outputs": [],
   "source": [
    "ko_Stopword = list(pd.read_csv('data/한국어 불용어.csv').불용어)"
   ]
  },
  {
   "cell_type": "code",
   "execution_count": 5,
   "id": "a7d89391",
   "metadata": {
    "scrolled": true
   },
   "outputs": [
    {
     "data": {
      "application/vnd.jupyter.widget-view+json": {
       "model_id": "a8e793dd8f954141b1b6010642d0d2e7",
       "version_major": 2,
       "version_minor": 0
      },
      "text/plain": [
       "Downloading https://raw.githubusercontent.com/stanfordnlp/stanza-resources/main/resources_1.3.0.json:   0%|   …"
      ]
     },
     "metadata": {},
     "output_type": "display_data"
    },
    {
     "name": "stderr",
     "output_type": "stream",
     "text": [
      "2022-06-18 21:54:21 INFO: Downloading default packages for language: ko (Korean)...\n",
      "2022-06-18 21:54:22 INFO: File exists: C:\\Users\\jinho\\stanza_resources\\ko\\default.zip.\n",
      "2022-06-18 21:54:24 INFO: Finished downloading models and saved to C:\\Users\\jinho\\stanza_resources.\n",
      "2022-06-18 21:54:24 INFO: Loading these models for language: ko (Korean):\n",
      "=======================\n",
      "| Processor | Package |\n",
      "-----------------------\n",
      "| tokenize  | kaist   |\n",
      "| pos       | kaist   |\n",
      "| lemma     | kaist   |\n",
      "| depparse  | kaist   |\n",
      "=======================\n",
      "\n",
      "2022-06-18 21:54:24 INFO: Use device: gpu\n",
      "2022-06-18 21:54:24 INFO: Loading: tokenize\n",
      "2022-06-18 21:54:29 INFO: Loading: pos\n",
      "2022-06-18 21:54:29 INFO: Loading: lemma\n",
      "2022-06-18 21:54:29 INFO: Loading: depparse\n",
      "2022-06-18 21:54:29 INFO: Done loading processors!\n"
     ]
    }
   ],
   "source": [
    "stanza.download('ko')\n",
    "nlp = stanza.Pipeline('ko')"
   ]
  },
  {
   "cell_type": "code",
   "execution_count": 293,
   "id": "7ab78ec8",
   "metadata": {},
   "outputs": [],
   "source": [
    "def extract_nouns_stanza(text):\n",
    "    doc = nlp(text)\n",
    "    for sentence in doc.sentences:\n",
    "        for word in sentence.words:\n",
    "            lemma = word.lemma.split('+')\n",
    "            xpos = word.xpos.split('+')\n",
    "            for lem, pos in zip(lemma, xpos):\n",
    "                if pos.startswith('n'):\n",
    "                    yield lem"
   ]
  },
  {
   "cell_type": "code",
   "execution_count": 294,
   "id": "05e90644",
   "metadata": {},
   "outputs": [],
   "source": [
    "cv = CountVectorizer(tokenizer=nltk.word_tokenize, stop_words=ko_Stopword)"
   ]
  },
  {
   "cell_type": "code",
   "execution_count": 295,
   "id": "3729f8ab",
   "metadata": {},
   "outputs": [
    {
     "data": {
      "text/plain": [
       "272"
      ]
     },
     "execution_count": 295,
     "metadata": {},
     "output_type": "execute_result"
    }
   ],
   "source": [
    "gc.collect()"
   ]
  },
  {
   "cell_type": "markdown",
   "id": "a4d0130c",
   "metadata": {},
   "source": [
    "## 1) politics 기사 TDM"
   ]
  },
  {
   "cell_type": "code",
   "execution_count": 296,
   "id": "105ce5ab",
   "metadata": {},
   "outputs": [
    {
     "data": {
      "text/html": [
       "<div>\n",
       "<style scoped>\n",
       "    .dataframe tbody tr th:only-of-type {\n",
       "        vertical-align: middle;\n",
       "    }\n",
       "\n",
       "    .dataframe tbody tr th {\n",
       "        vertical-align: top;\n",
       "    }\n",
       "\n",
       "    .dataframe thead th {\n",
       "        text-align: right;\n",
       "    }\n",
       "</style>\n",
       "<table border=\"1\" class=\"dataframe\">\n",
       "  <thead>\n",
       "    <tr style=\"text-align: right;\">\n",
       "      <th></th>\n",
       "      <th>Unnamed: 0</th>\n",
       "      <th>url</th>\n",
       "      <th>content</th>\n",
       "    </tr>\n",
       "  </thead>\n",
       "  <tbody>\n",
       "    <tr>\n",
       "      <th>0</th>\n",
       "      <td>0</td>\n",
       "      <td>https://v.daum.net/v/20220615235746243</td>\n",
       "      <td>지난달 10일 서울 장충동 신라호텔에서 열린 윤석열 대통령 취임 기념 만찬에서 김건...</td>\n",
       "    </tr>\n",
       "    <tr>\n",
       "      <th>1</th>\n",
       "      <td>1</td>\n",
       "      <td>https://v.daum.net/v/20220615235103213</td>\n",
       "      <td>2020년 서해에서 북한군 총격으로 사망한 해양수산부 공무원이 타고 있던 어업지도선...</td>\n",
       "    </tr>\n",
       "    <tr>\n",
       "      <th>2</th>\n",
       "      <td>2</td>\n",
       "      <td>https://v.daum.net/v/20220615235005194</td>\n",
       "      <td>[KBS 울산]울산시의회는 노후 산업단지 안전 관련 특별법 제정 촉구 건의안을 대통...</td>\n",
       "    </tr>\n",
       "    <tr>\n",
       "      <th>3</th>\n",
       "      <td>3</td>\n",
       "      <td>https://v.daum.net/v/20220615233421081</td>\n",
       "      <td>권영세 통일부 장관은 기존의 성과를 토대로 삼지 않고는 더 크고 더 평화로운 미래로...</td>\n",
       "    </tr>\n",
       "    <tr>\n",
       "      <th>4</th>\n",
       "      <td>4</td>\n",
       "      <td>https://v.daum.net/v/20220615233419080</td>\n",
       "      <td>국민의힘 의원들이 한상혁 방송통신위원장을 향해 농지법 의혹 보도에 대한 명확한 입장...</td>\n",
       "    </tr>\n",
       "  </tbody>\n",
       "</table>\n",
       "</div>"
      ],
      "text/plain": [
       "   Unnamed: 0                                     url  \\\n",
       "0           0  https://v.daum.net/v/20220615235746243   \n",
       "1           1  https://v.daum.net/v/20220615235103213   \n",
       "2           2  https://v.daum.net/v/20220615235005194   \n",
       "3           3  https://v.daum.net/v/20220615233421081   \n",
       "4           4  https://v.daum.net/v/20220615233419080   \n",
       "\n",
       "                                             content  \n",
       "0  지난달 10일 서울 장충동 신라호텔에서 열린 윤석열 대통령 취임 기념 만찬에서 김건...  \n",
       "1  2020년 서해에서 북한군 총격으로 사망한 해양수산부 공무원이 타고 있던 어업지도선...  \n",
       "2  [KBS 울산]울산시의회는 노후 산업단지 안전 관련 특별법 제정 촉구 건의안을 대통...  \n",
       "3  권영세 통일부 장관은 기존의 성과를 토대로 삼지 않고는 더 크고 더 평화로운 미래로...  \n",
       "4  국민의힘 의원들이 한상혁 방송통신위원장을 향해 농지법 의혹 보도에 대한 명확한 입장...  "
      ]
     },
     "execution_count": 296,
     "metadata": {},
     "output_type": "execute_result"
    }
   ],
   "source": [
    "df_politics.head()"
   ]
  },
  {
   "cell_type": "markdown",
   "id": "d5a3c853",
   "metadata": {},
   "source": [
    "---------기호처리 링크 참고---------"
   ]
  },
  {
   "cell_type": "code",
   "execution_count": 297,
   "id": "053f058f",
   "metadata": {},
   "outputs": [],
   "source": [
    "#get_text()함수는 태그나 마크업기호를 뺀 텍스트만 반환해줌\n",
    "for i in range(len(df_politics)):\n",
    "    df_politics['content'][i] = BeautifulSoup(df_politics[\"content\"][i]).get_text()"
   ]
  },
  {
   "cell_type": "code",
   "execution_count": 298,
   "id": "a5162753",
   "metadata": {},
   "outputs": [],
   "source": [
    "#불용어와 기호등 없애기 위해 정규식 사용\n",
    "for i in range(len(df_politics)):\n",
    "    df_politics['content'][i] = re.sub(\"[^ㄱ-ㅣ가-힣]\",           # 바꿀패턴:한글이 아닌 모든 것 - 영어도 없애는 것이 맞나?\n",
    "                      \" \",                   # 바뀐내용:공백으로 바꿔라\n",
    "                      df_politics['content'][i] )  # 바꿀문서"
   ]
  },
  {
   "cell_type": "markdown",
   "id": "9fb20ac1",
   "metadata": {},
   "source": [
    "-------- 기호처리 링크 참고 끝-------"
   ]
  },
  {
   "cell_type": "code",
   "execution_count": 299,
   "id": "2fd4cfcf",
   "metadata": {},
   "outputs": [
    {
     "data": {
      "text/plain": [
       "720"
      ]
     },
     "execution_count": 299,
     "metadata": {},
     "output_type": "execute_result"
    }
   ],
   "source": [
    "gc.collect()"
   ]
  },
  {
   "cell_type": "code",
   "execution_count": 300,
   "id": "9add3f3a",
   "metadata": {},
   "outputs": [
    {
     "data": {
      "text/plain": [
       "0      지난달   일 서울 장충동 신라호텔에서 열린 윤석열 대통령 취임 기념 만찬에서 김건...\n",
       "1          년 서해에서 북한군 총격으로 사망한 해양수산부 공무원이 타고 있던 어업지도선...\n",
       "2           울산 울산시의회는 노후 산업단지 안전 관련 특별법 제정 촉구 건의안을 대통...\n",
       "3      권영세 통일부 장관은 기존의 성과를 토대로 삼지 않고는 더 크고 더 평화로운 미래로...\n",
       "4      국민의힘 의원들이 한상혁 방송통신위원장을 향해 농지법 의혹 보도에 대한 명확한 입장...\n",
       "                             ...                        \n",
       "273      일 감사원  박소연 기자                 저작권자    돈이 보이는...\n",
       "274     이데일리 김화빈 기자  민주노총 공공운수노조 화물연대본부 화물연대 는   일 원희...\n",
       "275     이데일리 이정현 기자  감사원은   일 서해 공무원 피격사건과 관련해 최초 보고과...\n",
       "276    감사원    피격공무원 사건 감사 착수   동아닷컴     동아일보         ...\n",
       "277    해양수산부 공무원 북한군 피격 사건 조사 경위 관련 노기섭 기자           ...\n",
       "Name: content, Length: 278, dtype: object"
      ]
     },
     "execution_count": 300,
     "metadata": {},
     "output_type": "execute_result"
    }
   ],
   "source": [
    "df_politics.loc[:, 'content']"
   ]
  },
  {
   "cell_type": "code",
   "execution_count": 301,
   "id": "227f6814",
   "metadata": {},
   "outputs": [],
   "source": [
    "tdm_politics = cv.fit_transform(df_politics.loc[:, 'content'])"
   ]
  },
  {
   "cell_type": "code",
   "execution_count": 302,
   "id": "9f711c1f",
   "metadata": {},
   "outputs": [],
   "source": [
    "word_count_politics = pd.DataFrame({\n",
    "    '단어': cv.get_feature_names(),\n",
    "    '빈도': tdm_politics.sum(axis=0).flat\n",
    "})"
   ]
  },
  {
   "cell_type": "code",
   "execution_count": 303,
   "id": "f052ff67",
   "metadata": {},
   "outputs": [
    {
     "data": {
      "text/plain": [
       "array(['윤석열', '대통령', '이렇게', ..., '분열도', '분열되고', '힘입으려고'], dtype=object)"
      ]
     },
     "execution_count": 303,
     "metadata": {},
     "output_type": "execute_result"
    }
   ],
   "source": [
    "# 빈도순으로 정렬하여 확인한다.\n",
    "\n",
    "word_count_politics.sort_values('빈도', ascending=False).단어.unique()"
   ]
  },
  {
   "cell_type": "code",
   "execution_count": 304,
   "id": "9ec7dbba",
   "metadata": {},
   "outputs": [
    {
     "data": {
      "text/plain": [
       "0"
      ]
     },
     "execution_count": 304,
     "metadata": {},
     "output_type": "execute_result"
    }
   ],
   "source": [
    "gc.collect()"
   ]
  },
  {
   "cell_type": "code",
   "execution_count": 305,
   "id": "c23500da",
   "metadata": {},
   "outputs": [],
   "source": [
    "word_count_politics.to_csv('data/정치기사_단어빈도표.csv')"
   ]
  },
  {
   "cell_type": "code",
   "execution_count": 306,
   "id": "9658d771",
   "metadata": {},
   "outputs": [],
   "source": [
    "trans = TfidfTransformer()\n",
    "tdm_politics2 = trans.fit_transform(tdm_politics)\n",
    "words_politics = cv.get_feature_names()"
   ]
  },
  {
   "cell_type": "code",
   "execution_count": 307,
   "id": "4bd8750a",
   "metadata": {
    "scrolled": true
   },
   "outputs": [
    {
     "data": {
      "text/plain": [
       "['tdm_politics2.pkl']"
      ]
     },
     "execution_count": 307,
     "metadata": {},
     "output_type": "execute_result"
    }
   ],
   "source": [
    "import joblib\n",
    "joblib.dump({'words': words_politics, 'dtm': tdm_politics}, 'tdm_politics.pkl')\n",
    "joblib.dump({'words': words_politics, 'dtm': tdm_politics2}, 'tdm_politics2.pkl')"
   ]
  },
  {
   "cell_type": "markdown",
   "id": "dedc9bf7",
   "metadata": {},
   "source": [
    "## 2) economic 기사 TDM"
   ]
  },
  {
   "cell_type": "code",
   "execution_count": 310,
   "id": "f74d32bc",
   "metadata": {},
   "outputs": [
    {
     "data": {
      "text/html": [
       "<div>\n",
       "<style scoped>\n",
       "    .dataframe tbody tr th:only-of-type {\n",
       "        vertical-align: middle;\n",
       "    }\n",
       "\n",
       "    .dataframe tbody tr th {\n",
       "        vertical-align: top;\n",
       "    }\n",
       "\n",
       "    .dataframe thead th {\n",
       "        text-align: right;\n",
       "    }\n",
       "</style>\n",
       "<table border=\"1\" class=\"dataframe\">\n",
       "  <thead>\n",
       "    <tr style=\"text-align: right;\">\n",
       "      <th></th>\n",
       "      <th>Unnamed: 0</th>\n",
       "      <th>url</th>\n",
       "      <th>content</th>\n",
       "    </tr>\n",
       "  </thead>\n",
       "  <tbody>\n",
       "    <tr>\n",
       "      <th>0</th>\n",
       "      <td>0</td>\n",
       "      <td>https://v.daum.net/v/20220615235501231</td>\n",
       "      <td>한국산 가상자산 ‘루나’ 폭락 사태를 수사 중인 검찰이 15일 권도형 테라폼랩스 대...</td>\n",
       "    </tr>\n",
       "    <tr>\n",
       "      <th>1</th>\n",
       "      <td>1</td>\n",
       "      <td>https://v.daum.net/v/20220615235046209</td>\n",
       "      <td>[KBS 강릉]지난달(5월) 강원지역 고용률이 소폭 상승했습니다. 강원지방통계지청의...</td>\n",
       "    </tr>\n",
       "    <tr>\n",
       "      <th>2</th>\n",
       "      <td>2</td>\n",
       "      <td>https://v.daum.net/v/20220615235012198</td>\n",
       "      <td>[KBS 울산]현대미포조선은 국내 최초로 건조 중인 '전기 추진 여객선' 2척을 진...</td>\n",
       "    </tr>\n",
       "    <tr>\n",
       "      <th>3</th>\n",
       "      <td>3</td>\n",
       "      <td>https://v.daum.net/v/20220615234922181</td>\n",
       "      <td>[KBS 울산] [앵커] 코로나19 종식 기대감 등으로 기업들이 고용을 늘리면서 지...</td>\n",
       "    </tr>\n",
       "    <tr>\n",
       "      <th>4</th>\n",
       "      <td>4</td>\n",
       "      <td>https://v.daum.net/v/20220615234458155</td>\n",
       "      <td>[서울경제] ◇정관계 박병석 전 국회의장, 이준석 국민의힘 대표, 정상화 공군 참모...</td>\n",
       "    </tr>\n",
       "  </tbody>\n",
       "</table>\n",
       "</div>"
      ],
      "text/plain": [
       "   Unnamed: 0                                     url  \\\n",
       "0           0  https://v.daum.net/v/20220615235501231   \n",
       "1           1  https://v.daum.net/v/20220615235046209   \n",
       "2           2  https://v.daum.net/v/20220615235012198   \n",
       "3           3  https://v.daum.net/v/20220615234922181   \n",
       "4           4  https://v.daum.net/v/20220615234458155   \n",
       "\n",
       "                                             content  \n",
       "0  한국산 가상자산 ‘루나’ 폭락 사태를 수사 중인 검찰이 15일 권도형 테라폼랩스 대...  \n",
       "1  [KBS 강릉]지난달(5월) 강원지역 고용률이 소폭 상승했습니다. 강원지방통계지청의...  \n",
       "2  [KBS 울산]현대미포조선은 국내 최초로 건조 중인 '전기 추진 여객선' 2척을 진...  \n",
       "3  [KBS 울산] [앵커] 코로나19 종식 기대감 등으로 기업들이 고용을 늘리면서 지...  \n",
       "4  [서울경제] ◇정관계 박병석 전 국회의장, 이준석 국민의힘 대표, 정상화 공군 참모...  "
      ]
     },
     "execution_count": 310,
     "metadata": {},
     "output_type": "execute_result"
    }
   ],
   "source": [
    "df_economic.head()"
   ]
  },
  {
   "cell_type": "markdown",
   "id": "b9a92ddb",
   "metadata": {},
   "source": [
    "---------기호처리 링크 참고---------"
   ]
  },
  {
   "cell_type": "code",
   "execution_count": 311,
   "id": "81fe2e5b",
   "metadata": {},
   "outputs": [],
   "source": [
    "#get_text()함수는 태그나 마크업기호를 뺀 텍스트만 반환해줌\n",
    "for i in range(len(df_economic)):\n",
    "    df_economic['content'][i] = BeautifulSoup(df_economic[\"content\"][i]).get_text()"
   ]
  },
  {
   "cell_type": "code",
   "execution_count": 312,
   "id": "f03dbb2e",
   "metadata": {},
   "outputs": [],
   "source": [
    "#불용어와 기호등 없애기 위해 정규식 사용\n",
    "for i in range(len(df_economic)):\n",
    "    df_economic['content'][i] = re.sub(\"[^ㄱ-ㅣ가-힣]\",           # 바꿀패턴:한글이 아닌 모든 것 - 영어도 없애는 것이 맞나?\n",
    "                      \" \",                   # 바뀐내용:공백으로 바꿔라\n",
    "                      df_economic['content'][i] )  # 바꿀문서"
   ]
  },
  {
   "cell_type": "markdown",
   "id": "065b37a7",
   "metadata": {},
   "source": [
    "-------- 기호처리 링크 참고 끝-------"
   ]
  },
  {
   "cell_type": "code",
   "execution_count": 313,
   "id": "855ee8c7",
   "metadata": {},
   "outputs": [
    {
     "data": {
      "text/plain": [
       "1190"
      ]
     },
     "execution_count": 313,
     "metadata": {},
     "output_type": "execute_result"
    }
   ],
   "source": [
    "gc.collect()"
   ]
  },
  {
   "cell_type": "code",
   "execution_count": 314,
   "id": "fef42deb",
   "metadata": {},
   "outputs": [
    {
     "data": {
      "text/plain": [
       "0      한국산 가상자산  루나  폭락 사태를 수사 중인 검찰이   일 권도형 테라폼랩스 대...\n",
       "1           강릉 지난달  월  강원지역 고용률이 소폭 상승했습니다  강원지방통계지청의...\n",
       "2           울산 현대미포조선은 국내 최초로 건조 중인  전기 추진 여객선   척을 진...\n",
       "3           울산   앵커  코로나   종식 기대감 등으로 기업들이 고용을 늘리면서 지...\n",
       "4       서울경제   정관계 박병석 전 국회의장  이준석 국민의힘 대표  정상화 공군 참모...\n",
       "                             ...                        \n",
       "280     왼쪽부터  김영두 로이드 선급 부사장과 고태현 케이조선 기술부문장이     인증식...\n",
       "281    기준금리 최대      인상 가능성  채무 부담 커져 이미지 미국에 이어 국내에서도...\n",
       "282    백정완 대우건설 대표이사 오른쪽 가 지난   일 신입사원들과 함께 서울시 광진구에 ...\n",
       "283     새마을금고중앙회 새마을금고중앙회는 전날 서울 소재 일원에코파크 에코센터에서  독거...\n",
       "284    사진 티움바이오 희귀난치성질환 치료제 연구개발 전문기업인 티움바이오 주가가 강세다 ...\n",
       "Name: content, Length: 285, dtype: object"
      ]
     },
     "execution_count": 314,
     "metadata": {},
     "output_type": "execute_result"
    }
   ],
   "source": [
    "df_economic.loc[:, 'content']"
   ]
  },
  {
   "cell_type": "code",
   "execution_count": 315,
   "id": "f96fc51b",
   "metadata": {},
   "outputs": [],
   "source": [
    "tdm_economic = cv.fit_transform(df_economic.loc[:, 'content'])"
   ]
  },
  {
   "cell_type": "code",
   "execution_count": 316,
   "id": "9492d16d",
   "metadata": {},
   "outputs": [],
   "source": [
    "word_count_economic = pd.DataFrame({\n",
    "    '단어': cv.get_feature_names(),\n",
    "    '빈도': tdm_economic.sum(axis=0).flat\n",
    "})"
   ]
  },
  {
   "cell_type": "code",
   "execution_count": 317,
   "id": "91e7a5f9",
   "metadata": {},
   "outputs": [
    {
     "data": {
      "text/plain": [
       "array(['미국', '화물연대', '원', ..., '굽히지', '숙박료는', '힙하게'], dtype=object)"
      ]
     },
     "execution_count": 317,
     "metadata": {},
     "output_type": "execute_result"
    }
   ],
   "source": [
    "# 빈도순으로 정렬하여 확인한다.\n",
    "\n",
    "word_count_economic.sort_values('빈도', ascending=False).단어.unique()"
   ]
  },
  {
   "cell_type": "code",
   "execution_count": 318,
   "id": "6dfbfc21",
   "metadata": {},
   "outputs": [
    {
     "data": {
      "text/plain": [
       "0"
      ]
     },
     "execution_count": 318,
     "metadata": {},
     "output_type": "execute_result"
    }
   ],
   "source": [
    "gc.collect()"
   ]
  },
  {
   "cell_type": "code",
   "execution_count": 319,
   "id": "bb2f07b6",
   "metadata": {},
   "outputs": [],
   "source": [
    "word_count_economic.to_csv('data/경제기사_단어빈도표.csv')"
   ]
  },
  {
   "cell_type": "code",
   "execution_count": 320,
   "id": "055936dd",
   "metadata": {},
   "outputs": [],
   "source": [
    "trans = TfidfTransformer()\n",
    "tdm_economic2 = trans.fit_transform(tdm_economic)\n",
    "words_economic = cv.get_feature_names()"
   ]
  },
  {
   "cell_type": "code",
   "execution_count": 321,
   "id": "8e00d99b",
   "metadata": {
    "scrolled": true
   },
   "outputs": [
    {
     "data": {
      "text/plain": [
       "['tdm_economic2.pkl']"
      ]
     },
     "execution_count": 321,
     "metadata": {},
     "output_type": "execute_result"
    }
   ],
   "source": [
    "import joblib\n",
    "joblib.dump({'words': words_economic, 'dtm': tdm_economic}, 'tdm_economic.pkl')\n",
    "joblib.dump({'words': words_economic, 'dtm': tdm_economic2}, 'tdm_economic2.pkl')"
   ]
  },
  {
   "cell_type": "markdown",
   "id": "6c3985f9",
   "metadata": {},
   "source": [
    "## 3) foreign 기사 TDM"
   ]
  },
  {
   "cell_type": "code",
   "execution_count": 323,
   "id": "0c4307ad",
   "metadata": {},
   "outputs": [
    {
     "data": {
      "text/html": [
       "<div>\n",
       "<style scoped>\n",
       "    .dataframe tbody tr th:only-of-type {\n",
       "        vertical-align: middle;\n",
       "    }\n",
       "\n",
       "    .dataframe tbody tr th {\n",
       "        vertical-align: top;\n",
       "    }\n",
       "\n",
       "    .dataframe thead th {\n",
       "        text-align: right;\n",
       "    }\n",
       "</style>\n",
       "<table border=\"1\" class=\"dataframe\">\n",
       "  <thead>\n",
       "    <tr style=\"text-align: right;\">\n",
       "      <th></th>\n",
       "      <th>Unnamed: 0</th>\n",
       "      <th>url</th>\n",
       "      <th>content</th>\n",
       "    </tr>\n",
       "  </thead>\n",
       "  <tbody>\n",
       "    <tr>\n",
       "      <th>0</th>\n",
       "      <td>0</td>\n",
       "      <td>https://v.daum.net/v/20220615235913251</td>\n",
       "      <td>Traders work on the floor at the New York Stoc...</td>\n",
       "    </tr>\n",
       "    <tr>\n",
       "      <th>1</th>\n",
       "      <td>3</td>\n",
       "      <td>https://v.daum.net/v/20220615235715242</td>\n",
       "      <td>epa10014450 Garbage trucks in Panama City, Pan...</td>\n",
       "    </tr>\n",
       "    <tr>\n",
       "      <th>2</th>\n",
       "      <td>4</td>\n",
       "      <td>https://v.daum.net/v/20220615235712241</td>\n",
       "      <td>epa10014452 A truck full of untreated garbage ...</td>\n",
       "    </tr>\n",
       "    <tr>\n",
       "      <th>3</th>\n",
       "      <td>5</td>\n",
       "      <td>https://v.daum.net/v/20220615235708240</td>\n",
       "      <td>epa10014454 Garbage in a street of Panama City...</td>\n",
       "    </tr>\n",
       "    <tr>\n",
       "      <th>4</th>\n",
       "      <td>6</td>\n",
       "      <td>https://v.daum.net/v/20220615235704239</td>\n",
       "      <td>epa10014453 Garbage in a street of Panama City...</td>\n",
       "    </tr>\n",
       "  </tbody>\n",
       "</table>\n",
       "</div>"
      ],
      "text/plain": [
       "   Unnamed: 0                                     url  \\\n",
       "0           0  https://v.daum.net/v/20220615235913251   \n",
       "1           3  https://v.daum.net/v/20220615235715242   \n",
       "2           4  https://v.daum.net/v/20220615235712241   \n",
       "3           5  https://v.daum.net/v/20220615235708240   \n",
       "4           6  https://v.daum.net/v/20220615235704239   \n",
       "\n",
       "                                             content  \n",
       "0  Traders work on the floor at the New York Stoc...  \n",
       "1  epa10014450 Garbage trucks in Panama City, Pan...  \n",
       "2  epa10014452 A truck full of untreated garbage ...  \n",
       "3  epa10014454 Garbage in a street of Panama City...  \n",
       "4  epa10014453 Garbage in a street of Panama City...  "
      ]
     },
     "execution_count": 323,
     "metadata": {},
     "output_type": "execute_result"
    }
   ],
   "source": [
    "df_foreign.head()"
   ]
  },
  {
   "cell_type": "markdown",
   "id": "248b2d62",
   "metadata": {},
   "source": [
    "---------기호처리 링크 참고---------"
   ]
  },
  {
   "cell_type": "code",
   "execution_count": 324,
   "id": "6f11929d",
   "metadata": {},
   "outputs": [],
   "source": [
    "#get_text()함수는 태그나 마크업기호를 뺀 텍스트만 반환해줌\n",
    "for i in range(len(df_foreign)):\n",
    "    df_foreign['content'][i] = BeautifulSoup(df_foreign[\"content\"][i]).get_text()"
   ]
  },
  {
   "cell_type": "code",
   "execution_count": 325,
   "id": "85044d2e",
   "metadata": {},
   "outputs": [],
   "source": [
    "#불용어와 기호등 없애기 위해 정규식 사용\n",
    "for i in range(len(df_foreign)):\n",
    "    df_foreign['content'][i] = re.sub(\"[^ㄱ-ㅣ가-힣]\",           # 바꿀패턴:한글이 아닌 모든 것 - 영어도 없애는 것이 맞나?\n",
    "                      \" \",                   # 바뀐내용:공백으로 바꿔라\n",
    "                      df_foreign['content'][i] )  # 바꿀문서"
   ]
  },
  {
   "cell_type": "markdown",
   "id": "bd862c54",
   "metadata": {},
   "source": [
    "-------- 기호처리 링크 참고 끝-------"
   ]
  },
  {
   "cell_type": "code",
   "execution_count": 326,
   "id": "2d12ab0c",
   "metadata": {},
   "outputs": [
    {
     "data": {
      "text/plain": [
       "749"
      ]
     },
     "execution_count": 326,
     "metadata": {},
     "output_type": "execute_result"
    }
   ],
   "source": [
    "gc.collect()"
   ]
  },
  {
   "cell_type": "code",
   "execution_count": 327,
   "id": "fc8cd9ba",
   "metadata": {},
   "outputs": [
    {
     "data": {
      "text/plain": [
       "0                                                    ...\n",
       "1                                                    ...\n",
       "2                                                    ...\n",
       "3                                                    ...\n",
       "4                                                    ...\n",
       "                             ...                        \n",
       "249    마쓰노 히로카즈 일본 관방장관이 기자회견에서 발언하고 있다       뉴스     ...\n",
       "250    문제의 여성   웨이보 갈무리  서울 뉴스   박형기 기자   중국의 한 여성이  ...\n",
       "251     한국경제   김현경 기자  글로벌 음료업체 코카콜라가 러시아에서 철수한다  코카콜...\n",
       "252     앵커  미국에서   여 년 만에 발생한 최악의 인플레이션이 진정 기미를 보이지 않...\n",
       "253             헤럴드경제 신동윤 기자  정치컨설팅업체가 전 세계  개국을 대상으로...\n",
       "Name: content, Length: 254, dtype: object"
      ]
     },
     "execution_count": 327,
     "metadata": {},
     "output_type": "execute_result"
    }
   ],
   "source": [
    "df_foreign.loc[:, 'content']"
   ]
  },
  {
   "cell_type": "code",
   "execution_count": 328,
   "id": "ec93d4b3",
   "metadata": {},
   "outputs": [],
   "source": [
    "tdm_foreign = cv.fit_transform(df_foreign.loc[:, 'content'])"
   ]
  },
  {
   "cell_type": "code",
   "execution_count": 329,
   "id": "8b16918f",
   "metadata": {},
   "outputs": [],
   "source": [
    "word_count_foreign = pd.DataFrame({\n",
    "    '단어': cv.get_feature_names(),\n",
    "    '빈도': tdm_foreign.sum(axis=0).flat\n",
    "})"
   ]
  },
  {
   "cell_type": "code",
   "execution_count": 330,
   "id": "0a9ce979",
   "metadata": {},
   "outputs": [
    {
     "data": {
      "text/plain": [
       "array(['미국', '중국', '러시아', ..., '브리기트와', '브뤼셀', '힘이'], dtype=object)"
      ]
     },
     "execution_count": 330,
     "metadata": {},
     "output_type": "execute_result"
    }
   ],
   "source": [
    "# 빈도순으로 정렬하여 확인한다.\n",
    "\n",
    "word_count_foreign.sort_values('빈도', ascending=False).단어.unique()"
   ]
  },
  {
   "cell_type": "code",
   "execution_count": 331,
   "id": "efbe422a",
   "metadata": {},
   "outputs": [
    {
     "data": {
      "text/plain": [
       "0"
      ]
     },
     "execution_count": 331,
     "metadata": {},
     "output_type": "execute_result"
    }
   ],
   "source": [
    "gc.collect()"
   ]
  },
  {
   "cell_type": "code",
   "execution_count": 332,
   "id": "38b8dfaf",
   "metadata": {},
   "outputs": [],
   "source": [
    "word_count_foreign.to_csv('data/국제기사_단어빈도표.csv')"
   ]
  },
  {
   "cell_type": "code",
   "execution_count": 333,
   "id": "1a93efeb",
   "metadata": {},
   "outputs": [],
   "source": [
    "trans = TfidfTransformer()\n",
    "tdm_foreign2 = trans.fit_transform(tdm_foreign)\n",
    "words_foreign = cv.get_feature_names()"
   ]
  },
  {
   "cell_type": "code",
   "execution_count": 334,
   "id": "6fa255e3",
   "metadata": {
    "scrolled": true
   },
   "outputs": [
    {
     "data": {
      "text/plain": [
       "['tdm_foreign2.pkl']"
      ]
     },
     "execution_count": 334,
     "metadata": {},
     "output_type": "execute_result"
    }
   ],
   "source": [
    "import joblib\n",
    "joblib.dump({'words': words_foreign, 'dtm': tdm_foreign}, 'tdm_foreign.pkl')\n",
    "joblib.dump({'words': words_foreign, 'dtm': tdm_foreign2}, 'tdm_foreign2.pkl')"
   ]
  },
  {
   "cell_type": "markdown",
   "id": "99a9a4d9",
   "metadata": {},
   "source": [
    "## 4) culture 기사 TDM"
   ]
  },
  {
   "cell_type": "code",
   "execution_count": 335,
   "id": "2aa4ea3e",
   "metadata": {},
   "outputs": [
    {
     "data": {
      "text/html": [
       "<div>\n",
       "<style scoped>\n",
       "    .dataframe tbody tr th:only-of-type {\n",
       "        vertical-align: middle;\n",
       "    }\n",
       "\n",
       "    .dataframe tbody tr th {\n",
       "        vertical-align: top;\n",
       "    }\n",
       "\n",
       "    .dataframe thead th {\n",
       "        text-align: right;\n",
       "    }\n",
       "</style>\n",
       "<table border=\"1\" class=\"dataframe\">\n",
       "  <thead>\n",
       "    <tr style=\"text-align: right;\">\n",
       "      <th></th>\n",
       "      <th>Unnamed: 0</th>\n",
       "      <th>url</th>\n",
       "      <th>content</th>\n",
       "    </tr>\n",
       "  </thead>\n",
       "  <tbody>\n",
       "    <tr>\n",
       "      <th>0</th>\n",
       "      <td>0</td>\n",
       "      <td>https://v.daum.net/v/20220615235514232</td>\n",
       "      <td>[사진제공=진힙즈엔터테인먼트] [헤럴드경제 = 서병기 선임기자]진조크루 팬들이 한자...</td>\n",
       "    </tr>\n",
       "    <tr>\n",
       "      <th>1</th>\n",
       "      <td>1</td>\n",
       "      <td>https://v.daum.net/v/20220615235009197</td>\n",
       "      <td>[KBS 울산]KBS울산방송국의 6월 시청자위원회가 KBS울산방송국 회의실에서 열렸...</td>\n",
       "    </tr>\n",
       "    <tr>\n",
       "      <th>2</th>\n",
       "      <td>2</td>\n",
       "      <td>https://v.daum.net/v/20220615233900115</td>\n",
       "      <td>독일 발도로프(Walldorf)는 멸종 위기 조류의 보호를 위해 집고양이들의 외출을...</td>\n",
       "    </tr>\n",
       "    <tr>\n",
       "      <th>3</th>\n",
       "      <td>3</td>\n",
       "      <td>https://v.daum.net/v/20220615233422082</td>\n",
       "      <td>비구름이 하늘을 뒤덮으면서 오늘도 기온이 크게 오르지 못했습니다. 특히 서울을 비롯...</td>\n",
       "    </tr>\n",
       "    <tr>\n",
       "      <th>4</th>\n",
       "      <td>4</td>\n",
       "      <td>https://v.daum.net/v/20220615232809044</td>\n",
       "      <td>[앵커] 그룹 방탄소년단, BTS가 데뷔 9년 만에 단체 음악 활동을 멈추고 개별 ...</td>\n",
       "    </tr>\n",
       "  </tbody>\n",
       "</table>\n",
       "</div>"
      ],
      "text/plain": [
       "   Unnamed: 0                                     url  \\\n",
       "0           0  https://v.daum.net/v/20220615235514232   \n",
       "1           1  https://v.daum.net/v/20220615235009197   \n",
       "2           2  https://v.daum.net/v/20220615233900115   \n",
       "3           3  https://v.daum.net/v/20220615233422082   \n",
       "4           4  https://v.daum.net/v/20220615232809044   \n",
       "\n",
       "                                             content  \n",
       "0  [사진제공=진힙즈엔터테인먼트] [헤럴드경제 = 서병기 선임기자]진조크루 팬들이 한자...  \n",
       "1  [KBS 울산]KBS울산방송국의 6월 시청자위원회가 KBS울산방송국 회의실에서 열렸...  \n",
       "2  독일 발도로프(Walldorf)는 멸종 위기 조류의 보호를 위해 집고양이들의 외출을...  \n",
       "3  비구름이 하늘을 뒤덮으면서 오늘도 기온이 크게 오르지 못했습니다. 특히 서울을 비롯...  \n",
       "4  [앵커] 그룹 방탄소년단, BTS가 데뷔 9년 만에 단체 음악 활동을 멈추고 개별 ...  "
      ]
     },
     "execution_count": 335,
     "metadata": {},
     "output_type": "execute_result"
    }
   ],
   "source": [
    "df_culture.head()"
   ]
  },
  {
   "cell_type": "markdown",
   "id": "d013630f",
   "metadata": {},
   "source": [
    "---------기호처리 링크 참고---------"
   ]
  },
  {
   "cell_type": "code",
   "execution_count": 336,
   "id": "9f50e1ff",
   "metadata": {},
   "outputs": [],
   "source": [
    "#get_text()함수는 태그나 마크업기호를 뺀 텍스트만 반환해줌\n",
    "for i in range(len(df_culture)):\n",
    "    df_culture['content'][i] = BeautifulSoup(df_culture[\"content\"][i]).get_text()"
   ]
  },
  {
   "cell_type": "code",
   "execution_count": 337,
   "id": "3af15486",
   "metadata": {},
   "outputs": [],
   "source": [
    "#불용어와 기호등 없애기 위해 정규식 사용\n",
    "for i in range(len(df_culture)):\n",
    "    df_culture['content'][i] = re.sub(\"[^ㄱ-ㅣ가-힣]\",           # 바꿀패턴:한글이 아닌 모든 것 - 영어도 없애는 것이 맞나?\n",
    "                      \" \",                   # 바뀐내용:공백으로 바꿔라\n",
    "                      df_culture['content'][i] )  # 바꿀문서"
   ]
  },
  {
   "cell_type": "code",
   "execution_count": 338,
   "id": "7f45067a",
   "metadata": {},
   "outputs": [
    {
     "data": {
      "text/html": [
       "<div>\n",
       "<style scoped>\n",
       "    .dataframe tbody tr th:only-of-type {\n",
       "        vertical-align: middle;\n",
       "    }\n",
       "\n",
       "    .dataframe tbody tr th {\n",
       "        vertical-align: top;\n",
       "    }\n",
       "\n",
       "    .dataframe thead th {\n",
       "        text-align: right;\n",
       "    }\n",
       "</style>\n",
       "<table border=\"1\" class=\"dataframe\">\n",
       "  <thead>\n",
       "    <tr style=\"text-align: right;\">\n",
       "      <th></th>\n",
       "      <th>Unnamed: 0</th>\n",
       "      <th>url</th>\n",
       "      <th>content</th>\n",
       "    </tr>\n",
       "  </thead>\n",
       "  <tbody>\n",
       "    <tr>\n",
       "      <th>0</th>\n",
       "      <td>0</td>\n",
       "      <td>https://v.daum.net/v/20220615235514232</td>\n",
       "      <td>사진제공 진힙즈엔터테인먼트   헤럴드경제   서병기 선임기자 진조크루 팬들이 한자...</td>\n",
       "    </tr>\n",
       "    <tr>\n",
       "      <th>1</th>\n",
       "      <td>1</td>\n",
       "      <td>https://v.daum.net/v/20220615235009197</td>\n",
       "      <td>울산    울산방송국의  월 시청자위원회가    울산방송국 회의실에서 열렸...</td>\n",
       "    </tr>\n",
       "    <tr>\n",
       "      <th>2</th>\n",
       "      <td>2</td>\n",
       "      <td>https://v.daum.net/v/20220615233900115</td>\n",
       "      <td>독일 발도로프          는 멸종 위기 조류의 보호를 위해 집고양이들의 외출을...</td>\n",
       "    </tr>\n",
       "    <tr>\n",
       "      <th>3</th>\n",
       "      <td>3</td>\n",
       "      <td>https://v.daum.net/v/20220615233422082</td>\n",
       "      <td>비구름이 하늘을 뒤덮으면서 오늘도 기온이 크게 오르지 못했습니다  특히 서울을 비롯...</td>\n",
       "    </tr>\n",
       "    <tr>\n",
       "      <th>4</th>\n",
       "      <td>4</td>\n",
       "      <td>https://v.daum.net/v/20220615232809044</td>\n",
       "      <td>앵커  그룹 방탄소년단     가 데뷔  년 만에 단체 음악 활동을 멈추고 개별 ...</td>\n",
       "    </tr>\n",
       "    <tr>\n",
       "      <th>...</th>\n",
       "      <td>...</td>\n",
       "      <td>...</td>\n",
       "      <td>...</td>\n",
       "    </tr>\n",
       "    <tr>\n",
       "      <th>274</th>\n",
       "      <td>279</td>\n",
       "      <td>https://v.daum.net/v/20220617133302674</td>\n",
       "      <td>사진 신세계면세점  신세계면세점은 태국 교육부에서 온 고객 약    명을 태운 단...</td>\n",
       "    </tr>\n",
       "    <tr>\n",
       "      <th>275</th>\n",
       "      <td>280</td>\n",
       "      <td>https://v.daum.net/v/20220617132956616</td>\n",
       "      <td>서울 연합뉴스  박상현 기자   문화재위원회와 무형문화재위원회 분과위원장들이   ...</td>\n",
       "    </tr>\n",
       "    <tr>\n",
       "      <th>276</th>\n",
       "      <td>281</td>\n",
       "      <td>https://v.daum.net/v/20220617132947613</td>\n",
       "      <td>서울 연합뉴스  박상현 기자   문화재위원회와 무형문화재위원회 분과위원장들이   ...</td>\n",
       "    </tr>\n",
       "    <tr>\n",
       "      <th>277</th>\n",
       "      <td>283</td>\n",
       "      <td>https://v.daum.net/v/20220617132620514</td>\n",
       "      <td>전주한옥마을에서 제 회 전주재즈페스티벌 개막 이미지 관광거점도시 사업의 일환인 전주...</td>\n",
       "    </tr>\n",
       "    <tr>\n",
       "      <th>278</th>\n",
       "      <td>284</td>\n",
       "      <td>https://v.daum.net/v/20220617132457487</td>\n",
       "      <td>앵커  요 며칠 좀 선선했는데요  오늘부터 다시 더워진다고 합니다  소나기 소식도...</td>\n",
       "    </tr>\n",
       "  </tbody>\n",
       "</table>\n",
       "<p>279 rows × 3 columns</p>\n",
       "</div>"
      ],
      "text/plain": [
       "     Unnamed: 0                                     url  \\\n",
       "0             0  https://v.daum.net/v/20220615235514232   \n",
       "1             1  https://v.daum.net/v/20220615235009197   \n",
       "2             2  https://v.daum.net/v/20220615233900115   \n",
       "3             3  https://v.daum.net/v/20220615233422082   \n",
       "4             4  https://v.daum.net/v/20220615232809044   \n",
       "..          ...                                     ...   \n",
       "274         279  https://v.daum.net/v/20220617133302674   \n",
       "275         280  https://v.daum.net/v/20220617132956616   \n",
       "276         281  https://v.daum.net/v/20220617132947613   \n",
       "277         283  https://v.daum.net/v/20220617132620514   \n",
       "278         284  https://v.daum.net/v/20220617132457487   \n",
       "\n",
       "                                               content  \n",
       "0     사진제공 진힙즈엔터테인먼트   헤럴드경제   서병기 선임기자 진조크루 팬들이 한자...  \n",
       "1         울산    울산방송국의  월 시청자위원회가    울산방송국 회의실에서 열렸...  \n",
       "2    독일 발도로프          는 멸종 위기 조류의 보호를 위해 집고양이들의 외출을...  \n",
       "3    비구름이 하늘을 뒤덮으면서 오늘도 기온이 크게 오르지 못했습니다  특히 서울을 비롯...  \n",
       "4     앵커  그룹 방탄소년단     가 데뷔  년 만에 단체 음악 활동을 멈추고 개별 ...  \n",
       "..                                                 ...  \n",
       "274   사진 신세계면세점  신세계면세점은 태국 교육부에서 온 고객 약    명을 태운 단...  \n",
       "275   서울 연합뉴스  박상현 기자   문화재위원회와 무형문화재위원회 분과위원장들이   ...  \n",
       "276   서울 연합뉴스  박상현 기자   문화재위원회와 무형문화재위원회 분과위원장들이   ...  \n",
       "277  전주한옥마을에서 제 회 전주재즈페스티벌 개막 이미지 관광거점도시 사업의 일환인 전주...  \n",
       "278   앵커  요 며칠 좀 선선했는데요  오늘부터 다시 더워진다고 합니다  소나기 소식도...  \n",
       "\n",
       "[279 rows x 3 columns]"
      ]
     },
     "execution_count": 338,
     "metadata": {},
     "output_type": "execute_result"
    }
   ],
   "source": [
    "df_culture"
   ]
  },
  {
   "cell_type": "markdown",
   "id": "e11cb735",
   "metadata": {},
   "source": [
    "-------- 기호처리 링크 참고 끝-------"
   ]
  },
  {
   "cell_type": "code",
   "execution_count": 339,
   "id": "110ce738",
   "metadata": {},
   "outputs": [
    {
     "data": {
      "text/plain": [
       "957"
      ]
     },
     "execution_count": 339,
     "metadata": {},
     "output_type": "execute_result"
    }
   ],
   "source": [
    "gc.collect()"
   ]
  },
  {
   "cell_type": "code",
   "execution_count": 340,
   "id": "c1cd2715",
   "metadata": {},
   "outputs": [
    {
     "data": {
      "text/plain": [
       "0       사진제공 진힙즈엔터테인먼트   헤럴드경제   서병기 선임기자 진조크루 팬들이 한자...\n",
       "1           울산    울산방송국의  월 시청자위원회가    울산방송국 회의실에서 열렸...\n",
       "2      독일 발도로프          는 멸종 위기 조류의 보호를 위해 집고양이들의 외출을...\n",
       "3      비구름이 하늘을 뒤덮으면서 오늘도 기온이 크게 오르지 못했습니다  특히 서울을 비롯...\n",
       "4       앵커  그룹 방탄소년단     가 데뷔  년 만에 단체 음악 활동을 멈추고 개별 ...\n",
       "                             ...                        \n",
       "274     사진 신세계면세점  신세계면세점은 태국 교육부에서 온 고객 약    명을 태운 단...\n",
       "275     서울 연합뉴스  박상현 기자   문화재위원회와 무형문화재위원회 분과위원장들이   ...\n",
       "276     서울 연합뉴스  박상현 기자   문화재위원회와 무형문화재위원회 분과위원장들이   ...\n",
       "277    전주한옥마을에서 제 회 전주재즈페스티벌 개막 이미지 관광거점도시 사업의 일환인 전주...\n",
       "278     앵커  요 며칠 좀 선선했는데요  오늘부터 다시 더워진다고 합니다  소나기 소식도...\n",
       "Name: content, Length: 279, dtype: object"
      ]
     },
     "execution_count": 340,
     "metadata": {},
     "output_type": "execute_result"
    }
   ],
   "source": [
    "df_culture.loc[:, 'content']"
   ]
  },
  {
   "cell_type": "code",
   "execution_count": 341,
   "id": "36a15d4d",
   "metadata": {},
   "outputs": [],
   "source": [
    "tdm_culture = cv.fit_transform(df_culture.loc[:, 'content'])"
   ]
  },
  {
   "cell_type": "code",
   "execution_count": 342,
   "id": "a2773d85",
   "metadata": {},
   "outputs": [],
   "source": [
    "word_count_culture = pd.DataFrame({\n",
    "    '단어': cv.get_feature_names(),\n",
    "    '빈도': tdm_culture.sum(axis=0).flat\n",
    "})"
   ]
  },
  {
   "cell_type": "code",
   "execution_count": 343,
   "id": "d807ca18",
   "metadata": {},
   "outputs": [
    {
     "data": {
      "text/plain": [
       "array(['코로나', '소나기가', '주', ..., '붉히며', '붉은색을', '힙해지고'], dtype=object)"
      ]
     },
     "execution_count": 343,
     "metadata": {},
     "output_type": "execute_result"
    }
   ],
   "source": [
    "# 빈도순으로 정렬하여 확인한다.\n",
    "\n",
    "word_count_culture.sort_values('빈도', ascending=False).단어.unique()"
   ]
  },
  {
   "cell_type": "code",
   "execution_count": 344,
   "id": "1269db95",
   "metadata": {},
   "outputs": [
    {
     "data": {
      "text/plain": [
       "0"
      ]
     },
     "execution_count": 344,
     "metadata": {},
     "output_type": "execute_result"
    }
   ],
   "source": [
    "gc.collect()"
   ]
  },
  {
   "cell_type": "code",
   "execution_count": 345,
   "id": "da07a41c",
   "metadata": {},
   "outputs": [],
   "source": [
    "word_count_culture.to_csv('data/문화기사_단어빈도표.csv')"
   ]
  },
  {
   "cell_type": "code",
   "execution_count": 346,
   "id": "86241d0f",
   "metadata": {},
   "outputs": [],
   "source": [
    "trans = TfidfTransformer()\n",
    "tdm_culture2 = trans.fit_transform(tdm_culture)\n",
    "words_culture = cv.get_feature_names()"
   ]
  },
  {
   "cell_type": "code",
   "execution_count": 347,
   "id": "86921edb",
   "metadata": {
    "scrolled": true
   },
   "outputs": [
    {
     "data": {
      "text/plain": [
       "['tdm_culture2.pkl']"
      ]
     },
     "execution_count": 347,
     "metadata": {},
     "output_type": "execute_result"
    }
   ],
   "source": [
    "import joblib\n",
    "joblib.dump({'words': words_culture, 'dtm': tdm_culture}, 'tdm_culture.pkl')\n",
    "joblib.dump({'words': words_culture, 'dtm': tdm_culture2}, 'tdm_culture2.pkl')"
   ]
  },
  {
   "cell_type": "markdown",
   "id": "2e2aff3e",
   "metadata": {},
   "source": [
    "## 5) digital 기사 TDM"
   ]
  },
  {
   "cell_type": "code",
   "execution_count": 348,
   "id": "329dd93c",
   "metadata": {},
   "outputs": [
    {
     "data": {
      "text/html": [
       "<div>\n",
       "<style scoped>\n",
       "    .dataframe tbody tr th:only-of-type {\n",
       "        vertical-align: middle;\n",
       "    }\n",
       "\n",
       "    .dataframe tbody tr th {\n",
       "        vertical-align: top;\n",
       "    }\n",
       "\n",
       "    .dataframe thead th {\n",
       "        text-align: right;\n",
       "    }\n",
       "</style>\n",
       "<table border=\"1\" class=\"dataframe\">\n",
       "  <thead>\n",
       "    <tr style=\"text-align: right;\">\n",
       "      <th></th>\n",
       "      <th>Unnamed: 0</th>\n",
       "      <th>url</th>\n",
       "      <th>content</th>\n",
       "    </tr>\n",
       "  </thead>\n",
       "  <tbody>\n",
       "    <tr>\n",
       "      <th>0</th>\n",
       "      <td>0</td>\n",
       "      <td>https://v.daum.net/v/20220615235415229</td>\n",
       "      <td>조립동 이동 위해 지상으로 내려지는 누리호 (고흥=연합뉴스) 한국형 발사체 누리호(...</td>\n",
       "    </tr>\n",
       "    <tr>\n",
       "      <th>1</th>\n",
       "      <td>1</td>\n",
       "      <td>https://v.daum.net/v/20220615233430085</td>\n",
       "      <td>다시 조립동으로 (고흥=연합뉴스) 15일 전남 고흥군 나로우주센터에서 누리호(KSL...</td>\n",
       "    </tr>\n",
       "    <tr>\n",
       "      <th>2</th>\n",
       "      <td>2</td>\n",
       "      <td>https://v.daum.net/v/20220615232847046</td>\n",
       "      <td>기사내용 요약 1단부 산화제탱크의 레벨 센서 오류 점검 작업 돌입 [고흥=뉴시스] ...</td>\n",
       "    </tr>\n",
       "    <tr>\n",
       "      <th>3</th>\n",
       "      <td>3</td>\n",
       "      <td>https://v.daum.net/v/20220615223600763</td>\n",
       "      <td>[IT동아 김영우 기자] 지난 5월, 오픈소스 솔루션 전문 기업인 레드햇(Red H...</td>\n",
       "    </tr>\n",
       "    <tr>\n",
       "      <th>4</th>\n",
       "      <td>4</td>\n",
       "      <td>https://v.daum.net/v/20220615220709504</td>\n",
       "      <td>[앵커] 한국형 발사체 누리호 2차 발사가 기술적인 문제로 중단됐습니다. 기체 내부...</td>\n",
       "    </tr>\n",
       "  </tbody>\n",
       "</table>\n",
       "</div>"
      ],
      "text/plain": [
       "   Unnamed: 0                                     url  \\\n",
       "0           0  https://v.daum.net/v/20220615235415229   \n",
       "1           1  https://v.daum.net/v/20220615233430085   \n",
       "2           2  https://v.daum.net/v/20220615232847046   \n",
       "3           3  https://v.daum.net/v/20220615223600763   \n",
       "4           4  https://v.daum.net/v/20220615220709504   \n",
       "\n",
       "                                             content  \n",
       "0  조립동 이동 위해 지상으로 내려지는 누리호 (고흥=연합뉴스) 한국형 발사체 누리호(...  \n",
       "1  다시 조립동으로 (고흥=연합뉴스) 15일 전남 고흥군 나로우주센터에서 누리호(KSL...  \n",
       "2  기사내용 요약 1단부 산화제탱크의 레벨 센서 오류 점검 작업 돌입 [고흥=뉴시스] ...  \n",
       "3  [IT동아 김영우 기자] 지난 5월, 오픈소스 솔루션 전문 기업인 레드햇(Red H...  \n",
       "4  [앵커] 한국형 발사체 누리호 2차 발사가 기술적인 문제로 중단됐습니다. 기체 내부...  "
      ]
     },
     "execution_count": 348,
     "metadata": {},
     "output_type": "execute_result"
    }
   ],
   "source": [
    "df_digital.head()"
   ]
  },
  {
   "cell_type": "markdown",
   "id": "4cb30cc6",
   "metadata": {},
   "source": [
    "---------기호처리 링크 참고---------"
   ]
  },
  {
   "cell_type": "code",
   "execution_count": 349,
   "id": "ad74cd9d",
   "metadata": {},
   "outputs": [],
   "source": [
    "#get_text()함수는 태그나 마크업기호를 뺀 텍스트만 반환해줌\n",
    "for i in range(len(df_digital)):\n",
    "    df_digital['content'][i] = BeautifulSoup(df_digital[\"content\"][i]).get_text()"
   ]
  },
  {
   "cell_type": "code",
   "execution_count": 350,
   "id": "9527c8bb",
   "metadata": {},
   "outputs": [],
   "source": [
    "#불용어와 기호등 없애기 위해 정규식 사용\n",
    "for i in range(len(df_digital)):\n",
    "    df_digital['content'][i] = re.sub(\"[^ㄱ-ㅣ가-힣]\",           # 바꿀패턴:한글이 아닌 모든 것 - 영어도 없애는 것이 맞나?\n",
    "                      \" \",                   # 바뀐내용:공백으로 바꿔라\n",
    "                      df_digital['content'][i] )  # 바꿀문서"
   ]
  },
  {
   "cell_type": "markdown",
   "id": "3a52e52a",
   "metadata": {},
   "source": [
    "-------- 기호처리 링크 참고 끝-------"
   ]
  },
  {
   "cell_type": "code",
   "execution_count": 351,
   "id": "153d9080",
   "metadata": {},
   "outputs": [
    {
     "data": {
      "text/plain": [
       "1626"
      ]
     },
     "execution_count": 351,
     "metadata": {},
     "output_type": "execute_result"
    }
   ],
   "source": [
    "gc.collect()"
   ]
  },
  {
   "cell_type": "code",
   "execution_count": 352,
   "id": "993b2cce",
   "metadata": {},
   "outputs": [
    {
     "data": {
      "text/plain": [
       "0      조립동 이동 위해 지상으로 내려지는 누리호  고흥 연합뉴스  한국형 발사체 누리호 ...\n",
       "1      다시 조립동으로  고흥 연합뉴스    일 전남 고흥군 나로우주센터에서 누리호    ...\n",
       "2      기사내용 요약  단부 산화제탱크의 레벨 센서 오류 점검 작업 돌입  고흥 뉴시스  ...\n",
       "3         동아 김영우 기자  지난  월  오픈소스 솔루션 전문 기업인 레드햇      ...\n",
       "4       앵커  한국형 발사체 누리호  차 발사가 기술적인 문제로 중단됐습니다  기체 내부...\n",
       "                             ...                        \n",
       "266     삼일회계법인   신임  파트너 강형욱 김광연 김영환 김영훈 김원찬 김재동 김진 김...\n",
       "267     통일부  고위공무원 전보  통일정책실장 이주태  인도협력국장 정소운        ...\n",
       "268     여성가족부  국장급 전보  전략추진단장 조민경  과장급 전보  여성인력개발과장 조...\n",
       "269    김경중 오른쪽  리만코리아 대표와 김수학 대구사회복지 공동모금회장이 기부물품을 전달...\n",
       "270     헤럴드경제 구본혁 기자  한국과학기술원       은 획기적으로 발전한 기계학습 ...\n",
       "Name: content, Length: 271, dtype: object"
      ]
     },
     "execution_count": 352,
     "metadata": {},
     "output_type": "execute_result"
    }
   ],
   "source": [
    "df_digital.loc[:, 'content']"
   ]
  },
  {
   "cell_type": "code",
   "execution_count": 353,
   "id": "e306014a",
   "metadata": {},
   "outputs": [],
   "source": [
    "tdm_digital = cv.fit_transform(df_digital.loc[:, 'content'])"
   ]
  },
  {
   "cell_type": "code",
   "execution_count": 354,
   "id": "e7c10c84",
   "metadata": {},
   "outputs": [],
   "source": [
    "word_count_digital = pd.DataFrame({\n",
    "    '단어': cv.get_feature_names(),\n",
    "    '빈도': tdm_digital.sum(axis=0).flat\n",
    "})"
   ]
  },
  {
   "cell_type": "code",
   "execution_count": 355,
   "id": "833ff729",
   "metadata": {},
   "outputs": [
    {
     "data": {
      "text/plain": [
       "array(['누리호', '발사', '차', ..., '사에서', '사옥', '힘찬'], dtype=object)"
      ]
     },
     "execution_count": 355,
     "metadata": {},
     "output_type": "execute_result"
    }
   ],
   "source": [
    "# 빈도순으로 정렬하여 확인한다.\n",
    "\n",
    "word_count_digital.sort_values('빈도', ascending=False).단어.unique()"
   ]
  },
  {
   "cell_type": "code",
   "execution_count": 356,
   "id": "90b0f29f",
   "metadata": {},
   "outputs": [
    {
     "data": {
      "text/plain": [
       "0"
      ]
     },
     "execution_count": 356,
     "metadata": {},
     "output_type": "execute_result"
    }
   ],
   "source": [
    "gc.collect()"
   ]
  },
  {
   "cell_type": "code",
   "execution_count": 357,
   "id": "be472338",
   "metadata": {},
   "outputs": [],
   "source": [
    "word_count_digital.to_csv('data/IT기사_단어빈도표.csv')"
   ]
  },
  {
   "cell_type": "code",
   "execution_count": 358,
   "id": "f38ff8b9",
   "metadata": {},
   "outputs": [],
   "source": [
    "trans = TfidfTransformer()\n",
    "tdm_digital2 = trans.fit_transform(tdm_digital)\n",
    "words_digital = cv.get_feature_names()"
   ]
  },
  {
   "cell_type": "code",
   "execution_count": 359,
   "id": "1bbcb352",
   "metadata": {
    "scrolled": true
   },
   "outputs": [
    {
     "data": {
      "text/plain": [
       "['tdm_digital2.pkl']"
      ]
     },
     "execution_count": 359,
     "metadata": {},
     "output_type": "execute_result"
    }
   ],
   "source": [
    "import joblib\n",
    "joblib.dump({'words': words_digital, 'dtm': tdm_digital}, 'tdm_digital.pkl')\n",
    "joblib.dump({'words': words_digital, 'dtm': tdm_digital2}, 'tdm_digital2.pkl')"
   ]
  },
  {
   "cell_type": "markdown",
   "id": "2a6ed419",
   "metadata": {},
   "source": [
    "# 4. WordClouding"
   ]
  },
  {
   "cell_type": "markdown",
   "id": "106ebb5a",
   "metadata": {},
   "source": [
    "### 1) politics"
   ]
  },
  {
   "cell_type": "code",
   "execution_count": 360,
   "id": "b5a541f7",
   "metadata": {},
   "outputs": [
    {
     "data": {
      "image/png": "[encoded data removed]",
      "text/plain": [
       "<PIL.Image.Image image mode=RGB size=400x300 at 0x1BD8AEE1CA0>"
      ]
     },
     "execution_count": 360,
     "metadata": {},
     "output_type": "execute_result"
    }
   ],
   "source": [
    "cv = CountVectorizer(tokenizer=nltk.word_tokenize, stop_words=ko_Stopword)\n",
    "\n",
    "tdm_politics = cv.fit_transform(df_politics.loc[:, 'content'])\n",
    "\n",
    "word_count_politics = pd.DataFrame({\n",
    "    '단어': cv.get_feature_names(),\n",
    "    '빈도': tdm_politics.sum(axis=0).flat\n",
    "})\n",
    "\n",
    "word_count_politics.set_index('단어')['빈도']\n",
    "count_dic_politics = word_count_politics.set_index('단어')['빈도'].to_dict()\n",
    "\n",
    "wc = WordCloud(font_path='C:/Windows/Fonts/malgun.ttf', \n",
    "               background_color='white', max_words=30,\n",
    "               width=400, height=300, random_state = 123)\n",
    "\n",
    "cloud_politics = wc.generate_from_frequencies(count_dic_politics)\n",
    "cloud_politics.to_image()"
   ]
  },
  {
   "cell_type": "markdown",
   "id": "29247083",
   "metadata": {},
   "source": [
    "### 2) economic"
   ]
  },
  {
   "cell_type": "code",
   "execution_count": 361,
   "id": "f70ae5ea",
   "metadata": {},
   "outputs": [
    {
     "data": {
      "image/png": "[encoded data removed]",
      "text/plain": [
       "<PIL.Image.Image image mode=RGB size=400x300 at 0x1BD8A7DBC40>"
      ]
     },
     "execution_count": 361,
     "metadata": {},
     "output_type": "execute_result"
    }
   ],
   "source": [
    "cv = CountVectorizer(tokenizer=nltk.word_tokenize, stop_words=ko_Stopword)\n",
    "\n",
    "tdm_economic = cv.fit_transform(df_economic.loc[:, 'content'])\n",
    "\n",
    "word_count_economic = pd.DataFrame({\n",
    "    '단어': cv.get_feature_names(),\n",
    "    '빈도': tdm_economic.sum(axis=0).flat\n",
    "})\n",
    "\n",
    "word_count_economic.set_index('단어')['빈도']\n",
    "count_dic_economic = word_count_economic.set_index('단어')['빈도'].to_dict()\n",
    "\n",
    "wc = WordCloud(font_path='C:/Windows/Fonts/malgun.ttf', \n",
    "               background_color='white', max_words=30,\n",
    "               width=400, height=300, random_state = 123)\n",
    "\n",
    "cloud_economic = wc.generate_from_frequencies(count_dic_economic)\n",
    "cloud_economic.to_image()"
   ]
  },
  {
   "cell_type": "markdown",
   "id": "cbca0ed5",
   "metadata": {},
   "source": [
    "### 3) foreign"
   ]
  },
  {
   "cell_type": "code",
   "execution_count": 362,
   "id": "42a70f03",
   "metadata": {},
   "outputs": [
    {
     "data": {
      "image/png": "[encoded data removed]",
      "text/plain": [
       "<PIL.Image.Image image mode=RGB size=400x300 at 0x1BD8A8C4F70>"
      ]
     },
     "execution_count": 362,
     "metadata": {},
     "output_type": "execute_result"
    }
   ],
   "source": [
    "cv = CountVectorizer(tokenizer=nltk.word_tokenize, stop_words=ko_Stopword)\n",
    "\n",
    "tdm_foreign = cv.fit_transform(df_foreign.loc[:, 'content'])\n",
    "\n",
    "word_count_foreign = pd.DataFrame({\n",
    "    '단어': cv.get_feature_names(),\n",
    "    '빈도': tdm_foreign.sum(axis=0).flat\n",
    "})\n",
    "\n",
    "word_count_foreign.set_index('단어')['빈도']\n",
    "count_dic_foreign = word_count_foreign.set_index('단어')['빈도'].to_dict()\n",
    "\n",
    "wc = WordCloud(font_path='C:/Windows/Fonts/malgun.ttf', \n",
    "               background_color='white', max_words=30,\n",
    "               width=400, height=300, random_state = 123)\n",
    "\n",
    "cloud_foreign = wc.generate_from_frequencies(count_dic_foreign)\n",
    "cloud_foreign.to_image()"
   ]
  },
  {
   "cell_type": "markdown",
   "id": "ac31ec57",
   "metadata": {},
   "source": [
    "### 4) culture"
   ]
  },
  {
   "cell_type": "code",
   "execution_count": 363,
   "id": "d9db6c69",
   "metadata": {},
   "outputs": [
    {
     "data": {
      "image/png": "[encoded data removed]",
      "text/plain": [
       "<PIL.Image.Image image mode=RGB size=400x300 at 0x1BD8A7D76A0>"
      ]
     },
     "execution_count": 363,
     "metadata": {},
     "output_type": "execute_result"
    }
   ],
   "source": [
    "cv = CountVectorizer(tokenizer=nltk.word_tokenize, stop_words=ko_Stopword)\n",
    "\n",
    "tdm_culture = cv.fit_transform(df_culture.loc[:, 'content'])\n",
    "\n",
    "word_count_culture = pd.DataFrame({\n",
    "    '단어': cv.get_feature_names(),\n",
    "    '빈도': tdm_culture.sum(axis=0).flat\n",
    "})\n",
    "\n",
    "word_count_culture.set_index('단어')['빈도']\n",
    "count_dic_culture = word_count_culture.set_index('단어')['빈도'].to_dict()\n",
    "\n",
    "wc = WordCloud(font_path='C:/Windows/Fonts/malgun.ttf', \n",
    "               background_color='white', max_words=30,\n",
    "               width=400, height=300, random_state = 123)\n",
    "\n",
    "cloud_culture = wc.generate_from_frequencies(count_dic_culture)\n",
    "cloud_culture.to_image()"
   ]
  },
  {
   "cell_type": "markdown",
   "id": "f5c168cb",
   "metadata": {},
   "source": [
    "### 5) digital"
   ]
  },
  {
   "cell_type": "code",
   "execution_count": 364,
   "id": "4c4a034c",
   "metadata": {},
   "outputs": [
    {
     "data": {
      "image/png": "[encoded data removed]",
      "text/plain": [
       "<PIL.Image.Image image mode=RGB size=400x300 at 0x1BD8A849AF0>"
      ]
     },
     "execution_count": 364,
     "metadata": {},
     "output_type": "execute_result"
    }
   ],
   "source": [
    "cv = CountVectorizer(tokenizer=nltk.word_tokenize, stop_words=ko_Stopword)\n",
    "\n",
    "tdm_digital = cv.fit_transform(df_digital.loc[:, 'content'])\n",
    "\n",
    "word_count_digital = pd.DataFrame({\n",
    "    '단어': cv.get_feature_names(),\n",
    "    '빈도': tdm_digital.sum(axis=0).flat\n",
    "})\n",
    "\n",
    "word_count_digital.set_index('단어')['빈도']\n",
    "count_dic_digital = word_count_digital.set_index('단어')['빈도'].to_dict()\n",
    "\n",
    "wc = WordCloud(font_path='C:/Windows/Fonts/malgun.ttf', \n",
    "               background_color='white', max_words=30,\n",
    "               width=400, height=300, random_state = 123)\n",
    "\n",
    "cloud_digital = wc.generate_from_frequencies(count_dic_digital)\n",
    "cloud_digital.to_image()"
   ]
  },
  {
   "cell_type": "markdown",
   "id": "02034d67",
   "metadata": {},
   "source": [
    "# 5. 전체 기사 TDM"
   ]
  },
  {
   "cell_type": "code",
   "execution_count": 365,
   "id": "ddd9a108",
   "metadata": {},
   "outputs": [],
   "source": [
    "df_politics['label']=0\n",
    "df_economic['label']=1\n",
    "df_foreign['label']=2\n",
    "df_culture['label']=3\n",
    "df_digital['label']=4"
   ]
  },
  {
   "cell_type": "code",
   "execution_count": 368,
   "id": "6aa26edc",
   "metadata": {},
   "outputs": [],
   "source": [
    "df = pd.concat([df_politics,df_economic,df_foreign,df_culture,df_digital], ignore_index=True)"
   ]
  },
  {
   "cell_type": "code",
   "execution_count": 370,
   "id": "fe165687",
   "metadata": {},
   "outputs": [
    {
     "data": {
      "text/plain": [
       "Unnamed: 0    0\n",
       "url           0\n",
       "content       0\n",
       "label         0\n",
       "dtype: int64"
      ]
     },
     "execution_count": 370,
     "metadata": {},
     "output_type": "execute_result"
    }
   ],
   "source": [
    "df.isna().sum()"
   ]
  },
  {
   "cell_type": "code",
   "execution_count": 371,
   "id": "9ac223fd",
   "metadata": {},
   "outputs": [
    {
     "data": {
      "text/plain": [
       "19"
      ]
     },
     "execution_count": 371,
     "metadata": {},
     "output_type": "execute_result"
    }
   ],
   "source": [
    "gc.collect()"
   ]
  },
  {
   "cell_type": "code",
   "execution_count": 372,
   "id": "18628447",
   "metadata": {},
   "outputs": [],
   "source": [
    "tdm = cv.fit_transform(df.loc[:, 'content'])"
   ]
  },
  {
   "cell_type": "code",
   "execution_count": 373,
   "id": "30c43cde",
   "metadata": {},
   "outputs": [],
   "source": [
    "word_count = pd.DataFrame({\n",
    "    '단어': cv.get_feature_names(),\n",
    "    '빈도': tdm.sum(axis=0).flat\n",
    "})"
   ]
  },
  {
   "cell_type": "code",
   "execution_count": 374,
   "id": "7ce0b9b4",
   "metadata": {},
   "outputs": [
    {
     "data": {
      "text/html": [
       "<div>\n",
       "<style scoped>\n",
       "    .dataframe tbody tr th:only-of-type {\n",
       "        vertical-align: middle;\n",
       "    }\n",
       "\n",
       "    .dataframe tbody tr th {\n",
       "        vertical-align: top;\n",
       "    }\n",
       "\n",
       "    .dataframe thead th {\n",
       "        text-align: right;\n",
       "    }\n",
       "</style>\n",
       "<table border=\"1\" class=\"dataframe\">\n",
       "  <thead>\n",
       "    <tr style=\"text-align: right;\">\n",
       "      <th></th>\n",
       "      <th>단어</th>\n",
       "      <th>빈도</th>\n",
       "    </tr>\n",
       "  </thead>\n",
       "  <tbody>\n",
       "    <tr>\n",
       "      <th>21520</th>\n",
       "      <td>미국</td>\n",
       "      <td>342</td>\n",
       "    </tr>\n",
       "    <tr>\n",
       "      <th>44366</th>\n",
       "      <td>윤석열</td>\n",
       "      <td>301</td>\n",
       "    </tr>\n",
       "    <tr>\n",
       "      <th>14785</th>\n",
       "      <td>대통령</td>\n",
       "      <td>288</td>\n",
       "    </tr>\n",
       "    <tr>\n",
       "      <th>45317</th>\n",
       "      <td>이렇게</td>\n",
       "      <td>285</td>\n",
       "    </tr>\n",
       "    <tr>\n",
       "      <th>56533</th>\n",
       "      <td>차</td>\n",
       "      <td>280</td>\n",
       "    </tr>\n",
       "  </tbody>\n",
       "</table>\n",
       "</div>"
      ],
      "text/plain": [
       "        단어   빈도\n",
       "21520   미국  342\n",
       "44366  윤석열  301\n",
       "14785  대통령  288\n",
       "45317  이렇게  285\n",
       "56533    차  280"
      ]
     },
     "execution_count": 374,
     "metadata": {},
     "output_type": "execute_result"
    }
   ],
   "source": [
    "word_count.sort_values('빈도', ascending=False).head()"
   ]
  },
  {
   "cell_type": "code",
   "execution_count": 375,
   "id": "852f3327",
   "metadata": {},
   "outputs": [],
   "source": [
    "word_count.to_csv('data/기사_단어빈도표.csv')"
   ]
  },
  {
   "cell_type": "code",
   "execution_count": 376,
   "id": "93ace9b5",
   "metadata": {},
   "outputs": [],
   "source": [
    "trans = TfidfTransformer()\n",
    "tdm2 = trans.fit_transform(tdm)\n",
    "words = cv.get_feature_names()"
   ]
  },
  {
   "cell_type": "code",
   "execution_count": 377,
   "id": "f2452db4",
   "metadata": {},
   "outputs": [
    {
     "data": {
      "text/plain": [
       "['tdm2.pkl']"
      ]
     },
     "execution_count": 377,
     "metadata": {},
     "output_type": "execute_result"
    }
   ],
   "source": [
    "joblib.dump({'words': words, 'dtm': tdm}, 'tdm.pkl')\n",
    "joblib.dump({'words': words, 'dtm': tdm2}, 'tdm2.pkl')"
   ]
  },
  {
   "cell_type": "code",
   "execution_count": 378,
   "id": "d4be7bd8",
   "metadata": {},
   "outputs": [
    {
     "data": {
      "text/plain": [
       "['ㄱ씨', 'ㄱ씨가', 'ㄱ씨는', 'ㅁ자로', 'ㅅ', 'ㅎㅔㅆ다', '가감', '가거나', '가게', '가게가']"
      ]
     },
     "execution_count": 378,
     "metadata": {},
     "output_type": "execute_result"
    }
   ],
   "source": [
    "words[:10]"
   ]
  },
  {
   "cell_type": "code",
   "execution_count": 379,
   "id": "1641736f",
   "metadata": {},
   "outputs": [
    {
     "data": {
      "text/plain": [
       "0"
      ]
     },
     "execution_count": 379,
     "metadata": {},
     "output_type": "execute_result"
    }
   ],
   "source": [
    "gc.collect()"
   ]
  },
  {
   "cell_type": "markdown",
   "id": "5cc7c354",
   "metadata": {},
   "source": [
    "# 6. 감성분석"
   ]
  },
  {
   "cell_type": "markdown",
   "id": "c064404a",
   "metadata": {},
   "source": [
    "데이터분할"
   ]
  },
  {
   "cell_type": "code",
   "execution_count": 380,
   "id": "85cfdea6",
   "metadata": {},
   "outputs": [],
   "source": [
    "import joblib\n",
    "data = joblib.load('tdm2.pkl')\n",
    "locals().update(data)"
   ]
  },
  {
   "cell_type": "code",
   "execution_count": 381,
   "id": "7d2ea5e8",
   "metadata": {},
   "outputs": [
    {
     "data": {
      "text/html": [
       "<div>\n",
       "<style scoped>\n",
       "    .dataframe tbody tr th:only-of-type {\n",
       "        vertical-align: middle;\n",
       "    }\n",
       "\n",
       "    .dataframe tbody tr th {\n",
       "        vertical-align: top;\n",
       "    }\n",
       "\n",
       "    .dataframe thead th {\n",
       "        text-align: right;\n",
       "    }\n",
       "</style>\n",
       "<table border=\"1\" class=\"dataframe\">\n",
       "  <thead>\n",
       "    <tr style=\"text-align: right;\">\n",
       "      <th></th>\n",
       "      <th>Unnamed: 0</th>\n",
       "      <th>url</th>\n",
       "      <th>content</th>\n",
       "      <th>label</th>\n",
       "    </tr>\n",
       "  </thead>\n",
       "  <tbody>\n",
       "    <tr>\n",
       "      <th>0</th>\n",
       "      <td>0</td>\n",
       "      <td>https://v.daum.net/v/20220615235746243</td>\n",
       "      <td>지난달   일 서울 장충동 신라호텔에서 열린 윤석열 대통령 취임 기념 만찬에서 김건...</td>\n",
       "      <td>0</td>\n",
       "    </tr>\n",
       "    <tr>\n",
       "      <th>1</th>\n",
       "      <td>1</td>\n",
       "      <td>https://v.daum.net/v/20220615235103213</td>\n",
       "      <td>년 서해에서 북한군 총격으로 사망한 해양수산부 공무원이 타고 있던 어업지도선...</td>\n",
       "      <td>0</td>\n",
       "    </tr>\n",
       "    <tr>\n",
       "      <th>2</th>\n",
       "      <td>2</td>\n",
       "      <td>https://v.daum.net/v/20220615235005194</td>\n",
       "      <td>울산 울산시의회는 노후 산업단지 안전 관련 특별법 제정 촉구 건의안을 대통...</td>\n",
       "      <td>0</td>\n",
       "    </tr>\n",
       "    <tr>\n",
       "      <th>3</th>\n",
       "      <td>3</td>\n",
       "      <td>https://v.daum.net/v/20220615233421081</td>\n",
       "      <td>권영세 통일부 장관은 기존의 성과를 토대로 삼지 않고는 더 크고 더 평화로운 미래로...</td>\n",
       "      <td>0</td>\n",
       "    </tr>\n",
       "    <tr>\n",
       "      <th>4</th>\n",
       "      <td>4</td>\n",
       "      <td>https://v.daum.net/v/20220615233419080</td>\n",
       "      <td>국민의힘 의원들이 한상혁 방송통신위원장을 향해 농지법 의혹 보도에 대한 명확한 입장...</td>\n",
       "      <td>0</td>\n",
       "    </tr>\n",
       "  </tbody>\n",
       "</table>\n",
       "</div>"
      ],
      "text/plain": [
       "   Unnamed: 0                                     url  \\\n",
       "0           0  https://v.daum.net/v/20220615235746243   \n",
       "1           1  https://v.daum.net/v/20220615235103213   \n",
       "2           2  https://v.daum.net/v/20220615235005194   \n",
       "3           3  https://v.daum.net/v/20220615233421081   \n",
       "4           4  https://v.daum.net/v/20220615233419080   \n",
       "\n",
       "                                             content  label  \n",
       "0  지난달   일 서울 장충동 신라호텔에서 열린 윤석열 대통령 취임 기념 만찬에서 김건...      0  \n",
       "1      년 서해에서 북한군 총격으로 사망한 해양수산부 공무원이 타고 있던 어업지도선...      0  \n",
       "2       울산 울산시의회는 노후 산업단지 안전 관련 특별법 제정 촉구 건의안을 대통...      0  \n",
       "3  권영세 통일부 장관은 기존의 성과를 토대로 삼지 않고는 더 크고 더 평화로운 미래로...      0  \n",
       "4  국민의힘 의원들이 한상혁 방송통신위원장을 향해 농지법 의혹 보도에 대한 명확한 입장...      0  "
      ]
     },
     "execution_count": 381,
     "metadata": {},
     "output_type": "execute_result"
    }
   ],
   "source": [
    "df.head()"
   ]
  },
  {
   "cell_type": "code",
   "execution_count": 382,
   "id": "cc18aaed",
   "metadata": {},
   "outputs": [
    {
     "data": {
      "text/plain": [
       "array([[1., 0., 0., 0., 0.],\n",
       "       [1., 0., 0., 0., 0.],\n",
       "       [1., 0., 0., 0., 0.],\n",
       "       ...,\n",
       "       [0., 0., 0., 0., 1.],\n",
       "       [0., 0., 0., 0., 1.],\n",
       "       [0., 0., 0., 0., 1.]], dtype=float32)"
      ]
     },
     "execution_count": 382,
     "metadata": {},
     "output_type": "execute_result"
    }
   ],
   "source": [
    "from tensorflow.keras.utils import to_categorical\n",
    "to_categorical(df['label'])"
   ]
  },
  {
   "cell_type": "code",
   "execution_count": 383,
   "id": "363f5fdb",
   "metadata": {},
   "outputs": [],
   "source": [
    "x = dtm\n",
    "y = to_categorical(df['label']) # 시리즈여서 넘파이 어레이 형식으로 바꿔줘야함(시리즈는 머신러닝에 못넣음)\n",
    "x_train, x_test, y_train, y_test = train_test_split(x, y, test_size=0.2, random_state=1984)"
   ]
  },
  {
   "cell_type": "code",
   "execution_count": 384,
   "id": "a89906d1",
   "metadata": {},
   "outputs": [],
   "source": [
    "model = tf.keras.models.Sequential()\n",
    "model.add(tf.keras.layers.Dense(5, activation='softmax')) \n",
    "                               # kernel_regularizer=tf.keras.regularizers.I2(0.001)))\n",
    "# Dense = 선형모형\n",
    "# 그냥 1만 넣어주면 선형모형, 뒤에 저거 넣어주면 로지스틱 회귀분석이 됨"
   ]
  },
  {
   "cell_type": "code",
   "execution_count": 385,
   "id": "850191e8",
   "metadata": {},
   "outputs": [
    {
     "data": {
      "text/plain": [
       "<1367x69561 sparse matrix of type '<class 'numpy.float64'>'\n",
       "\twith 178254 stored elements in Compressed Sparse Row format>"
      ]
     },
     "execution_count": 385,
     "metadata": {},
     "output_type": "execute_result"
    }
   ],
   "source": [
    "dtm"
   ]
  },
  {
   "cell_type": "code",
   "execution_count": 386,
   "id": "acad68ac",
   "metadata": {},
   "outputs": [
    {
     "data": {
      "text/html": [
       "<div>\n",
       "<style scoped>\n",
       "    .dataframe tbody tr th:only-of-type {\n",
       "        vertical-align: middle;\n",
       "    }\n",
       "\n",
       "    .dataframe tbody tr th {\n",
       "        vertical-align: top;\n",
       "    }\n",
       "\n",
       "    .dataframe thead th {\n",
       "        text-align: right;\n",
       "    }\n",
       "</style>\n",
       "<table border=\"1\" class=\"dataframe\">\n",
       "  <thead>\n",
       "    <tr style=\"text-align: right;\">\n",
       "      <th></th>\n",
       "      <th>0</th>\n",
       "      <th>1</th>\n",
       "      <th>2</th>\n",
       "      <th>3</th>\n",
       "      <th>4</th>\n",
       "    </tr>\n",
       "  </thead>\n",
       "  <tbody>\n",
       "    <tr>\n",
       "      <th>0</th>\n",
       "      <td>1.0</td>\n",
       "      <td>0.0</td>\n",
       "      <td>0.0</td>\n",
       "      <td>0.0</td>\n",
       "      <td>0.0</td>\n",
       "    </tr>\n",
       "    <tr>\n",
       "      <th>1</th>\n",
       "      <td>1.0</td>\n",
       "      <td>0.0</td>\n",
       "      <td>0.0</td>\n",
       "      <td>0.0</td>\n",
       "      <td>0.0</td>\n",
       "    </tr>\n",
       "    <tr>\n",
       "      <th>2</th>\n",
       "      <td>1.0</td>\n",
       "      <td>0.0</td>\n",
       "      <td>0.0</td>\n",
       "      <td>0.0</td>\n",
       "      <td>0.0</td>\n",
       "    </tr>\n",
       "    <tr>\n",
       "      <th>3</th>\n",
       "      <td>1.0</td>\n",
       "      <td>0.0</td>\n",
       "      <td>0.0</td>\n",
       "      <td>0.0</td>\n",
       "      <td>0.0</td>\n",
       "    </tr>\n",
       "    <tr>\n",
       "      <th>4</th>\n",
       "      <td>1.0</td>\n",
       "      <td>0.0</td>\n",
       "      <td>0.0</td>\n",
       "      <td>0.0</td>\n",
       "      <td>0.0</td>\n",
       "    </tr>\n",
       "    <tr>\n",
       "      <th>...</th>\n",
       "      <td>...</td>\n",
       "      <td>...</td>\n",
       "      <td>...</td>\n",
       "      <td>...</td>\n",
       "      <td>...</td>\n",
       "    </tr>\n",
       "    <tr>\n",
       "      <th>1362</th>\n",
       "      <td>0.0</td>\n",
       "      <td>0.0</td>\n",
       "      <td>0.0</td>\n",
       "      <td>0.0</td>\n",
       "      <td>1.0</td>\n",
       "    </tr>\n",
       "    <tr>\n",
       "      <th>1363</th>\n",
       "      <td>0.0</td>\n",
       "      <td>0.0</td>\n",
       "      <td>0.0</td>\n",
       "      <td>0.0</td>\n",
       "      <td>1.0</td>\n",
       "    </tr>\n",
       "    <tr>\n",
       "      <th>1364</th>\n",
       "      <td>0.0</td>\n",
       "      <td>0.0</td>\n",
       "      <td>0.0</td>\n",
       "      <td>0.0</td>\n",
       "      <td>1.0</td>\n",
       "    </tr>\n",
       "    <tr>\n",
       "      <th>1365</th>\n",
       "      <td>0.0</td>\n",
       "      <td>0.0</td>\n",
       "      <td>0.0</td>\n",
       "      <td>0.0</td>\n",
       "      <td>1.0</td>\n",
       "    </tr>\n",
       "    <tr>\n",
       "      <th>1366</th>\n",
       "      <td>0.0</td>\n",
       "      <td>0.0</td>\n",
       "      <td>0.0</td>\n",
       "      <td>0.0</td>\n",
       "      <td>1.0</td>\n",
       "    </tr>\n",
       "  </tbody>\n",
       "</table>\n",
       "<p>1367 rows × 5 columns</p>\n",
       "</div>"
      ],
      "text/plain": [
       "        0    1    2    3    4\n",
       "0     1.0  0.0  0.0  0.0  0.0\n",
       "1     1.0  0.0  0.0  0.0  0.0\n",
       "2     1.0  0.0  0.0  0.0  0.0\n",
       "3     1.0  0.0  0.0  0.0  0.0\n",
       "4     1.0  0.0  0.0  0.0  0.0\n",
       "...   ...  ...  ...  ...  ...\n",
       "1362  0.0  0.0  0.0  0.0  1.0\n",
       "1363  0.0  0.0  0.0  0.0  1.0\n",
       "1364  0.0  0.0  0.0  0.0  1.0\n",
       "1365  0.0  0.0  0.0  0.0  1.0\n",
       "1366  0.0  0.0  0.0  0.0  1.0\n",
       "\n",
       "[1367 rows x 5 columns]"
      ]
     },
     "execution_count": 386,
     "metadata": {},
     "output_type": "execute_result"
    }
   ],
   "source": [
    "pd.DataFrame(y)"
   ]
  },
  {
   "cell_type": "markdown",
   "id": "46dd850e",
   "metadata": {},
   "source": [
    "------------------  \n",
    "https://wikidocs.net/22933"
   ]
  },
  {
   "cell_type": "code",
   "execution_count": 387,
   "id": "3df80b3a",
   "metadata": {},
   "outputs": [],
   "source": [
    "from tensorflow.keras.callbacks import EarlyStopping, ModelCheckpoint\n",
    "es = EarlyStopping(monitor='val_loss', mode='min', verbose=1, patience=4)\n",
    "mc = ModelCheckpoint('best_model.h5', monitor='val_acc', mode='max', verbose=1, save_best_only=True)"
   ]
  },
  {
   "cell_type": "markdown",
   "id": "d3d51f21",
   "metadata": {},
   "source": [
    "--------------------"
   ]
  },
  {
   "cell_type": "code",
   "execution_count": 388,
   "id": "9c4d54a6",
   "metadata": {},
   "outputs": [],
   "source": [
    "# optimizer = 어떻게 학습시킬 것인가, adam = 변형된 경사하강법\n",
    "# loss = 손실함수, binary~ = 교차엔트로피, matrics = 평가지표(예측한 값을 확인하기 위해 설정)\n",
    "model.compile(optimizer='adam', loss='categorical_crossentropy', metrics=['accuracy'])"
   ]
  },
  {
   "cell_type": "markdown",
   "id": "8030beb2",
   "metadata": {},
   "source": [
    "https://www.python2.net/questions-841133.htm"
   ]
  },
  {
   "cell_type": "code",
   "execution_count": 389,
   "id": "f100524d",
   "metadata": {},
   "outputs": [
    {
     "name": "stdout",
     "output_type": "stream",
     "text": [
      "Epoch 1/5\n",
      "53/55 [===========================>..] - ETA: 0s - loss: 1.5826 - accuracy: 0.5368WARNING:tensorflow:Early stopping conditioned on metric `val_loss` which is not available. Available metrics are: loss,accuracy\n",
      "WARNING:tensorflow:Can save best model only with val_acc available, skipping.\n",
      "55/55 [==============================] - 1s 7ms/step - loss: 1.5822 - accuracy: 0.5380\n",
      "Epoch 2/5\n",
      "48/55 [=========================>....] - ETA: 0s - loss: 1.4754 - accuracy: 0.8333WARNING:tensorflow:Early stopping conditioned on metric `val_loss` which is not available. Available metrics are: loss,accuracy\n",
      "WARNING:tensorflow:Can save best model only with val_acc available, skipping.\n",
      "55/55 [==============================] - 0s 7ms/step - loss: 1.4724 - accuracy: 0.8298\n",
      "Epoch 3/5\n",
      "48/55 [=========================>....] - ETA: 0s - loss: 1.3716 - accuracy: 0.8458WARNING:tensorflow:Early stopping conditioned on metric `val_loss` which is not available. Available metrics are: loss,accuracy\n",
      "WARNING:tensorflow:Can save best model only with val_acc available, skipping.\n",
      "55/55 [==============================] - 0s 7ms/step - loss: 1.3690 - accuracy: 0.8435\n",
      "Epoch 4/5\n",
      "48/55 [=========================>....] - ETA: 0s - loss: 1.2719 - accuracy: 0.8510WARNING:tensorflow:Early stopping conditioned on metric `val_loss` which is not available. Available metrics are: loss,accuracy\n",
      "WARNING:tensorflow:Can save best model only with val_acc available, skipping.\n",
      "55/55 [==============================] - 0s 7ms/step - loss: 1.2732 - accuracy: 0.8500\n",
      "Epoch 5/5\n",
      "54/55 [============================>.] - ETA: 0s - loss: 1.1862 - accuracy: 0.8528WARNING:tensorflow:Early stopping conditioned on metric `val_loss` which is not available. Available metrics are: loss,accuracy\n",
      "WARNING:tensorflow:Can save best model only with val_acc available, skipping.\n",
      "55/55 [==============================] - 0s 7ms/step - loss: 1.1856 - accuracy: 0.8536\n"
     ]
    },
    {
     "data": {
      "text/plain": [
       "<keras.callbacks.History at 0x1bd975b0be0>"
      ]
     },
     "execution_count": 389,
     "metadata": {},
     "output_type": "execute_result"
    }
   ],
   "source": [
    "model.fit(x_train.A,y_train,epochs=5, batch_size=20, callbacks=[es,mc])#,validation_data=0.1)"
   ]
  },
  {
   "cell_type": "code",
   "execution_count": 390,
   "id": "88c57ad8",
   "metadata": {},
   "outputs": [
    {
     "name": "stdout",
     "output_type": "stream",
     "text": [
      "9/9 [==============================] - 0s 8ms/step - loss: 1.3495 - accuracy: 0.6423\n"
     ]
    },
    {
     "data": {
      "text/plain": [
       "[1.3494668006896973, 0.6423357725143433]"
      ]
     },
     "execution_count": 390,
     "metadata": {},
     "output_type": "execute_result"
    }
   ],
   "source": [
    "model.evaluate(x_test.A, y_test)"
   ]
  },
  {
   "cell_type": "code",
   "execution_count": 391,
   "id": "c684fd1a",
   "metadata": {},
   "outputs": [
    {
     "name": "stdout",
     "output_type": "stream",
     "text": [
      "INFO:tensorflow:Assets written to: f_tdm2.krs\\assets\n"
     ]
    }
   ],
   "source": [
    "model.save('f_tdm2.krs')"
   ]
  },
  {
   "cell_type": "markdown",
   "id": "aa2d5855",
   "metadata": {},
   "source": [
    "# 7. 가중치 분석"
   ]
  },
  {
   "cell_type": "code",
   "execution_count": 392,
   "id": "a2914645",
   "metadata": {},
   "outputs": [],
   "source": [
    "model = tf.keras.models.load_model('f_tdm2.krs')\n",
    "w, b = model.weights"
   ]
  },
  {
   "cell_type": "code",
   "execution_count": 393,
   "id": "eb46a178",
   "metadata": {},
   "outputs": [
    {
     "data": {
      "text/html": [
       "<div>\n",
       "<style scoped>\n",
       "    .dataframe tbody tr th:only-of-type {\n",
       "        vertical-align: middle;\n",
       "    }\n",
       "\n",
       "    .dataframe tbody tr th {\n",
       "        vertical-align: top;\n",
       "    }\n",
       "\n",
       "    .dataframe thead th {\n",
       "        text-align: right;\n",
       "    }\n",
       "</style>\n",
       "<table border=\"1\" class=\"dataframe\">\n",
       "  <thead>\n",
       "    <tr style=\"text-align: right;\">\n",
       "      <th></th>\n",
       "      <th>0</th>\n",
       "      <th>1</th>\n",
       "      <th>2</th>\n",
       "      <th>3</th>\n",
       "      <th>4</th>\n",
       "    </tr>\n",
       "  </thead>\n",
       "  <tbody>\n",
       "    <tr>\n",
       "      <th>0</th>\n",
       "      <td>0.031841</td>\n",
       "      <td>-0.028790</td>\n",
       "      <td>-0.030133</td>\n",
       "      <td>-0.026847</td>\n",
       "      <td>-0.030553</td>\n",
       "    </tr>\n",
       "    <tr>\n",
       "      <th>1</th>\n",
       "      <td>0.025665</td>\n",
       "      <td>-0.037044</td>\n",
       "      <td>-0.032002</td>\n",
       "      <td>-0.029735</td>\n",
       "      <td>-0.036823</td>\n",
       "    </tr>\n",
       "    <tr>\n",
       "      <th>2</th>\n",
       "      <td>0.030446</td>\n",
       "      <td>-0.040278</td>\n",
       "      <td>-0.033572</td>\n",
       "      <td>-0.027005</td>\n",
       "      <td>-0.023414</td>\n",
       "    </tr>\n",
       "    <tr>\n",
       "      <th>3</th>\n",
       "      <td>-0.009257</td>\n",
       "      <td>-0.001078</td>\n",
       "      <td>0.005824</td>\n",
       "      <td>-0.007469</td>\n",
       "      <td>-0.005428</td>\n",
       "    </tr>\n",
       "    <tr>\n",
       "      <th>4</th>\n",
       "      <td>0.036715</td>\n",
       "      <td>-0.024899</td>\n",
       "      <td>-0.034340</td>\n",
       "      <td>-0.036247</td>\n",
       "      <td>-0.031987</td>\n",
       "    </tr>\n",
       "    <tr>\n",
       "      <th>...</th>\n",
       "      <td>...</td>\n",
       "      <td>...</td>\n",
       "      <td>...</td>\n",
       "      <td>...</td>\n",
       "      <td>...</td>\n",
       "    </tr>\n",
       "    <tr>\n",
       "      <th>69556</th>\n",
       "      <td>-0.023049</td>\n",
       "      <td>-0.041159</td>\n",
       "      <td>-0.039327</td>\n",
       "      <td>0.024338</td>\n",
       "      <td>-0.040024</td>\n",
       "    </tr>\n",
       "    <tr>\n",
       "      <th>69557</th>\n",
       "      <td>-0.038626</td>\n",
       "      <td>0.041029</td>\n",
       "      <td>-0.023383</td>\n",
       "      <td>-0.040978</td>\n",
       "      <td>-0.025826</td>\n",
       "    </tr>\n",
       "    <tr>\n",
       "      <th>69558</th>\n",
       "      <td>-0.040554</td>\n",
       "      <td>-0.046870</td>\n",
       "      <td>-0.034161</td>\n",
       "      <td>0.047767</td>\n",
       "      <td>-0.036542</td>\n",
       "    </tr>\n",
       "    <tr>\n",
       "      <th>69559</th>\n",
       "      <td>-0.025680</td>\n",
       "      <td>-0.040032</td>\n",
       "      <td>-0.032069</td>\n",
       "      <td>0.026691</td>\n",
       "      <td>-0.030620</td>\n",
       "    </tr>\n",
       "    <tr>\n",
       "      <th>69560</th>\n",
       "      <td>0.007152</td>\n",
       "      <td>0.006684</td>\n",
       "      <td>0.007062</td>\n",
       "      <td>0.004717</td>\n",
       "      <td>-0.004008</td>\n",
       "    </tr>\n",
       "  </tbody>\n",
       "</table>\n",
       "<p>69561 rows × 5 columns</p>\n",
       "</div>"
      ],
      "text/plain": [
       "              0         1         2         3         4\n",
       "0      0.031841 -0.028790 -0.030133 -0.026847 -0.030553\n",
       "1      0.025665 -0.037044 -0.032002 -0.029735 -0.036823\n",
       "2      0.030446 -0.040278 -0.033572 -0.027005 -0.023414\n",
       "3     -0.009257 -0.001078  0.005824 -0.007469 -0.005428\n",
       "4      0.036715 -0.024899 -0.034340 -0.036247 -0.031987\n",
       "...         ...       ...       ...       ...       ...\n",
       "69556 -0.023049 -0.041159 -0.039327  0.024338 -0.040024\n",
       "69557 -0.038626  0.041029 -0.023383 -0.040978 -0.025826\n",
       "69558 -0.040554 -0.046870 -0.034161  0.047767 -0.036542\n",
       "69559 -0.025680 -0.040032 -0.032069  0.026691 -0.030620\n",
       "69560  0.007152  0.006684  0.007062  0.004717 -0.004008\n",
       "\n",
       "[69561 rows x 5 columns]"
      ]
     },
     "execution_count": 393,
     "metadata": {},
     "output_type": "execute_result"
    }
   ],
   "source": [
    "pd.DataFrame(w.numpy())"
   ]
  },
  {
   "cell_type": "code",
   "execution_count": 394,
   "id": "55ea406f",
   "metadata": {},
   "outputs": [
    {
     "data": {
      "text/plain": [
       "array([ 0.03184088,  0.02566502,  0.03044578, ..., -0.04055436,\n",
       "       -0.02567997,  0.0071517 ], dtype=float32)"
      ]
     },
     "execution_count": 394,
     "metadata": {},
     "output_type": "execute_result"
    }
   ],
   "source": [
    "w.numpy()[:,0]"
   ]
  },
  {
   "cell_type": "code",
   "execution_count": 395,
   "id": "7f6dfd05",
   "metadata": {},
   "outputs": [],
   "source": [
    "import pandas as pd\n",
    "word_sent = pd.DataFrame({'토큰': data['words'], '가중치_0': w.numpy()[:,0],\n",
    "                          '가중치_1': w.numpy()[:,1], '가중치_2': w.numpy()[:,2],\n",
    "                         '가중치_3': w.numpy()[:,3], '가중치_4': w.numpy()[:,4]})"
   ]
  },
  {
   "cell_type": "code",
   "execution_count": 396,
   "id": "14ddd901",
   "metadata": {},
   "outputs": [
    {
     "data": {
      "text/html": [
       "<div>\n",
       "<style scoped>\n",
       "    .dataframe tbody tr th:only-of-type {\n",
       "        vertical-align: middle;\n",
       "    }\n",
       "\n",
       "    .dataframe tbody tr th {\n",
       "        vertical-align: top;\n",
       "    }\n",
       "\n",
       "    .dataframe thead th {\n",
       "        text-align: right;\n",
       "    }\n",
       "</style>\n",
       "<table border=\"1\" class=\"dataframe\">\n",
       "  <thead>\n",
       "    <tr style=\"text-align: right;\">\n",
       "      <th></th>\n",
       "      <th>토큰</th>\n",
       "      <th>가중치_0</th>\n",
       "    </tr>\n",
       "  </thead>\n",
       "  <tbody>\n",
       "    <tr>\n",
       "      <th>44366</th>\n",
       "      <td>윤석열</td>\n",
       "      <td>0.197258</td>\n",
       "    </tr>\n",
       "    <tr>\n",
       "      <th>6912</th>\n",
       "      <td>국민의힘</td>\n",
       "      <td>0.168744</td>\n",
       "    </tr>\n",
       "    <tr>\n",
       "      <th>40320</th>\n",
       "      <td>열린</td>\n",
       "      <td>0.166397</td>\n",
       "    </tr>\n",
       "    <tr>\n",
       "      <th>14785</th>\n",
       "      <td>대통령</td>\n",
       "      <td>0.165915</td>\n",
       "    </tr>\n",
       "    <tr>\n",
       "      <th>47906</th>\n",
       "      <td>입장을</td>\n",
       "      <td>0.158061</td>\n",
       "    </tr>\n",
       "    <tr>\n",
       "      <th>44833</th>\n",
       "      <td>의원</td>\n",
       "      <td>0.156356</td>\n",
       "    </tr>\n",
       "    <tr>\n",
       "      <th>37676</th>\n",
       "      <td>앞서</td>\n",
       "      <td>0.151696</td>\n",
       "    </tr>\n",
       "    <tr>\n",
       "      <th>26666</th>\n",
       "      <td>북한의</td>\n",
       "      <td>0.151629</td>\n",
       "    </tr>\n",
       "    <tr>\n",
       "      <th>44875</th>\n",
       "      <td>의원은</td>\n",
       "      <td>0.151203</td>\n",
       "    </tr>\n",
       "    <tr>\n",
       "      <th>14838</th>\n",
       "      <td>대통령이</td>\n",
       "      <td>0.150693</td>\n",
       "    </tr>\n",
       "  </tbody>\n",
       "</table>\n",
       "</div>"
      ],
      "text/plain": [
       "         토큰     가중치_0\n",
       "44366   윤석열  0.197258\n",
       "6912   국민의힘  0.168744\n",
       "40320    열린  0.166397\n",
       "14785   대통령  0.165915\n",
       "47906   입장을  0.158061\n",
       "44833    의원  0.156356\n",
       "37676    앞서  0.151696\n",
       "26666   북한의  0.151629\n",
       "44875   의원은  0.151203\n",
       "14838  대통령이  0.150693"
      ]
     },
     "execution_count": 396,
     "metadata": {},
     "output_type": "execute_result"
    }
   ],
   "source": [
    "word_sent.sort_values('가중치_0')[['토큰','가중치_0']].sort_values('가중치_0', ascending = False).head(10) # 정치 기사"
   ]
  },
  {
   "cell_type": "code",
   "execution_count": 397,
   "id": "67df8332",
   "metadata": {},
   "outputs": [
    {
     "data": {
      "text/html": [
       "<div>\n",
       "<style scoped>\n",
       "    .dataframe tbody tr th:only-of-type {\n",
       "        vertical-align: middle;\n",
       "    }\n",
       "\n",
       "    .dataframe tbody tr th {\n",
       "        vertical-align: top;\n",
       "    }\n",
       "\n",
       "    .dataframe thead th {\n",
       "        text-align: right;\n",
       "    }\n",
       "</style>\n",
       "<table border=\"1\" class=\"dataframe\">\n",
       "  <thead>\n",
       "    <tr style=\"text-align: right;\">\n",
       "      <th></th>\n",
       "      <th>토큰</th>\n",
       "      <th>가중치_1</th>\n",
       "    </tr>\n",
       "  </thead>\n",
       "  <tbody>\n",
       "    <tr>\n",
       "      <th>43736</th>\n",
       "      <td>유가</td>\n",
       "      <td>0.135520</td>\n",
       "    </tr>\n",
       "    <tr>\n",
       "      <th>14405</th>\n",
       "      <td>대비</td>\n",
       "      <td>0.134349</td>\n",
       "    </tr>\n",
       "    <tr>\n",
       "      <th>65233</th>\n",
       "      <td>한국경제</td>\n",
       "      <td>0.133098</td>\n",
       "    </tr>\n",
       "    <tr>\n",
       "      <th>67941</th>\n",
       "      <td>화물연대는</td>\n",
       "      <td>0.128151</td>\n",
       "    </tr>\n",
       "    <tr>\n",
       "      <th>65235</th>\n",
       "      <td>한국경제티브이</td>\n",
       "      <td>0.125723</td>\n",
       "    </tr>\n",
       "    <tr>\n",
       "      <th>21520</th>\n",
       "      <td>미국</td>\n",
       "      <td>0.125371</td>\n",
       "    </tr>\n",
       "    <tr>\n",
       "      <th>7183</th>\n",
       "      <td>국토교통부와</td>\n",
       "      <td>0.123501</td>\n",
       "    </tr>\n",
       "    <tr>\n",
       "      <th>40081</th>\n",
       "      <td>연방준비제도</td>\n",
       "      <td>0.122411</td>\n",
       "    </tr>\n",
       "    <tr>\n",
       "      <th>46678</th>\n",
       "      <td>인상</td>\n",
       "      <td>0.120966</td>\n",
       "    </tr>\n",
       "    <tr>\n",
       "      <th>17184</th>\n",
       "      <td>따른</td>\n",
       "      <td>0.120768</td>\n",
       "    </tr>\n",
       "  </tbody>\n",
       "</table>\n",
       "</div>"
      ],
      "text/plain": [
       "            토큰     가중치_1\n",
       "43736       유가  0.135520\n",
       "14405       대비  0.134349\n",
       "65233     한국경제  0.133098\n",
       "67941    화물연대는  0.128151\n",
       "65235  한국경제티브이  0.125723\n",
       "21520       미국  0.125371\n",
       "7183    국토교통부와  0.123501\n",
       "40081   연방준비제도  0.122411\n",
       "46678       인상  0.120966\n",
       "17184       따른  0.120768"
      ]
     },
     "execution_count": 397,
     "metadata": {},
     "output_type": "execute_result"
    }
   ],
   "source": [
    "word_sent.sort_values('가중치_1')[['토큰','가중치_1']].sort_values('가중치_1', ascending = False).head(10) # 경제 기사"
   ]
  },
  {
   "cell_type": "code",
   "execution_count": 398,
   "id": "1165b2e8",
   "metadata": {},
   "outputs": [
    {
     "data": {
      "text/html": [
       "<div>\n",
       "<style scoped>\n",
       "    .dataframe tbody tr th:only-of-type {\n",
       "        vertical-align: middle;\n",
       "    }\n",
       "\n",
       "    .dataframe tbody tr th {\n",
       "        vertical-align: top;\n",
       "    }\n",
       "\n",
       "    .dataframe thead th {\n",
       "        text-align: right;\n",
       "    }\n",
       "</style>\n",
       "<table border=\"1\" class=\"dataframe\">\n",
       "  <thead>\n",
       "    <tr style=\"text-align: right;\">\n",
       "      <th></th>\n",
       "      <th>토큰</th>\n",
       "      <th>가중치_2</th>\n",
       "    </tr>\n",
       "  </thead>\n",
       "  <tbody>\n",
       "    <tr>\n",
       "      <th>42965</th>\n",
       "      <td>워싱턴</td>\n",
       "      <td>0.090781</td>\n",
       "    </tr>\n",
       "    <tr>\n",
       "      <th>21543</th>\n",
       "      <td>미국의</td>\n",
       "      <td>0.090146</td>\n",
       "    </tr>\n",
       "    <tr>\n",
       "      <th>17666</th>\n",
       "      <td>러시아</td>\n",
       "      <td>0.088777</td>\n",
       "    </tr>\n",
       "    <tr>\n",
       "      <th>62320</th>\n",
       "      <td>특파원</td>\n",
       "      <td>0.088717</td>\n",
       "    </tr>\n",
       "    <tr>\n",
       "      <th>67288</th>\n",
       "      <td>현지</td>\n",
       "      <td>0.085917</td>\n",
       "    </tr>\n",
       "    <tr>\n",
       "      <th>54161</th>\n",
       "      <td>중국</td>\n",
       "      <td>0.079556</td>\n",
       "    </tr>\n",
       "    <tr>\n",
       "      <th>25183</th>\n",
       "      <td>보도했다</td>\n",
       "      <td>0.079235</td>\n",
       "    </tr>\n",
       "    <tr>\n",
       "      <th>8934</th>\n",
       "      <td>기사내용</td>\n",
       "      <td>0.079021</td>\n",
       "    </tr>\n",
       "    <tr>\n",
       "      <th>42182</th>\n",
       "      <td>요약</td>\n",
       "      <td>0.075201</td>\n",
       "    </tr>\n",
       "    <tr>\n",
       "      <th>21540</th>\n",
       "      <td>미국으로</td>\n",
       "      <td>0.074935</td>\n",
       "    </tr>\n",
       "  </tbody>\n",
       "</table>\n",
       "</div>"
      ],
      "text/plain": [
       "         토큰     가중치_2\n",
       "42965   워싱턴  0.090781\n",
       "21543   미국의  0.090146\n",
       "17666   러시아  0.088777\n",
       "62320   특파원  0.088717\n",
       "67288    현지  0.085917\n",
       "54161    중국  0.079556\n",
       "25183  보도했다  0.079235\n",
       "8934   기사내용  0.079021\n",
       "42182    요약  0.075201\n",
       "21540  미국으로  0.074935"
      ]
     },
     "execution_count": 398,
     "metadata": {},
     "output_type": "execute_result"
    }
   ],
   "source": [
    "word_sent.sort_values('가중치_2')[['토큰','가중치_2']].sort_values('가중치_2', ascending = False).head(10) # 국제 기사"
   ]
  },
  {
   "cell_type": "code",
   "execution_count": 399,
   "id": "17901bb1",
   "metadata": {},
   "outputs": [
    {
     "data": {
      "text/html": [
       "<div>\n",
       "<style scoped>\n",
       "    .dataframe tbody tr th:only-of-type {\n",
       "        vertical-align: middle;\n",
       "    }\n",
       "\n",
       "    .dataframe tbody tr th {\n",
       "        vertical-align: top;\n",
       "    }\n",
       "\n",
       "    .dataframe thead th {\n",
       "        text-align: right;\n",
       "    }\n",
       "</style>\n",
       "<table border=\"1\" class=\"dataframe\">\n",
       "  <thead>\n",
       "    <tr style=\"text-align: right;\">\n",
       "      <th></th>\n",
       "      <th>토큰</th>\n",
       "      <th>가중치_3</th>\n",
       "    </tr>\n",
       "  </thead>\n",
       "  <tbody>\n",
       "    <tr>\n",
       "      <th>67040</th>\n",
       "      <td>헬스조선</td>\n",
       "      <td>0.140308</td>\n",
       "    </tr>\n",
       "    <tr>\n",
       "      <th>1292</th>\n",
       "      <td>강원</td>\n",
       "      <td>0.134253</td>\n",
       "    </tr>\n",
       "    <tr>\n",
       "      <th>58275</th>\n",
       "      <td>최고</td>\n",
       "      <td>0.133443</td>\n",
       "    </tr>\n",
       "    <tr>\n",
       "      <th>32200</th>\n",
       "      <td>소나기가</td>\n",
       "      <td>0.128175</td>\n",
       "    </tr>\n",
       "    <tr>\n",
       "      <th>15342</th>\n",
       "      <td>도로</td>\n",
       "      <td>0.124150</td>\n",
       "    </tr>\n",
       "    <tr>\n",
       "      <th>8971</th>\n",
       "      <td>기상캐스터</td>\n",
       "      <td>0.117041</td>\n",
       "    </tr>\n",
       "    <tr>\n",
       "      <th>60844</th>\n",
       "      <td>클립아트코리아</td>\n",
       "      <td>0.116978</td>\n",
       "    </tr>\n",
       "    <tr>\n",
       "      <th>36792</th>\n",
       "      <td>아침</td>\n",
       "      <td>0.116332</td>\n",
       "    </tr>\n",
       "    <tr>\n",
       "      <th>39829</th>\n",
       "      <td>연구</td>\n",
       "      <td>0.112512</td>\n",
       "    </tr>\n",
       "    <tr>\n",
       "      <th>4655</th>\n",
       "      <td>곳곳에</td>\n",
       "      <td>0.112024</td>\n",
       "    </tr>\n",
       "  </tbody>\n",
       "</table>\n",
       "</div>"
      ],
      "text/plain": [
       "            토큰     가중치_3\n",
       "67040     헬스조선  0.140308\n",
       "1292        강원  0.134253\n",
       "58275       최고  0.133443\n",
       "32200     소나기가  0.128175\n",
       "15342       도로  0.124150\n",
       "8971     기상캐스터  0.117041\n",
       "60844  클립아트코리아  0.116978\n",
       "36792       아침  0.116332\n",
       "39829       연구  0.112512\n",
       "4655       곳곳에  0.112024"
      ]
     },
     "execution_count": 399,
     "metadata": {},
     "output_type": "execute_result"
    }
   ],
   "source": [
    "word_sent.sort_values('가중치_3')[['토큰','가중치_3']].sort_values('가중치_3', ascending = False).head(10) # 문화 기사"
   ]
  },
  {
   "cell_type": "code",
   "execution_count": 400,
   "id": "4328cab9",
   "metadata": {},
   "outputs": [
    {
     "data": {
      "text/html": [
       "<div>\n",
       "<style scoped>\n",
       "    .dataframe tbody tr th:only-of-type {\n",
       "        vertical-align: middle;\n",
       "    }\n",
       "\n",
       "    .dataframe tbody tr th {\n",
       "        vertical-align: top;\n",
       "    }\n",
       "\n",
       "    .dataframe thead th {\n",
       "        text-align: right;\n",
       "    }\n",
       "</style>\n",
       "<table border=\"1\" class=\"dataframe\">\n",
       "  <thead>\n",
       "    <tr style=\"text-align: right;\">\n",
       "      <th></th>\n",
       "      <th>토큰</th>\n",
       "      <th>가중치_4</th>\n",
       "    </tr>\n",
       "  </thead>\n",
       "  <tbody>\n",
       "    <tr>\n",
       "      <th>12697</th>\n",
       "      <td>누리호</td>\n",
       "      <td>0.165815</td>\n",
       "    </tr>\n",
       "    <tr>\n",
       "      <th>23097</th>\n",
       "      <td>발사</td>\n",
       "      <td>0.164112</td>\n",
       "    </tr>\n",
       "    <tr>\n",
       "      <th>23173</th>\n",
       "      <td>발사체</td>\n",
       "      <td>0.146999</td>\n",
       "    </tr>\n",
       "    <tr>\n",
       "      <th>4530</th>\n",
       "      <td>고흥</td>\n",
       "      <td>0.146197</td>\n",
       "    </tr>\n",
       "    <tr>\n",
       "      <th>65449</th>\n",
       "      <td>한국항공우주연구원</td>\n",
       "      <td>0.143313</td>\n",
       "    </tr>\n",
       "    <tr>\n",
       "      <th>23098</th>\n",
       "      <td>발사가</td>\n",
       "      <td>0.141991</td>\n",
       "    </tr>\n",
       "    <tr>\n",
       "      <th>12703</th>\n",
       "      <td>누리호를</td>\n",
       "      <td>0.141487</td>\n",
       "    </tr>\n",
       "    <tr>\n",
       "      <th>52653</th>\n",
       "      <td>조립동에서</td>\n",
       "      <td>0.138250</td>\n",
       "    </tr>\n",
       "    <tr>\n",
       "      <th>8955</th>\n",
       "      <td>기상</td>\n",
       "      <td>0.137137</td>\n",
       "    </tr>\n",
       "    <tr>\n",
       "      <th>12700</th>\n",
       "      <td>누리호는</td>\n",
       "      <td>0.136980</td>\n",
       "    </tr>\n",
       "  </tbody>\n",
       "</table>\n",
       "</div>"
      ],
      "text/plain": [
       "              토큰     가중치_4\n",
       "12697        누리호  0.165815\n",
       "23097         발사  0.164112\n",
       "23173        발사체  0.146999\n",
       "4530          고흥  0.146197\n",
       "65449  한국항공우주연구원  0.143313\n",
       "23098        발사가  0.141991\n",
       "12703       누리호를  0.141487\n",
       "52653      조립동에서  0.138250\n",
       "8955          기상  0.137137\n",
       "12700       누리호는  0.136980"
      ]
     },
     "execution_count": 400,
     "metadata": {},
     "output_type": "execute_result"
    }
   ],
   "source": [
    "word_sent.sort_values('가중치_4')[['토큰','가중치_4']].sort_values('가중치_4', ascending = False).head(10) # IT 기사"
   ]
  },
  {
   "cell_type": "markdown",
   "id": "3e8ef7dd",
   "metadata": {},
   "source": [
    "# 8. 주제분석"
   ]
  },
  {
   "cell_type": "code",
   "execution_count": 401,
   "id": "b7628cc3",
   "metadata": {},
   "outputs": [
    {
     "data": {
      "text/plain": [
       "3133"
      ]
     },
     "execution_count": 401,
     "metadata": {},
     "output_type": "execute_result"
    }
   ],
   "source": [
    "gc.collect()"
   ]
  },
  {
   "cell_type": "code",
   "execution_count": 402,
   "id": "4b82dee4",
   "metadata": {},
   "outputs": [],
   "source": [
    "warnings.filterwarnings(\"ignore\", category=DeprecationWarning)"
   ]
  },
  {
   "cell_type": "code",
   "execution_count": 403,
   "id": "71d42aa1",
   "metadata": {},
   "outputs": [],
   "source": [
    "pyLDAvis.enable_notebook()"
   ]
  },
  {
   "cell_type": "code",
   "execution_count": 404,
   "id": "254de7ac",
   "metadata": {},
   "outputs": [],
   "source": [
    "token_re = re.compile(r'\\b\\w{2,}\\b', re.UNICODE)\n",
    "def tokenizer(text):\n",
    "    text = text.lower()\n",
    "    words = []\n",
    "    for word in token_re.findall(text):\n",
    "        if word not in ko_Stopword:\n",
    "            words.append(word)\n",
    "    return words\n",
    "\n",
    "docs = []\n",
    "for text in df.content:\n",
    "    doc = tokenizer(text)\n",
    "    docs.append(doc)\n",
    "\n",
    "dic = Dictionary(docs)\n",
    "\n",
    "corpus = []\n",
    "for doc in docs:\n",
    "    bow = dic.doc2bow(doc)\n",
    "    corpus.append(bow)\n",
    "\n",
    "dic.filter_extremes(no_below=10, no_above=0.7)\n",
    "\n",
    "corpus = []\n",
    "for doc in docs:\n",
    "    bow = dic.doc2bow(doc)\n",
    "    corpus.append(bow)"
   ]
  },
  {
   "cell_type": "code",
   "execution_count": 405,
   "id": "7dd68ffb",
   "metadata": {},
   "outputs": [
    {
     "data": {
      "text/plain": [
       "0"
      ]
     },
     "execution_count": 405,
     "metadata": {},
     "output_type": "execute_result"
    }
   ],
   "source": [
    "gc.collect()"
   ]
  },
  {
   "cell_type": "code",
   "execution_count": 406,
   "id": "9549195b",
   "metadata": {},
   "outputs": [],
   "source": [
    "train_corpus, valid_corpus = train_test_split(corpus, test_size=0.1, random_state=0)"
   ]
  },
  {
   "cell_type": "code",
   "execution_count": 413,
   "id": "afd107bc",
   "metadata": {},
   "outputs": [],
   "source": [
    "model = LdaModel(\n",
    "    corpus=train_corpus,\n",
    "    id2word=dic,\n",
    "    num_topics=5,\n",
    "    random_state=0)"
   ]
  },
  {
   "cell_type": "code",
   "execution_count": 414,
   "id": "bf7aeecc",
   "metadata": {},
   "outputs": [
    {
     "data": {
      "text/plain": [
       "-9.968322392405167"
      ]
     },
     "execution_count": 414,
     "metadata": {},
     "output_type": "execute_result"
    }
   ],
   "source": [
    "old_loss = -numpy.inf\n",
    "loss = model.log_perplexity(valid_corpus)\n",
    "loss"
   ]
  },
  {
   "cell_type": "code",
   "execution_count": 415,
   "id": "58300550",
   "metadata": {},
   "outputs": [
    {
     "name": "stdout",
     "output_type": "stream",
     "text": [
      "-10.041236811399493\n"
     ]
    }
   ],
   "source": [
    "while loss > old_loss + 0.1:\n",
    "    model.update(train_corpus)\n",
    "    old_loss = loss\n",
    "    loss = model.log_perplexity(valid_corpus)\n",
    "    print(loss)"
   ]
  },
  {
   "cell_type": "code",
   "execution_count": 416,
   "id": "290686ec",
   "metadata": {},
   "outputs": [],
   "source": [
    "model.save('lda-model')"
   ]
  },
  {
   "cell_type": "code",
   "execution_count": 417,
   "id": "236e6eda",
   "metadata": {},
   "outputs": [
    {
     "data": {
      "text/html": [
       "\n",
       "<link rel=\"stylesheet\" type=\"text/css\" href=\"https://cdn.rawgit.com/bmabey/pyLDAvis/files/ldavis.v1.0.0.css\">\n",
       "\n",
       "\n",
       "<div id=\"ldavis_el969219138015154089800605259\"></div>\n",
       "<script type=\"text/javascript\">\n",
       "\n",
       "var ldavis_el969219138015154089800605259_data = {\"mdsDat\": {\"x\": [0.11204262438426169, -0.10282703695233956, 0.030397126723482094, -0.04149092609139533, 0.001878211935991272], \"y\": [-0.05148289533940053, -0.046491821173823306, 0.0829751257579114, 0.03603288889579662, -0.021033298140484182], \"topics\": [1, 2, 3, 4, 5], \"cluster\": [1, 1, 1, 1, 1], \"Freq\": [16.598590433471415, 15.960875392977373, 20.543964969866824, 23.245659251943234, 23.650909951741152]}, \"tinfo\": {\"Term\": [\"\\ub204\\ub9ac\\ud638\", \"\\ubc1c\\uc0ac\", \"\\ud654\\ubb3c\\uc5f0\\ub300\", \"\\uc548\\uc804\\uc6b4\\uc784\\uc81c\", \"\\uac8c\\uc784\", \"\\uc724\\uc11d\\uc5f4\", \"\\ud654\\ubb3c\\uc5f0\\ub300\\ub294\", \"\\uc774\\uc1a1\", \"\\ub300\\ud1b5\\ub839\", \"\\uce58\\ub8cc\", \"\\uc18c\\ub098\\uae30\\uac00\", \"\\uad6d\\ud1a0\\ubd80\\ub294\", \"\\ubc1c\\uc0ac\\uccb4\", \"\\ubd81\\ud55c\\uc758\", \"\\ubc29\\uc0ac\\ud3ec\", \"\\uc774\\uc7ac\\uba85\", \"\\ucd1d\\ud30c\\uc5c5\", \"\\uc218\\ubc15\", \"\\uc774\\ub807\\uac8c\", \"\\ub300\\ud1b5\\ub839\\uc2e4\\uc740\", \"\\uc804\\ub144\", \"\\ucc28\\uc7a5\", \"\\uae40\\uac74\\ud76c\", \"\\ubb3c\\ub958\", \"\\ubd81\\ud55c\\uc774\", \"\\ud654\\ubb3c\\uc5f0\\ub300\\uc758\", \"\\uac24\\ub7ed\\uc2dc\", \"\\uc0c1\\ud669\\uc744\", \"\\ub274\\uc2dc\\uc2a4\", \"\\uc758\\uc6d0\\uc774\", \"\\uacbd\\uc0c1\\uc218\\uc9c0\", \"\\uc7ac\\ubb34\\ubd80\\ub294\", \"\\uad00\\ucc30\\ub300\\uc0c1\\uad6d\\uc5d0\", \"\\uad50\\uc12d\\uc744\", \"\\uad6d\\ud1a0\\uad50\\ud1b5\\ubd80\\uc640\", \"\\ud751\\uc790\", \"\\ucd1d\\ud30c\\uc5c5\", \"\\uad00\\ucc30\\ub300\\uc0c1\\uad6d\\uc73c\\ub85c\", \"\\uc758\\uc655\", \"\\uc758\\uc655\\uc2dc\", \"\\uc2e4\\ubb34\\uad50\\uc12d\\uc5d0\\uc11c\", \"\\ud654\\ubb3c\\uc5f0\\ub300\\ub294\", \"\\ub0b4\\ub959\\ucee8\\ud14c\\uc774\\ub108\\uae30\\uc9c0\", \"\\uc548\\uc804\\uc6b4\\uc784\", \"\\ub0b4\\ub959\\ubb3c\\ub958\\uae30\\uc9c0\", \"\\ucca0\\ud68c\\ud558\\uace0\", \"\\uc18c\\ub098\\uae30\\uac00\", \"\\uc644\\ub8cc\\ub418\\ub294\", \"\\ucd1d\\ud30c\\uc5c5\\uc744\", \"\\uc2e4\\ubb34\\ub300\\ud654\\ub97c\", \"\\uc804\\uad6d\\uc774\", \"\\ubcf5\\uadc0\\ud558\\uae30\\ub85c\", \"\\ubc14\\ub2e4\\uc758\", \"\\uc2dc\\uba58\\ud2b8\", \"\\uc720\\uac00\\ubcf4\\uc870\\uae08\", \"\\uae30\\uc628\", \"\\uc601\\uc11c\", \"\\uc9d1\\ub2e8\\uc6b4\\uc1a1\\uac70\\ubd80\\ub97c\", \"\\ud654\\ubb3c\\ucc28\\uc8fc\\uc758\", \"\\uc6b4\\uc1a1\\ub8cc\", \"\\ud654\\ubb3c\\uc5f0\\ub300\\uc758\", \"\\ud654\\ubb3c\\uc790\\ub3d9\\ucc28\", \"\\uae30\\uc628\\uc740\", \"\\uad6d\\ud1a0\\ubd80\\ub294\", \"\\ub3c4\\ub85c\", \"\\uc548\\uc804\\uc6b4\\uc784\\uc81c\", \"\\ud654\\ubb3c\\uc5f0\\ub300\\uac00\", \"\\uc2a4\\ud0c0\\ud2b8\\uc5c5\", \"\\ud654\\ubb3c\\uc5f0\\ub300\", \"\\ud658\\uc728\", \"\\uc77c\\uc9f8\\uc778\", \"\\uc2dc\\ud589\", \"\\ubb3c\\ub958\", \"\\uac15\\uc6d0\", \"\\ubbfc\\uc8fc\\ub178\\ucd1d\", \"\\ud655\\ub300\", \"\\uacbd\\uae30\\ub3c4\", \"\\uc548\\uc804\\uc6b4\\uc784\\uc81c\\ub97c\", \"\\ud654\\ubb3c\\uc5f0\\ub300\\uc640\", \"\\uc624\\ub298\\ubcf4\\ub2e4\", \"\\ucf54\\ub85c\\ub098\", \"\\uc9c0\\uc18d\", \"\\uc804\\uad6d\", \"\\ub300\\ud45c\\ub294\", \"\\uc77c\\ubcf8\", \"\\uc9c0\\uc6d0\", \"\\uacbd\\uae30\", \"\\uc62c\\ud574\", \"\\uc77c\\ubd80\\ud130\", \"\\uc11c\\ube44\\uc2a4\", \"\\ubbf8\\uad6d\", \"\\uc774\\uc5b4\", \"\\uc5f4\\ub9b0\", \"\\ucd5c\\uace0\", \"\\ub300\\ud45c\", \"\\ub274\\uc2dc\\uc2a4\", \"\\uad6d\\ubbfc\\uc758\\ud798\", \"\\uc774\\uc5d0\", \"\\uc774\\ub77c\\uba70\", \"\\uad6d\\ub0b4\", \"\\ubc29\\uc0ac\\ud3ec\\uc758\", \"\\uc624\\ub298\\ucc98\\ub7fc\", \"\\uc0ac\\uac70\\ub9ac\\uac00\", \"\\uc774\\ubb38\\ud76c\", \"\\uc2e0\\uc778\\ud638\", \"\\ubc1c\\ud45c\\ud558\\uc9c0\", \"\\ubc31\\ud0dc\\ud604\", \"\\ud1b5\\uc77c\\ube44\\uc11c\\uad00\", \"\\ub300\\uc751\\ud55c\\ub2e4\\ub294\", \"\\ucc28\\uc7a5\", \"\\uc704\\uae30\\uad00\\ub9ac\\uc13c\\ud130\\uc7a5\", \"\\uc678\\uad50\\ube44\\uc11c\\uad00\", \"\\uc5c4\\uc815\\ud558\\uac8c\", \"\\uc810\\uac80\\ud558\\uba74\\uc11c\", \"\\ub300\\uc751\\ud588\\uc73c\\ub098\", \"\\uad6d\\uac00\\uc548\\ubcf4\\uc2e4\", \"\\uae40\\ud0dc\\ud6a8\", \"\\ucc28\\ubd84\\ud558\\uace0\\ub3c4\", \"\\uad6d\\uac00\\uc548\\ubcf4\\uc2e4\\uc740\", \"\\uc548\\ubcf4\\uc0c1\\ud669\\uc810\\uac80\\ud68c\\uc758\\ub97c\", \"\\uac1c\\ub7c9\\ud558\\uace0\", \"\\uc784\\uc0c1\\ubc94\", \"\\uae30\\ubbfc\\ud558\\uac8c\", \"\\ub300\\ube44\\ud0dc\\uc138\\ub97c\", \"\\uad8c\\uc601\\ud638\", \"\\ucc38\\uc11d\\uc790\\ub4e4\\uc740\", \"\\uad6d\\ubc29\\ube44\\uc11c\\uad00\", \"\\uace0\\ub3c4\\uac00\", \"\\uc548\\ubcf4\\uc804\\ub7b5\\ube44\\uc11c\\uad00\", \"\\ubb34\\uae30\\uccb4\\uacc4\\ub97c\", \"\\uac8c\\uc784\", \"\\uae40\\uc131\\ud55c\", \"\\uc870\\ub9bd\\ub3d9\\uc73c\\ub85c\", \"\\ubc1c\\uc0ac\\ub300\\uc5d0\", \"\\uc7ac\\ub798\\uc2dd\", \"\\uc9c8\\ubb38\", \"\\ubc29\\uc0ac\\ud3ec\", \"\\ubc29\\uc0ac\\ud3ec\\ub85c\", \"\\uc8fc\\uc7ac\\ub85c\", \"\\ub300\\ud1b5\\ub839\\uc2e4\\uc740\", \"\\uc13c\\uc11c\", \"\\uc774\\uc1a1\", \"\\ud68c\\uc758\", \"\\ucc9c\\ub9cc\", \"\\ub2f9\\uc120\\uc778\\uc740\", \"\\ub204\\ub9ac\\ud638\", \"\\uc0b0\\ud654\\uc81c\", \"\\ubc1c\\uc0ac\\ub97c\", \"\\ub204\\ub9ac\\ud638\\ub97c\", \"\\uc0c1\\ud669\\uc744\", \"\\uc5ec\\ubd80\\ub97c\", \"\\ucd1d\\uad04\", \"\\ubd81\\ud55c\\uc758\", \"\\ubd81\\ud55c\\uc774\", \"\\ubc1c\\uc0ac\\uccb4\", \"\\uc5f4\\uc5b4\", \"\\ub300\\ud1b5\\ub839\", \"\\ub204\\ub9ac\\ud638\\ub294\", \"\\ub300\\ud1b5\\ub839\\uc2e4\", \"\\ubc1c\\uc0ac\", \"\\uc6b0\\uc8fc\", \"\\ub274\\uc2dc\\uc2a4\", \"\\ubb38\\uc7ac\\uc778\", \"\\ubc1c\\uc0ac\\uac00\", \"\\uc601\\ud654\", \"\\uc774\\uc5b4\", \"\\uc815\\ubd80\", \"\\uc724\\uc11d\\uc5f4\", \"\\ub300\\ud1b5\\ub839\\uc740\", \"\\uc55e\\uc11c\", \"\\uc774\\uc5d0\", \"\\uae30\\uc0c1\", \"\\ub300\\ud1b5\\ub839\\uc774\", \"\\uc5f4\\ub9b0\", \"\\ub3d9\\uc6d4\\ubcf4\\ub2e4\", \"\\uae09\\ub4f1\\ud574\", \"\\uc218\\ubc15\", \"\\uc804\\ub9dd\\uce58\", \"\\uc2dd\\ub8cc\\ud488\", \"\\ucd5c\\ub300\\ud3ed\", \"\\ud328\\uc158\", \"\\uc0ac\\uacfc\\ub4dc\\ub9b0\\ub2e4\", \"\\uac10\\uc18c\\ud55c\", \"\\ub9d0\\ub77c\\uace0\", \"\\ud3d0\\uae30\\ud574\\uc57c\", \"\\uc804\\uc6d4\", \"\\uacf5\\uac1c\\ud558\\uba74\", \"\\uc0ac\\uacfc\\ud588\\ub2e4\", \"\\uac04\\uc0ac\\uac00\", \"\\ud558\\ud0dc\\uacbd\", \"\\uadfc\\uc6d0\", \"\\uc804\\ub144\", \"\\ub3d9\\uc6d4\", \"\\uc55e\\uc73c\\ub85c\\ub294\", \"\\uc815\\ubcf4\\uc704\", \"\\uc804\\uc6d4\\ubcf4\\ub2e4\", \"\\uc5ec\\ud558\\ub97c\", \"\\ub274\\uc2a4\\uc1fc\", \"\\uc800\\uc640\", \"\\ub0a8\\uc131\", \"\\uad6d\\uc815\\uc6d0\\uc774\", \"\\ubab8\\ub2f4\\uc558\\uace0\", \"\\ubcfc\\uae4c\\uc694\", \"\\uae40\\ud604\\uc815\\uc758\", \"\\uc0ac\\uac74\", \"\\uc5ec\\uc131\", \"\\uae30\\ub85d\\uc744\", \"\\ucd9c\\uc2dc\", \"\\uba54\\ud0c0\\ubc84\\uc2a4\", \"\\uc6d0\\uc7a5\\uc740\", \"\\ud718\\ubc1c\\uc720\", \"\\uc758\\uc6d0\\uacfc\", \"\\uc758\\uc6d0\", \"\\uc758\\uc6d0\\uc774\", \"\\uc758\\uc6d0\\uc740\", \"\\uad6d\\uc815\\uc6d0\", \"\\uc774\\uc7ac\\uba85\", \"\\uad6d\\ub0b4\", \"\\uc62c\\ub790\\ub2e4\", \"\\uac00\\uaca9\\uc740\", \"\\uac00\\uaca9\", \"\\uacf5\\uac1c\", \"\\uac00\\uaca9\\uc774\", \"\\uc758\\uc6d0\\uc758\", \"\\ub300\\ube44\", \"\\ube0c\\ub79c\\ub4dc\", \"\\uae00\\uc744\", \"\\uc6b0\\ud06c\\ub77c\\uc774\\ub098\", \"\\ubbf8\\uad6d\", \"\\uad6d\\ubbfc\\uc758\\ud798\", \"\\ubcf4\\ub2e4\", \"\\ubc15\\uc9c0\\uc6d0\", \"\\uad00\\uacc4\\uc790\\ub294\", \"\\ucd5c\\ub300\", \"\\uae00\\ub85c\\ubc8c\", \"\\uc774\\ub77c\\uba70\", \"\\uc9c0\\ub09c\\ub2ec\", \"\\uc62c\\ud574\", \"\\uc774\\uc900\\uc11d\", \"\\uc81c\\uac00\", \"\\uc2dc\\uc7a5\", \"\\uc774\\uc5b4\", \"\\uc788\\ub2e4\\ub294\", \"\\ucf54\\ub85c\\ub098\", \"\\ub300\\ud1b5\\ub839\", \"\\uc774\\ub807\\uac8c\", \"\\uc724\\uc11d\\uc5f4\", \"\\ubb38\\uc81c\\uc640\", \"\\ubaa8\\uc778\", \"\\uc704\\uc6d0\\uc7a5\\uc774\", \"\\uae30\\ub150\", \"\\uc800\\ub807\\uac8c\", \"\\uc5ec\\uc0ac\\uc758\", \"\\uc6cc\\uc2f1\\ud134\", \"\\uadf8\\uac83\\uc740\", \"\\uc5c6\\uc5c8\\ub2e4\\uace0\", \"\\uc678\\uad50\\ubd80\", \"\\uc5c6\\ub294\\ub370\", \"\\ub300\\ud1b5\\ub839\\uc2e4\\uc5d0\\uc11c\", \"\\ucd08\\ub300\", \"\\ubcf4\\uc2ed\\ub2c8\\uae4c\", \"\\ud32c\\ub364\", \"\\uc5ec\\uc0ac\\uac00\", \"\\uc544\\uc9c1\\ub3c4\", \"\\uae40\\uac74\\ud76c\", \"\\uc5ec\\uc0ac\", \"\\uad6d\\ud68c\\uac00\", \"\\uc0ac\\uc9c4\\uc774\", \"\\uc815\\uce58\\uc801\\uc778\", \"\\ub9d0\\ud558\\uba74\", \"\\uc704\\uc6d0\\uc7a5\", \"\\uc785\\ubc95\", \"\\uc5f0\\ud569\", \"\\uc8fc\\ub144\", \"\\uc548\\uace0\", \"\\uc774\\uac74\", \"\\uc548\\ubcf4\", \"\\ubbfc\\uc8fc\\ub2f9\\uc774\", \"\\uc788\\uc5b4\\uc694\", \"\\uc724\\uc11d\\uc5f4\", \"\\uac19\\uc544\\uc694\", \"\\uc774\\ub807\\uac8c\", \"\\uc788\\uac70\\ub4e0\\uc694\", \"\\uc774\\uac8c\", \"\\uc598\\uae30\\ub97c\", \"\\uc2dd\\uc73c\\ub85c\", \"\\ud574\\uc57c\", \"\\ub300\\ud1b5\\ub839\\uc758\", \"\\uad49\\uc7a5\\ud788\", \"\\ub300\\ud1b5\\ub839\", \"\\uac19\\uc2b5\\ub2c8\\ub2e4\", \"\\ub108\\ubb34\", \"\\ub300\\ud1b5\\ub839\\uc774\", \"\\uc788\\ub294\\ub370\", \"\\uadf8\\ub807\\uac8c\", \"\\uc774\\uc900\\uc11d\", \"\\ucde8\\uc784\", \"\\uc218\\ubc16\\uc5d0\", \"\\uac24\\ub7ed\\uc2dc\", \"\\ub300\\ud1b5\\ub839\\uc740\", \"\\uc81c\\uac00\", \"\\uad6d\\ud68c\", \"\\uc5ec\\ub7ec\", \"\\uc0ac\\uc2e4\", \"\\uc815\\ubd80\", \"\\uacc4\\uc18d\", \"\\ub300\\ud45c\", \"\\ub77c\\uba70\", \"\\ubb38\\uc81c\\uac00\", \"\\uc5f4\\ub9b0\", \"\\uc774\\uc5b4\", \"\\ubbfc\\uc8fc\\ub2f9\", \"\\uc774\\uc7ac\\uba85\", \"\\ubc1c\\uc0ac\", \"\\ubbf8\\uad6d\", \"\\uad6d\\ubbfc\\uc758\\ud798\", \"\\uac00\\ub2a5\\uc131\\uc774\", \"\\ub204\\ub9ac\\ud638\", \"\\uce58\\ub8cc\", \"\\ubcd1\\uc6d0\\uc744\", \"\\uc5f0\\uad6c\\ud300\\uc740\", \"\\ub098\\ud0c0\\ub098\\ub294\", \"\\uae08\\uc9c0\\ud569\\ub2c8\\ub2e4\", \"\\uc758\\ud559\\uc804\\ubb38\\uae30\\uc790\", \"\\ud55c\\uad6d\\uc77c\\ubcf4\", \"\\uc99d\\uc0c1\\uc774\", \"\\uc788\\uc73c\\ubbc0\\ub85c\", \"\\uc7ac\\ubc30\\ud3ec\\ub97c\", \"\\ubd80\\uc704\\uc5d0\", \"\\ubc1c\\uc0dd\\ud55c\\ub2e4\", \"\\uc99d\\uc0c1\\uc744\", \"\\ubcd1\\uc6d0\", \"\\uc0dd\\uae38\", \"\\ubc29\\uc548\", \"\\uc5f0\\uad6c\\ub294\", \"\\ud658\\uc790\\uac00\", \"\\uc694\\uc778\\uc774\", \"\\uce58\\ub8cc\\ub97c\", \"\\uc9c4\\ub2e8\", \"\\ubc29\\uc5ed\", \"\\uac00\\uc0c1\\ud654\\ud3d0\", \"\\ub192\\uc544\\uc9c0\\uace0\", \"\\uad50\\uc218\\uac00\", \"\\uac8c\\ud2f0\\uc774\\ubbf8\\uc9c0\\ubc45\\ud06c\", \"\\uc7a5\\uc911\", \"\\uc5f0\\uad6c\", \"\\uac74\\uac15\\ud55c\", \"\\ub3c4\\uc6c0\\uc744\", \"\\ubc1c\\uc0dd\\ud560\", \"\\uc131\\uc7a5\", \"\\uc0ac\\uc6a9\\ud558\\ub294\", \"\\uad50\\uc218\", \"\\ud658\\uc790\", \"\\ubc1c\\uc0ac\", \"\\uacbd\\ucc30\", \"\\uce74\\uce74\\uc624\", \"\\uc2e0\\uc784\", \"\\uc720\\ud29c\\ube0c\", \"\\ub7ec\\uc2dc\\uc544\", \"\\uc911\\uad6d\", \"\\uc788\\ub2e4\\ub294\", \"\\uc2dc\\uc7a5\", \"\\ubbf8\\uad6d\", \"\\uac00\\ub2a5\\uc131\\uc774\", \"\\ucc44\\ub110\", \"\\ub204\\ub9ac\\ud638\", \"\\ubc1c\\uc0ac\\uccb4\", \"\\ucd94\\uac00\", \"\\ucf54\\ub85c\\ub098\", \"\\ub429\\ub2c8\\ub2e4\", \"\\uc804\\ud588\\ub2e4\", \"\\uae00\\ub85c\\ubc8c\", \"\\uc5ec\\ub7ec\", \"\\uac24\\ub7ed\\uc2dc\", \"\\ub274\\uc2a4\\uac00\", \"\\uc81c\\ubcf4\\uac00\", \"\\ub2f9\\uc2e0\\uc758\", \"\\uc124\\uba85\\ud588\\ub2e4\", \"\\uba54\\uc77c\", \"\\uac80\\uc0c9\\ud574\", \"\\uc608\\uc815\\uc774\\ub2e4\", \"\\uad6d\\ub0b4\", \"\\ubb38\\uc81c\\uac00\", \"\\uc774\\uc5d0\", \"\\ub4f1\\uc774\", \"\\uc77c\\ubd80\\ud130\", \"\\uc5f4\\ub9b0\", \"\\ucd5c\\ub300\", \"\\uc62c\\ud574\"], \"Freq\": [257.0, 259.0, 135.0, 101.0, 94.0, 313.0, 77.0, 118.0, 297.0, 77.0, 63.0, 67.0, 124.0, 108.0, 67.0, 119.0, 46.0, 54.0, 274.0, 56.0, 71.0, 40.0, 95.0, 52.0, 67.0, 41.0, 94.0, 107.0, 125.0, 97.0, 22.365260353260197, 28.72089695494541, 14.989484547882215, 13.921050405458464, 28.96913274849008, 26.922814680579783, 40.94516347263024, 12.795426232309952, 30.193329161249537, 18.803889292842673, 14.468966046029143, 67.29828366278197, 16.206011677126494, 16.81661752552772, 13.457495287449994, 15.938000145235701, 54.4176350113233, 14.229298142996333, 14.159645726072501, 11.654323832961964, 9.80899845292186, 9.826143810574324, 9.702266127572859, 24.059916633348973, 14.027727665192216, 14.029713219550779, 13.08690848513534, 15.677578091620601, 18.232202863636903, 11.414966372310777, 34.72900248800521, 23.971818033368958, 23.05528039547992, 53.99671664056583, 30.171788131005854, 77.56898176189412, 31.447784528614783, 26.814972264349446, 93.7954171959114, 29.391098163989685, 19.948454441532217, 27.480886335928215, 37.45857790214067, 27.571337594368455, 23.410346674818168, 35.63491326020349, 34.23591464307032, 21.837690260445612, 23.612930679163835, 20.470315267513545, 76.12681808682451, 30.38665895002371, 36.46896739476317, 55.09498357761648, 40.23196639275725, 32.24092730520128, 42.063579636547836, 49.50278145406448, 40.29555839979406, 34.449786300489734, 50.478052556010056, 43.000033470004496, 38.84241990818951, 32.7580301428041, 35.715823004210066, 32.90156146213526, 34.37816588636003, 33.9071106719441, 33.18166827612346, 30.587828805525575, 16.752707373763513, 8.110130277408354, 14.893143151200915, 12.301189826480751, 13.095972450287817, 14.763394155389362, 11.368816234587808, 11.370999462997677, 12.208407607105128, 33.996732459319055, 11.343575198082565, 12.183204940167721, 13.004787939716886, 12.979820094534634, 12.962400310737083, 16.216903985022412, 22.131106292999174, 12.95093394908497, 12.088581748927325, 15.40872270812701, 13.73506671564347, 12.06187422753939, 13.72052464943362, 17.86392382351419, 11.198282690340642, 13.69287553885099, 11.192621644302116, 14.485168745096853, 11.997038866592804, 11.9777458804935, 72.66652221147517, 14.361703149714126, 22.24295051367573, 22.865582699647018, 18.99192619180177, 30.303127450718375, 48.88870457130962, 20.116863599010607, 19.283447424740814, 38.32503765036681, 26.61055995523198, 69.51229203098977, 29.45489601891574, 26.936237777458647, 21.245958732590154, 118.46192133689212, 31.495371219042436, 35.17370207007895, 35.95694466266366, 53.13803291348914, 47.706120725383954, 22.165031130097063, 49.68936080856102, 35.75366883139931, 52.7129779105672, 32.999676217359514, 85.15116922004161, 36.57459340916441, 46.65144567079643, 71.13876266373128, 31.10303471400562, 45.504404322948616, 43.55915318149463, 34.683329784438406, 32.16714561271538, 55.2195666207658, 44.27154406489606, 55.63346682292646, 41.555767540420945, 41.84634181242579, 39.98337344180479, 32.844881102447324, 33.72182831881843, 32.77391581934326, 14.844488637705236, 10.874537509764957, 47.911363203090964, 15.254422210998937, 9.71139667871059, 12.303334102962081, 15.629112085606568, 9.096446931563003, 8.222238547200218, 9.816993441565657, 8.929747328417054, 21.74692173730308, 10.559059933162814, 9.694063744528725, 8.797600990802792, 17.19466185509041, 14.735079182466878, 55.07185631238921, 9.567087259747144, 11.810414217939202, 9.274534236907646, 10.295036912084713, 8.335890857395164, 10.638373812176686, 8.481502123136117, 21.8503187939567, 14.516096306462797, 8.27705340829109, 8.31522527448241, 10.523894266263863, 27.60435511928914, 44.89255239353193, 19.157024992446377, 24.757245849204804, 42.24596703694935, 54.68250337601216, 31.890633283792607, 17.362291913216943, 73.4947305947824, 57.60214467383998, 71.28634804880176, 39.05721682346271, 64.12160368872173, 115.39068061801588, 34.50604741078142, 48.70992273307412, 36.225437342442795, 33.595303852268536, 38.76231988377721, 35.59938930212975, 58.51793758040037, 28.841429587022716, 21.904794858807293, 50.93028859097033, 95.15580946430124, 71.80933091449248, 43.971247874666155, 28.59402536111272, 51.607347689688226, 50.13080453247143, 53.53085297254712, 52.43964855951938, 46.710353249424415, 51.264098698824775, 50.63813757999612, 44.96768416385387, 42.46378042389078, 48.38781146682271, 44.61405990853599, 46.08861177356504, 47.95442489665106, 46.34195234176094, 44.80845190641198, 11.75403555402973, 10.838191894024861, 22.732907071277328, 29.844964350368116, 15.462616509990115, 33.90993398319686, 29.577727607092868, 10.311101539473608, 8.474605571957545, 21.145252046076536, 9.431035781612236, 11.859549742008092, 11.759429286247165, 22.64044468703606, 20.03196381064762, 58.131289853701425, 10.41035805926187, 66.61701874101206, 23.14005673651109, 19.87063690002644, 14.48514616236209, 13.183946823497262, 10.078349588483675, 13.25394128424763, 18.624396406594713, 26.69094087763194, 22.091560346111002, 11.429621449272561, 34.23949258637857, 22.816392568413246, 27.578836823623305, 34.61155952175214, 182.83887610546537, 40.518744646469656, 154.26206470477743, 31.143930643859875, 46.87547600458011, 44.68150333733749, 27.59304426745837, 54.157148614956085, 67.94696155380312, 61.91356354225376, 137.25163257667785, 35.350601423170104, 63.160836735347516, 75.4962017289911, 55.212478258314604, 58.49577024653626, 81.5961395750405, 36.37368937837932, 41.36866540943492, 47.524458448459555, 61.16472217044988, 63.39561273296939, 51.71056241047487, 61.51863862691521, 50.29150789914248, 57.645634896628245, 60.063269746082426, 59.92560775174222, 53.549983801546496, 59.87948497073329, 59.28615207400894, 64.28222786314618, 43.32533174135564, 47.18017158105046, 57.6476466492166, 55.81976377687949, 52.198685117389765, 48.328256430415884, 49.082185300987646, 73.13537785908845, 15.289482711977488, 31.786061837694934, 13.419336910109715, 16.360372068166207, 11.442768755057296, 18.017725471395796, 42.27709597377415, 9.234899224427242, 17.670405548224714, 9.572964090566302, 14.92112598390502, 9.533307439078008, 8.686834169078935, 18.123014111364945, 12.708361131918181, 10.903104207612179, 16.66234914834038, 8.172965292941274, 23.329548274235396, 12.245682193415428, 8.810815431608702, 46.22804445616924, 10.472956129359094, 12.071172231199412, 13.424360726545084, 12.730357669972909, 43.36731644798036, 21.84107038088202, 17.956610710345792, 27.39380439920313, 20.09781062630729, 22.829625094060475, 36.36929935095366, 28.06571767350426, 125.58293890173317, 19.264769071956604, 30.196461728867472, 18.038493914894115, 46.97284741664221, 40.41217071089569, 57.23133047722019, 78.41375555350861, 58.30557662519641, 105.90470678062175, 58.58848412600862, 51.52313788205159, 84.76652494785243, 51.86689064538615, 63.63156345191989, 74.80825642433526, 51.06815613989357, 54.312982091844106, 57.43279256645094, 53.802249405323636, 40.655547212486724, 39.41026842928845, 38.78785191410881, 39.03040513749722, 48.804614126497725, 39.033557246858656, 38.48105115142698, 44.292249040389486, 54.41479113057011, 47.22803636846652, 47.14857410216874, 43.80006513016909, 42.127650511754695, 44.2440122153129, 42.303304421307516, 42.085044727644146], \"Total\": [257.0, 259.0, 135.0, 101.0, 94.0, 313.0, 77.0, 118.0, 297.0, 77.0, 63.0, 67.0, 124.0, 108.0, 67.0, 119.0, 46.0, 54.0, 274.0, 56.0, 71.0, 40.0, 95.0, 52.0, 67.0, 41.0, 94.0, 107.0, 125.0, 97.0, 24.489974090026198, 31.45392303257694, 16.551763173245334, 15.489618859652666, 32.44053086535652, 30.510545244855273, 46.551538615876176, 14.633489499089626, 34.595178337297575, 21.583469063010817, 16.614478959606775, 77.34586464057178, 18.62634032520605, 19.54239771402699, 15.645264621021969, 18.57649613429681, 63.44259214185911, 16.62451336096203, 16.565848514699795, 13.655771725133043, 11.543459788678414, 11.605647179481545, 11.54015101446212, 28.6198700735946, 16.694813373535286, 16.69936380174049, 15.580716614408583, 18.66796786459237, 21.767933184605248, 13.638808266510456, 41.74137517940499, 28.753218296817, 27.669546079997815, 67.38704779559964, 36.89984553019918, 101.55788022990124, 40.36223700126413, 33.88347443198605, 135.39486907785735, 38.62802956915534, 24.673333301843957, 36.01844875364947, 52.2386547822975, 36.92249114629394, 30.107081873311976, 52.850219791754334, 51.134529011406975, 28.06969172969051, 31.360635969589175, 26.06454023768528, 237.55203349996475, 50.94323472706513, 70.34032694957564, 152.09034265329, 95.92393373178379, 61.6457624114184, 115.85251085086432, 176.18489289924415, 125.44078031548894, 81.2350424227192, 321.6394120568069, 251.23672566864374, 186.14782238903783, 84.71907685661876, 171.07883825224897, 125.67760785580408, 221.41214568162445, 186.87595448984567, 171.71593123480815, 251.76381560114822, 19.431311712698946, 9.50391520231726, 17.487307401575315, 14.4935022258156, 15.520439017967117, 17.53384547909678, 13.506141200856826, 13.51151772750827, 14.509528238319888, 40.49828953911174, 13.518048033856077, 14.52514311713015, 15.527485275631733, 15.543256517167299, 15.545325810859707, 19.452743584675893, 26.555850012317613, 15.546178587251053, 14.552076908628822, 18.551348335040597, 16.550091848657633, 14.552205353843512, 16.565160271778716, 21.598243434734528, 13.544274174653506, 16.56205739834585, 13.578453171132129, 17.576179300491006, 14.589327169636526, 14.570943251088963, 94.03010936595552, 17.575645604618387, 27.763247227845955, 28.717728092094852, 23.713290322804394, 39.349332904780425, 67.02960601285596, 25.92071829464373, 24.79822918007828, 56.1639150972199, 37.08945891493787, 118.8175483384202, 42.3841362262376, 38.87163787001991, 28.85683726628264, 257.4836511339702, 49.51132662410332, 59.298536168754424, 61.63675937877961, 107.78953406449209, 99.24303215468879, 33.16840475649537, 108.99584087411138, 67.09739527474882, 124.08941553962887, 62.33631006262809, 297.82072408085736, 75.06616341473153, 117.75202433336946, 259.0877023853865, 60.92622308472956, 125.67760785580408, 119.05055124584769, 77.74999491617234, 66.71177448825556, 251.23672566864374, 148.05837061870375, 313.1188445881871, 140.5861391761274, 168.9686562380228, 186.87595448984567, 85.4645644523348, 156.46094384269503, 186.14782238903783, 16.421527378716807, 12.211743114519894, 54.09944857590506, 17.50140930602116, 11.157458548998267, 14.409980395383602, 18.459581413096334, 11.166116876470353, 10.129620683620256, 12.165384778907184, 11.076842209439231, 27.156514313315057, 13.185861172429465, 12.147552571139853, 11.11750385004649, 21.762516961855038, 18.835942759556435, 71.13559891422501, 12.370095564956603, 15.347546867634922, 12.160942917064967, 13.513848777993385, 11.103418523243882, 14.215435370701298, 11.343325998759877, 29.327970602433894, 19.488982984303632, 11.13486158122073, 11.224832329942, 14.210969581325529, 37.54549762215251, 61.59166236243758, 26.125516337843017, 34.12010521202776, 60.865062888759134, 83.30666373533211, 46.52367926859758, 24.11878134422102, 128.54553199869775, 97.18382288857528, 133.8494335185708, 64.86535990069724, 119.0445892625434, 251.76381560114822, 57.6269934380167, 89.58827473409869, 63.191586087353336, 57.9263419642106, 70.86768713132284, 63.49462814857263, 129.98805921871374, 48.81398529643228, 33.67597948033396, 120.26211711629462, 321.6394120568069, 221.41214568162445, 99.44218939275224, 50.517827614762815, 146.7917229749812, 143.63653311918392, 164.08579135599408, 171.71593123480815, 137.00751880150716, 176.18489289924415, 185.53677750015575, 149.93807939124716, 135.78005887096856, 251.23672566864374, 194.645346204349, 237.55203349996475, 297.82072408085736, 274.0063708516936, 313.1188445881871, 13.07880884035883, 12.951616563153205, 27.377698621878093, 37.63467471356071, 19.905518339800178, 43.832141088254176, 38.979827978840646, 13.771637488415742, 11.396614591798267, 28.475350525762508, 12.749863655440652, 16.101247585597918, 16.036972894429827, 31.616071029121233, 27.987221405019408, 82.63875873116584, 14.828895665827563, 95.4921384612629, 33.37994951159584, 28.68564837017957, 21.166592292545747, 19.45271146866619, 14.90703469871166, 19.648903765013806, 27.709205553232426, 39.915523554201215, 33.03954052587449, 17.117790859292796, 51.283870514231104, 34.19950431204104, 41.65846469370423, 53.771172161576054, 313.1188445881871, 63.71983497113997, 274.0063708516936, 48.66516383332997, 78.51780926992983, 75.46660982767108, 43.634456467345395, 96.53499628905247, 126.17481279927978, 114.34526406683004, 297.82072408085736, 58.84786567434539, 123.56345101262752, 156.46094384269503, 105.57823912672092, 115.06487337032995, 185.53677750015575, 63.26948528503125, 77.38865452752238, 94.74426668231543, 140.5861391761274, 149.93807939124716, 111.45250876128085, 155.3203862787931, 113.17826512937286, 148.05837061870375, 163.15029219948963, 171.07883825224897, 135.8559820226632, 178.05914268510668, 186.14782238903783, 251.23672566864374, 89.13827001899033, 119.0445892625434, 259.0877023853865, 321.6394120568069, 221.41214568162445, 144.38836177212022, 257.4836511339702, 77.89540530892923, 16.98405349026545, 35.40126703933968, 15.676114929317254, 19.131807762509823, 13.40278148777399, 21.4092989393042, 50.23804537509757, 11.080478564072058, 21.344388123392722, 12.120394992641051, 18.983356699311262, 12.203619108064565, 11.229381663460437, 23.581005859708, 16.763649348412926, 14.40625724614467, 22.281912829611937, 10.93421832411704, 31.70084347032634, 16.68240113242955, 12.038125974275259, 63.30523193819657, 14.433228068915334, 16.767255475682667, 18.74832358695904, 17.806428581712666, 60.813593430496184, 31.026830010896305, 25.580452460083183, 39.86621980093803, 28.85610596526713, 34.31649312995401, 58.27208561946691, 43.589896963323824, 259.0877023853865, 28.693295333557856, 49.75422345383636, 27.12670296815914, 92.51187351615864, 76.82310790438657, 122.51764519593695, 194.645346204349, 135.78005887096856, 321.6394120568069, 144.38836177212022, 121.3309315498069, 257.4836511339702, 124.08941553962887, 171.00936211247324, 237.55203349996475, 129.0475632403059, 146.4322474311722, 164.08579135599408, 155.3203862787931, 94.74426668231543, 90.9136055677414, 89.58041894748774, 90.72003933738866, 145.0044676095127, 91.01221515674905, 89.83126111553068, 129.93737071067713, 251.76381560114822, 178.05914268510668, 186.87595448984567, 142.02394520029674, 125.44078031548894, 186.14782238903783, 143.63653311918392, 176.18489289924415], \"Category\": [\"Default\", \"Default\", \"Default\", \"Default\", \"Default\", \"Default\", \"Default\", \"Default\", \"Default\", \"Default\", \"Default\", \"Default\", \"Default\", \"Default\", \"Default\", \"Default\", \"Default\", \"Default\", \"Default\", \"Default\", \"Default\", \"Default\", \"Default\", \"Default\", \"Default\", \"Default\", \"Default\", \"Default\", \"Default\", \"Default\", \"Topic1\", \"Topic1\", \"Topic1\", \"Topic1\", \"Topic1\", \"Topic1\", \"Topic1\", \"Topic1\", \"Topic1\", \"Topic1\", \"Topic1\", \"Topic1\", \"Topic1\", \"Topic1\", \"Topic1\", \"Topic1\", \"Topic1\", \"Topic1\", \"Topic1\", \"Topic1\", \"Topic1\", \"Topic1\", \"Topic1\", \"Topic1\", \"Topic1\", \"Topic1\", \"Topic1\", \"Topic1\", \"Topic1\", \"Topic1\", \"Topic1\", \"Topic1\", \"Topic1\", \"Topic1\", \"Topic1\", \"Topic1\", \"Topic1\", \"Topic1\", \"Topic1\", \"Topic1\", \"Topic1\", \"Topic1\", \"Topic1\", \"Topic1\", \"Topic1\", \"Topic1\", \"Topic1\", \"Topic1\", \"Topic1\", \"Topic1\", \"Topic1\", \"Topic1\", \"Topic1\", \"Topic1\", \"Topic1\", \"Topic1\", \"Topic1\", \"Topic1\", \"Topic1\", \"Topic1\", \"Topic1\", \"Topic1\", \"Topic1\", \"Topic1\", \"Topic1\", \"Topic1\", \"Topic1\", \"Topic1\", \"Topic1\", \"Topic1\", \"Topic2\", \"Topic2\", \"Topic2\", \"Topic2\", \"Topic2\", \"Topic2\", \"Topic2\", \"Topic2\", \"Topic2\", \"Topic2\", \"Topic2\", \"Topic2\", \"Topic2\", \"Topic2\", \"Topic2\", \"Topic2\", \"Topic2\", \"Topic2\", \"Topic2\", \"Topic2\", \"Topic2\", \"Topic2\", \"Topic2\", \"Topic2\", \"Topic2\", \"Topic2\", \"Topic2\", \"Topic2\", \"Topic2\", \"Topic2\", \"Topic2\", \"Topic2\", \"Topic2\", \"Topic2\", \"Topic2\", \"Topic2\", \"Topic2\", \"Topic2\", \"Topic2\", \"Topic2\", \"Topic2\", \"Topic2\", \"Topic2\", \"Topic2\", \"Topic2\", \"Topic2\", \"Topic2\", \"Topic2\", \"Topic2\", \"Topic2\", \"Topic2\", \"Topic2\", \"Topic2\", \"Topic2\", \"Topic2\", \"Topic2\", \"Topic2\", \"Topic2\", \"Topic2\", \"Topic2\", \"Topic2\", \"Topic2\", \"Topic2\", \"Topic2\", \"Topic2\", \"Topic2\", \"Topic2\", \"Topic2\", \"Topic2\", \"Topic2\", \"Topic2\", \"Topic2\", \"Topic2\", \"Topic2\", \"Topic3\", \"Topic3\", \"Topic3\", \"Topic3\", \"Topic3\", \"Topic3\", \"Topic3\", \"Topic3\", \"Topic3\", \"Topic3\", \"Topic3\", \"Topic3\", \"Topic3\", \"Topic3\", \"Topic3\", \"Topic3\", \"Topic3\", \"Topic3\", \"Topic3\", \"Topic3\", \"Topic3\", \"Topic3\", \"Topic3\", \"Topic3\", \"Topic3\", \"Topic3\", \"Topic3\", \"Topic3\", \"Topic3\", \"Topic3\", \"Topic3\", \"Topic3\", \"Topic3\", \"Topic3\", \"Topic3\", \"Topic3\", \"Topic3\", \"Topic3\", \"Topic3\", \"Topic3\", \"Topic3\", \"Topic3\", \"Topic3\", \"Topic3\", \"Topic3\", \"Topic3\", \"Topic3\", \"Topic3\", \"Topic3\", \"Topic3\", \"Topic3\", \"Topic3\", \"Topic3\", \"Topic3\", \"Topic3\", \"Topic3\", \"Topic3\", \"Topic3\", \"Topic3\", \"Topic3\", \"Topic3\", \"Topic3\", \"Topic3\", \"Topic3\", \"Topic3\", \"Topic3\", \"Topic3\", \"Topic3\", \"Topic3\", \"Topic3\", \"Topic3\", \"Topic3\", \"Topic3\", \"Topic4\", \"Topic4\", \"Topic4\", \"Topic4\", \"Topic4\", \"Topic4\", \"Topic4\", \"Topic4\", \"Topic4\", \"Topic4\", \"Topic4\", \"Topic4\", \"Topic4\", \"Topic4\", \"Topic4\", \"Topic4\", \"Topic4\", \"Topic4\", \"Topic4\", \"Topic4\", \"Topic4\", \"Topic4\", \"Topic4\", \"Topic4\", \"Topic4\", \"Topic4\", \"Topic4\", \"Topic4\", \"Topic4\", \"Topic4\", \"Topic4\", \"Topic4\", \"Topic4\", \"Topic4\", \"Topic4\", \"Topic4\", \"Topic4\", \"Topic4\", \"Topic4\", \"Topic4\", \"Topic4\", \"Topic4\", \"Topic4\", \"Topic4\", \"Topic4\", \"Topic4\", \"Topic4\", \"Topic4\", \"Topic4\", \"Topic4\", \"Topic4\", \"Topic4\", \"Topic4\", \"Topic4\", \"Topic4\", \"Topic4\", \"Topic4\", \"Topic4\", \"Topic4\", \"Topic4\", \"Topic4\", \"Topic4\", \"Topic4\", \"Topic4\", \"Topic4\", \"Topic4\", \"Topic4\", \"Topic4\", \"Topic4\", \"Topic4\", \"Topic4\", \"Topic5\", \"Topic5\", \"Topic5\", \"Topic5\", \"Topic5\", \"Topic5\", \"Topic5\", \"Topic5\", \"Topic5\", \"Topic5\", \"Topic5\", \"Topic5\", \"Topic5\", \"Topic5\", \"Topic5\", \"Topic5\", \"Topic5\", \"Topic5\", \"Topic5\", \"Topic5\", \"Topic5\", \"Topic5\", \"Topic5\", \"Topic5\", \"Topic5\", \"Topic5\", \"Topic5\", \"Topic5\", \"Topic5\", \"Topic5\", \"Topic5\", \"Topic5\", \"Topic5\", \"Topic5\", \"Topic5\", \"Topic5\", \"Topic5\", \"Topic5\", \"Topic5\", \"Topic5\", \"Topic5\", \"Topic5\", \"Topic5\", \"Topic5\", \"Topic5\", \"Topic5\", \"Topic5\", \"Topic5\", \"Topic5\", \"Topic5\", \"Topic5\", \"Topic5\", \"Topic5\", \"Topic5\", \"Topic5\", \"Topic5\", \"Topic5\", \"Topic5\", \"Topic5\", \"Topic5\", \"Topic5\", \"Topic5\", \"Topic5\", \"Topic5\", \"Topic5\", \"Topic5\", \"Topic5\", \"Topic5\", \"Topic5\", \"Topic5\", \"Topic5\"], \"logprob\": [30.0, 29.0, 28.0, 27.0, 26.0, 25.0, 24.0, 23.0, 22.0, 21.0, 20.0, 19.0, 18.0, 17.0, 16.0, 15.0, 14.0, 13.0, 12.0, 11.0, 10.0, 9.0, 8.0, 7.0, 6.0, 5.0, 4.0, 3.0, 2.0, 1.0, -6.418399810791016, -6.168300151824951, -6.818600177764893, -6.892499923706055, -6.1596999168396, -6.232900142669678, -5.813700199127197, -6.976799964904785, -6.118299961090088, -6.591800212860107, -6.853899955749512, -5.316800117492676, -6.740499973297119, -6.703499794006348, -6.926400184631348, -6.757199764251709, -5.529200077056885, -6.87060022354126, -6.875500202178955, -7.070199966430664, -7.242599964141846, -7.240900039672852, -7.253600120544434, -6.345399856567383, -6.884900093078613, -6.884699821472168, -6.9542999267578125, -6.77370023727417, -6.622700214385986, -7.091000080108643, -5.978300094604492, -6.348999977111816, -6.388000011444092, -5.5370001792907715, -6.11899995803833, -5.174699783325195, -6.077600002288818, -6.236999988555908, -4.984799861907959, -6.145199775695801, -6.532800197601318, -6.212399959564209, -5.902699947357178, -6.209099769592285, -6.372700214385986, -5.952600002288818, -5.992599964141846, -6.442299842834473, -6.364099979400635, -6.506899833679199, -5.19350004196167, -6.1118998527526855, -5.929500102996826, -5.516900062561035, -5.831299781799316, -6.052700042724609, -5.7866997718811035, -5.623899936676025, -5.829699993133545, -5.986400127410889, -5.604400157928467, -5.764699935913086, -5.866399765014648, -6.036799907684326, -5.950300216674805, -6.032400131225586, -5.988500118255615, -6.002299785614014, -6.023900032043457, -6.105299949645996, -6.6682000160217285, -7.393599987030029, -6.785799980163574, -6.9770002365112305, -6.914400100708008, -6.794600009918213, -7.0559000968933105, -7.055699825286865, -6.984600067138672, -5.9604997634887695, -7.05810022354126, -6.986700057983398, -6.92140007019043, -6.923299789428711, -6.924699783325195, -6.700699806213379, -6.389800071716309, -6.925600051879883, -6.994500160217285, -6.751800060272217, -6.866799831390381, -6.996699810028076, -6.867800235748291, -6.604000091552734, -7.071000099182129, -6.869900226593018, -7.071499824523926, -6.813600063323975, -7.002099990844727, -7.003699779510498, -5.200900077819824, -6.822199821472168, -6.384699821472168, -6.357100009918213, -6.542699813842773, -6.075500011444092, -5.5971999168396, -6.485199928283691, -6.527500152587891, -5.84060001373291, -6.205399990081787, -5.245200157165527, -6.103899955749512, -6.193299770355225, -6.430600166320801, -4.712100028991699, -6.036900043487549, -5.926400184631348, -5.904399871826172, -5.513800144195557, -5.621699810028076, -6.388199806213379, -5.580900192260742, -5.910099983215332, -5.521900177001953, -5.990200042724609, -5.042300224304199, -5.887400150299072, -5.644000053405762, -5.222099781036377, -6.0493998527526855, -5.668900012969971, -5.712600231170654, -5.940499782562256, -6.0157999992370605, -5.475399971008301, -5.696400165557861, -5.4679999351501465, -5.759699821472168, -5.752699851989746, -5.798299789428711, -5.994900226593018, -5.968599796295166, -5.997099876403809, -7.041500091552734, -7.352700233459473, -5.869800090789795, -7.0142998695373535, -7.46589994430542, -7.229300022125244, -6.989999771118164, -7.531300067901611, -7.632299900054932, -7.454999923706055, -7.549799919128418, -6.6596999168396, -7.382199764251709, -7.467599868774414, -7.564700126647949, -6.894599914550781, -7.048900127410889, -5.730500221252441, -7.480800151824951, -7.270199775695801, -7.511899948120117, -7.40749979019165, -7.618599891662598, -7.37470006942749, -7.60129976272583, -6.654900074005127, -7.063899993896484, -7.625699996948242, -7.621099948883057, -7.385499954223633, -6.421199798583984, -5.934899806976318, -6.786499977111816, -6.53000020980835, -5.995699882507324, -5.737599849700928, -6.276800155639648, -6.884900093078613, -5.44189977645874, -5.6855998039245605, -5.472499847412109, -6.074100017547607, -5.578400135040283, -4.990799903869629, -6.197999954223633, -5.853300094604492, -6.149400234222412, -6.224800109863281, -6.081699848175049, -6.166800022125244, -5.6697998046875, -6.377299785614014, -6.652500152587891, -5.808700084686279, -5.183599948883057, -5.465099811553955, -5.955599784851074, -6.386000156402588, -5.795499801635742, -5.82450008392334, -5.758900165557861, -5.7795000076293945, -5.895199775695801, -5.802199840545654, -5.814499855041504, -5.933199882507324, -5.990499973297119, -5.859899997711182, -5.941100120544434, -5.908599853515625, -5.868899822235107, -5.90310001373291, -5.936800003051758, -7.398499965667725, -7.479599952697754, -6.738900184631348, -6.466700077056885, -7.124300003051758, -6.339000225067139, -6.4756999015808105, -7.5295000076293945, -7.725599765777588, -6.811299800872803, -7.61870002746582, -7.389599800109863, -7.398099899291992, -6.743000030517578, -6.8653998374938965, -5.800000190734863, -7.519899845123291, -5.66379976272583, -6.721099853515625, -6.873499870300293, -7.189599990844727, -7.283699989318848, -7.552299976348877, -7.27839994430542, -6.938199996948242, -6.578400135040283, -6.767499923706055, -7.426499843597412, -6.3292999267578125, -6.735199928283691, -6.5457000732421875, -6.31850004196167, -4.654099941253662, -6.160900115966797, -4.824100017547607, -6.424099922180176, -6.015200138092041, -6.063199996948242, -6.545100212097168, -5.870800018310547, -5.644000053405762, -5.736999988555908, -4.940899848937988, -6.297399997711182, -5.7170000076293945, -5.538599967956543, -5.851500034332275, -5.793799877166748, -5.460899829864502, -6.268899917602539, -6.140200138092041, -6.001500129699707, -5.749100208282471, -5.7133002281188965, -5.917099952697754, -5.7434000968933105, -5.944900035858154, -5.8084001541137695, -5.767300128936768, -5.769599914550781, -5.8821001052856445, -5.770400047302246, -5.780300140380859, -5.699399948120117, -6.093999862670898, -6.008699893951416, -5.8084001541137695, -5.84060001373291, -5.907700061798096, -5.9847002029418945, -5.969200134277344, -5.587699890136719, -7.1528000831604, -6.421000003814697, -7.283299922943115, -7.085100173950195, -7.442599773406982, -6.98859977722168, -6.135799884796143, -7.6570000648498535, -7.0081000328063965, -7.621099948883057, -7.177199840545654, -7.625199794769287, -7.718200206756592, -6.982800006866455, -7.337699890136719, -7.490900039672852, -7.066800117492676, -7.779200077056885, -6.730299949645996, -7.374800205230713, -7.703999996185303, -6.04640007019043, -7.531199932098389, -7.389200210571289, -7.282899856567383, -7.335999965667725, -6.110300064086914, -6.796199798583984, -6.992000102996826, -6.569699764251709, -6.87939977645874, -6.7519001960754395, -6.286300182342529, -6.545400142669678, -5.046999931335449, -6.9217000007629395, -6.472300052642822, -6.987500190734863, -6.030399799346924, -6.1809000968933105, -5.832900047302246, -5.51800012588501, -5.814300060272217, -5.21750020980835, -5.809500217437744, -5.938000202178955, -5.440100193023682, -5.931300163269043, -5.726900100708008, -5.565100193023682, -5.946800231933594, -5.885200023651123, -5.829400062561035, -5.894700050354004, -6.174900054931641, -6.205999851226807, -6.22189998626709, -6.215700149536133, -5.992199897766113, -6.21560001373291, -6.229800224304199, -6.089200019836426, -5.883399963378906, -6.025000095367432, -6.026700019836426, -6.100399971008301, -6.1392998695373535, -6.0903000831604, -6.1350998878479, -6.1402997970581055], \"loglift\": [30.0, 29.0, 28.0, 27.0, 26.0, 25.0, 24.0, 23.0, 22.0, 21.0, 20.0, 19.0, 18.0, 17.0, 16.0, 15.0, 14.0, 13.0, 12.0, 11.0, 10.0, 9.0, 8.0, 7.0, 6.0, 5.0, 4.0, 3.0, 2.0, 1.0, 1.7051, 1.705, 1.6967, 1.6891, 1.6827, 1.6708, 1.6675, 1.6616, 1.6598, 1.658, 1.6576, 1.6567, 1.6567, 1.6456, 1.6452, 1.6427, 1.6424, 1.6403, 1.6389, 1.6374, 1.633, 1.6294, 1.6224, 1.6223, 1.6218, 1.6217, 1.6214, 1.6213, 1.6186, 1.6179, 1.6119, 1.614, 1.6134, 1.5743, 1.5946, 1.5264, 1.5463, 1.5619, 1.4288, 1.5226, 1.5833, 1.5253, 1.4633, 1.5038, 1.5443, 1.4017, 1.3947, 1.5448, 1.5121, 1.5543, 0.6579, 1.2791, 1.139, 0.7804, 0.927, 1.1477, 0.7827, 0.5263, 0.6603, 0.938, -0.056, 0.0307, 0.2288, 0.8457, 0.2293, 0.4557, -0.0668, 0.089, 0.152, -0.312, 1.6867, 1.6764, 1.6745, 1.671, 1.6652, 1.663, 1.6628, 1.6626, 1.6623, 1.66, 1.6597, 1.6592, 1.6577, 1.6548, 1.6533, 1.6531, 1.6528, 1.6524, 1.6496, 1.6494, 1.6486, 1.6473, 1.6466, 1.6452, 1.6448, 1.6448, 1.6418, 1.6416, 1.6394, 1.6391, 1.5773, 1.6331, 1.6133, 1.6071, 1.613, 1.5738, 1.5194, 1.5815, 1.5835, 1.4529, 1.503, 1.2989, 1.4711, 1.4682, 1.5288, 1.0587, 1.3827, 1.3127, 1.2961, 1.1277, 1.1025, 1.4319, 1.0495, 1.2055, 0.9789, 1.199, 0.583, 1.116, 0.9092, 0.5425, 1.1627, 0.8191, 0.8296, 1.0278, 1.1056, 0.32, 0.6278, 0.1072, 0.6162, 0.4393, 0.293, 0.8787, 0.3004, 0.0981, 1.4816, 1.4666, 1.4611, 1.4452, 1.4438, 1.4246, 1.4162, 1.3776, 1.374, 1.3681, 1.3671, 1.3605, 1.3604, 1.357, 1.3486, 1.347, 1.3371, 1.3267, 1.3256, 1.3206, 1.3116, 1.3105, 1.2959, 1.2927, 1.2919, 1.2883, 1.288, 1.286, 1.2826, 1.2822, 1.275, 1.2663, 1.2724, 1.2618, 1.2175, 1.1616, 1.205, 1.2539, 1.0235, 1.0596, 0.9526, 1.0753, 0.9639, 0.8024, 1.0697, 0.9733, 1.0262, 1.0378, 0.9792, 1.004, 0.7845, 1.0564, 1.1525, 0.7234, 0.3647, 0.4566, 0.7666, 1.0135, 0.5373, 0.53, 0.4625, 0.3964, 0.5065, 0.3481, 0.2841, 0.3783, 0.4202, -0.0645, 0.1095, -0.0572, -0.2436, -0.1945, -0.3616, 1.3523, 1.2809, 1.2731, 1.2271, 1.2065, 1.2024, 1.183, 1.1697, 1.1628, 1.1614, 1.1575, 1.1533, 1.1488, 1.1251, 1.1246, 1.1073, 1.1053, 1.099, 1.0927, 1.0919, 1.0798, 1.0701, 1.0676, 1.0653, 1.0618, 1.0566, 1.0565, 1.0551, 1.0551, 1.0543, 1.0466, 1.0185, 0.9211, 1.0063, 0.8846, 1.0127, 0.9432, 0.9349, 1.0008, 0.881, 0.8401, 0.8456, 0.6844, 0.9494, 0.788, 0.7303, 0.8108, 0.7825, 0.6376, 0.9055, 0.8327, 0.7691, 0.6268, 0.5982, 0.6911, 0.5329, 0.6479, 0.5158, 0.4598, 0.41, 0.5281, 0.3693, 0.3149, 0.0959, 0.7376, 0.5335, -0.0438, -0.2923, 0.0141, 0.3646, -0.1984, 1.3787, 1.3367, 1.334, 1.2863, 1.2853, 1.2837, 1.2693, 1.2692, 1.2596, 1.2529, 1.2058, 1.201, 1.1948, 1.185, 1.1785, 1.1648, 1.1632, 1.1511, 1.1507, 1.1351, 1.1326, 1.1297, 1.1274, 1.121, 1.1132, 1.1077, 1.1062, 1.1037, 1.0907, 1.0879, 1.0666, 1.0801, 1.0342, 0.9704, 1.0015, 0.7176, 1.0434, 0.9424, 1.0338, 0.764, 0.7994, 0.6806, 0.5326, 0.5964, 0.3309, 0.5398, 0.5853, 0.3307, 0.5694, 0.4532, 0.2863, 0.5147, 0.45, 0.392, 0.3816, 0.5957, 0.6059, 0.6047, 0.5983, 0.3528, 0.5952, 0.594, 0.3655, -0.0901, 0.1146, 0.0646, 0.2654, 0.3506, 0.0049, 0.2193, 0.0099]}, \"token.table\": {\"Topic\": [1, 2, 3, 4, 5, 1, 2, 3, 4, 5, 1, 2, 3, 4, 5, 1, 2, 3, 4, 5, 1, 2, 3, 4, 5, 2, 3, 4, 5, 3, 5, 1, 2, 3, 4, 5, 1, 2, 3, 4, 5, 1, 2, 3, 4, 5, 2, 4, 5, 3, 4, 5, 1, 2, 3, 4, 5, 1, 2, 3, 4, 5, 1, 2, 3, 4, 5, 1, 3, 5, 1, 2, 3, 4, 5, 1, 2, 3, 4, 5, 1, 4, 5, 1, 2, 4, 5, 1, 2, 3, 4, 5, 2, 4, 5, 1, 2, 3, 4, 5, 2, 3, 4, 5, 1, 2, 3, 4, 5, 1, 4, 5, 1, 4, 5, 1, 2, 3, 4, 5, 1, 5, 1, 2, 3, 4, 5, 1, 3, 4, 5, 2, 3, 4, 5, 2, 4, 5, 1, 2, 3, 4, 5, 1, 2, 3, 4, 5, 2, 4, 5, 1, 2, 3, 4, 5, 1, 2, 3, 4, 5, 1, 2, 3, 4, 5, 1, 2, 3, 4, 5, 1, 2, 3, 4, 5, 1, 2, 3, 4, 5, 2, 4, 5, 1, 3, 4, 5, 1, 2, 3, 4, 5, 3, 4, 5, 1, 2, 3, 4, 5, 1, 2, 3, 4, 5, 2, 3, 5, 3, 4, 1, 2, 3, 4, 5, 1, 2, 3, 4, 5, 2, 4, 5, 1, 2, 3, 4, 5, 1, 3, 4, 1, 2, 3, 4, 5, 1, 2, 3, 4, 5, 2, 4, 5, 2, 4, 5, 2, 3, 4, 5, 1, 3, 5, 1, 2, 3, 4, 5, 1, 4, 5, 1, 3, 4, 1, 2, 3, 4, 5, 1, 3, 4, 5, 1, 2, 3, 4, 5, 1, 2, 4, 5, 1, 2, 3, 4, 5, 1, 2, 3, 4, 5, 2, 3, 4, 5, 1, 2, 3, 4, 5, 1, 2, 4, 5, 1, 2, 3, 4, 5, 1, 2, 3, 4, 5, 2, 4, 5, 2, 4, 5, 2, 4, 5, 1, 2, 3, 4, 5, 1, 2, 3, 4, 5, 1, 2, 3, 4, 5, 1, 2, 3, 4, 5, 1, 2, 3, 4, 5, 1, 2, 3, 4, 5, 1, 2, 3, 4, 5, 1, 2, 3, 4, 5, 1, 2, 3, 4, 5, 1, 2, 3, 4, 1, 2, 3, 4, 5, 3, 4, 3, 4, 1, 2, 3, 4, 5, 1, 2, 3, 4, 5, 1, 2, 3, 4, 5, 1, 2, 3, 4, 5, 1, 2, 3, 5, 1, 2, 3, 4, 5, 1, 2, 3, 4, 5, 1, 2, 3, 4, 5, 4, 5, 2, 3, 4, 5, 2, 4, 5, 1, 2, 3, 4, 5, 1, 2, 3, 4, 5, 4, 5, 1, 2, 3, 4, 5, 1, 2, 3, 4, 5, 1, 2, 3, 4, 5, 1, 2, 3, 4, 5, 1, 2, 3, 4, 5, 1, 2, 1, 2, 3, 4, 5, 1, 2, 3, 4, 5, 1, 2, 3, 4, 5, 2, 4, 5, 2, 3, 4, 5, 1, 2, 3, 4, 5, 1, 3, 5, 1, 2, 3, 4, 5, 2, 4, 5, 2, 4, 5, 2, 4, 5, 2, 4, 5, 1, 2, 4, 5, 1, 3, 5, 2, 4, 5, 3, 4, 5, 1, 5, 1, 2, 3, 4, 5, 1, 2, 3, 4, 5, 1, 4, 5, 2, 3, 4, 5, 1, 3, 5, 1, 2, 3, 4, 5, 2, 3, 4, 5, 1, 2, 3, 4, 5, 2, 4, 5, 1, 2, 3, 4, 5, 3, 5, 2, 3, 4, 1, 2, 3, 4, 5, 1, 2, 3, 4, 5, 2, 3, 4, 5, 1, 2, 3, 4, 5, 1, 2, 3, 4, 5, 2, 3, 4, 5, 1, 2, 3, 4, 5, 1, 2, 3, 4, 5, 1, 2, 3, 5, 1, 2, 3, 4, 5, 1, 2, 3, 4, 5, 1, 2, 3, 4, 5, 1, 2, 3, 4, 5, 1, 2, 3, 4, 5, 1, 2, 3, 4, 5, 1, 2, 3, 4, 5, 1, 2, 3, 4, 5, 3, 4, 1, 2, 3, 4, 5, 2, 4, 5, 1, 2, 4, 5, 1, 3, 4, 1, 4, 5, 1, 3, 4, 1, 2, 3, 4, 5, 1, 2, 3, 4, 5, 2, 4, 5, 2, 4, 5, 1, 2, 3, 4, 5, 1, 2, 3, 4, 5, 1, 2, 3, 4, 5, 1, 2, 3, 4, 5, 1, 2, 3, 4, 5, 1, 2, 3, 4, 5, 2, 4, 5, 1, 3, 4, 5, 2, 3, 4, 1, 2, 3, 4, 5, 1, 2, 3, 4, 5, 1, 2, 3, 4, 1, 2, 3, 4, 5, 1, 2, 3, 4, 5, 1, 2, 3, 4, 5, 2, 3, 5, 1, 2, 3, 4, 5, 3, 5, 1, 2, 5, 1, 2, 3, 4, 5, 1, 2, 3, 4, 5, 1, 2, 3, 4, 5, 1, 2, 4, 1, 2, 3, 4, 5, 1, 2, 3, 4, 5, 1, 2, 3, 4, 5, 2, 4, 1, 2, 3, 4, 5, 1, 2, 3, 4, 5, 1, 3, 4, 5, 1, 2, 3, 4, 5, 2, 4, 5, 2, 3, 5, 1, 2, 3, 4, 5, 1, 2, 3, 4, 5, 1, 3, 4, 5, 1, 2, 3, 4, 5, 1, 2, 3, 4, 5, 2, 4, 5, 1, 2, 3, 4, 5, 1, 2, 3, 4, 5, 1, 3, 4, 5, 1, 2, 3, 4, 5, 1, 2, 3, 4, 5, 1, 2, 3, 4, 5, 1, 3, 4, 1, 2, 3, 4, 5, 1, 3, 4, 5, 1, 2, 3, 4, 5, 1, 2, 3, 4, 5, 1, 2, 3, 4, 5, 3, 5, 1, 2, 3, 4, 5, 1, 2, 3, 4, 5, 1, 2, 3, 4, 5, 1, 2, 3, 4, 5, 2, 4, 5, 1, 2, 3, 4, 5, 1, 2, 3, 4, 5, 1, 2, 3, 4, 5, 1, 2, 3, 4, 5, 1, 2, 3, 4, 5, 1, 2, 3, 4, 5, 1, 2, 3, 4, 5, 1, 2, 3, 4, 5, 2, 4, 5, 1, 2, 3, 4, 5, 1, 2, 3, 4, 5, 1, 2, 3, 4, 5, 1, 2, 3, 4, 5, 1, 2, 3, 4, 5, 3, 5, 1, 2, 4, 5, 2, 4, 5, 1, 3, 4, 5, 1, 2, 3, 5, 2, 3, 4, 5, 3, 4, 5, 1, 2, 3, 4, 5, 1, 2, 1, 2, 3, 4, 5, 3, 4, 1, 2, 3, 4, 5, 3, 4, 5, 1, 2, 3, 4, 5, 2, 4, 5, 2, 3, 4, 5, 1, 2, 3, 4, 5, 1, 2, 3, 4, 5, 1, 2, 3, 4, 5, 1, 2, 3, 4, 5, 2, 4, 1, 2, 3, 4, 5, 2, 4, 5, 1, 2, 3, 4, 5, 3, 4, 5, 1, 2, 3, 4, 5, 1, 2, 3, 4, 5, 1, 2, 3, 4, 5, 1, 2, 3, 4, 5, 1, 3, 4, 5, 1, 2, 3, 4, 5, 1, 2, 3, 4, 5, 2, 4, 5, 2, 4, 5, 2, 4, 5, 1, 2, 3, 4, 5, 1, 2, 3, 5, 1, 2, 3, 4, 5, 2, 3, 4, 2, 3, 4, 5, 1, 2, 3, 4, 5, 1, 2, 3, 4, 5, 1, 2, 3, 4, 5, 1, 2, 3, 4, 5, 3, 4, 1, 2, 3, 4, 5, 1, 2, 3, 4, 5, 1, 2, 3, 4, 5, 1, 2, 3, 4, 5, 1, 3, 4, 5, 1, 2, 3, 4, 5, 1, 2, 3, 4, 5, 2, 4, 5, 1, 3, 4, 5, 2, 3, 4, 5, 2, 3, 2, 3, 4, 5, 1, 2, 3, 5, 1, 2, 3, 4, 5, 1, 2, 3, 4, 5, 1, 2, 3, 4, 5, 1, 2, 3, 4, 5, 1, 2, 3, 4, 5, 1, 2, 3, 4, 5, 1, 2, 3, 4, 5, 1, 3, 4, 5, 1, 2, 3, 4, 5, 1, 2, 4, 5, 1, 2, 3, 4, 5, 1, 2, 3, 4, 5, 1, 2, 3, 4, 5, 1, 3, 4, 5, 1, 2, 5], \"Freq\": [0.17407380762359836, 0.11077424121501715, 0.5696960976772311, 0.07912445801072654, 0.06329956640858123, 0.05581087497041532, 0.04464869997633226, 0.5469465747100701, 0.08929739995266452, 0.2567300248639105, 0.09877562374835945, 0.05644321357049112, 0.5503213323122884, 0.1975512474967189, 0.09877562374835945, 0.06233189357882028, 0.0900349573916293, 0.1038864892980338, 0.3324367657537082, 0.40862019123893295, 0.03159296536426173, 0.0473894480463926, 0.15796482682130866, 0.03159296536426173, 0.7266382033780199, 0.08994824858961649, 0.8095342373065484, 0.08994824858961649, 0.08994824858961649, 0.789763037517892, 0.0987203796897365, 0.7583453643216723, 0.0812512890344649, 0.05416752602297659, 0.0812512890344649, 0.027083763011488297, 0.033985939457306366, 0.08496484864326592, 0.186922667015185, 0.5947539405028615, 0.08496484864326592, 0.10985590284674222, 0.0784685020333873, 0.0784685020333873, 0.6434417166737759, 0.09416220244006476, 0.8459167555094584, 0.06042262539353274, 0.06042262539353274, 0.06332837025504083, 0.5066269620403266, 0.43274386340944565, 0.09669050943800675, 0.06446033962533783, 0.09669050943800675, 0.032230169812668914, 0.7090637358787161, 0.033395946608628185, 0.16697973304314093, 0.13358378643451274, 0.2449036084632734, 0.4230153237092904, 0.0425395655388681, 0.7763470710843428, 0.06380934830830215, 0.010634891384717024, 0.10634891384717024, 0.10667620444694907, 0.1600143066704236, 0.693395328905169, 0.36252990713396055, 0.10357997346684587, 0.10357997346684587, 0.388424900500672, 0.04315832227785245, 0.6649127440367224, 0.03911251435510132, 0.05866877153265197, 0.1368938002428546, 0.09778128588775328, 0.8983267976979907, 0.04083303625899958, 0.04083303625899958, 0.10455404181099376, 0.17425673635165626, 0.0697026945406625, 0.6621755981362938, 0.15936226438509152, 0.15323294652412645, 0.1287156750802662, 0.3677590716579035, 0.1900088536899168, 0.79653261159033, 0.11379037308433285, 0.05689518654216642, 0.05178990936202272, 0.15536972808606817, 0.5869523061029241, 0.1381064249653939, 0.0863165156033712, 0.07583880847243535, 0.8342268931967888, 0.07583880847243535, 0.07583880847243535, 0.16349695686922686, 0.1430598372605735, 0.35424340654999154, 0.08856085163749788, 0.24524543530384027, 0.9062478627199282, 0.06041652418132854, 0.06041652418132854, 0.8883732072796958, 0.0683364005599766, 0.0683364005599766, 0.05247265856584362, 0.13992708950891633, 0.15741797569753085, 0.5422174718470507, 0.11369076022599452, 0.9038311482580877, 0.06455936773272056, 0.05148262616839979, 0.10296525233679958, 0.034321750778933194, 0.18876962928413257, 0.6177915140207975, 0.11928010537565757, 0.059640052687828786, 0.11928010537565757, 0.7156806322539454, 0.8225060866275012, 0.05140663041421883, 0.10281326082843766, 0.05140663041421883, 0.824624558772395, 0.06871871323103292, 0.06871871323103292, 0.12313127653384126, 0.09532743989716742, 0.45677731617392725, 0.10724336988431335, 0.2144867397686267, 0.15355977828284847, 0.11742806574570766, 0.3251854128342674, 0.23485613149141532, 0.1671091704842763, 0.8101070027170741, 0.07364609115609766, 0.07364609115609766, 0.015416549010610684, 0.1849985881273282, 0.6012454114138167, 0.04624964703183205, 0.15416549010610683, 0.051311040745707304, 0.10262208149141461, 0.7696656111856095, 0.051311040745707304, 0.10262208149141461, 0.8939434474843724, 0.03082563612015077, 0.03082563612015077, 0.03082563612015077, 0.03082563612015077, 0.8013409366707142, 0.02967929395076719, 0.02967929395076719, 0.05935858790153438, 0.07419823487691797, 0.26020051340535405, 0.04486215748368173, 0.16150376694125423, 0.46656643783029006, 0.07177945197389078, 0.20916382724112853, 0.03486063787352142, 0.03486063787352142, 0.6972127574704284, 0.03486063787352142, 0.8121513089704865, 0.07383193717913514, 0.07383193717913514, 0.14522601264245705, 0.07261300632122852, 0.7261300632122852, 0.07261300632122852, 0.06083524706511331, 0.08690749580730474, 0.24334098826045325, 0.5040634756823674, 0.10428899496876567, 0.796349839850184, 0.1592699679700368, 0.0530899893233456, 0.08532122059018596, 0.12798183088527895, 0.32909613656214587, 0.10360433928808296, 0.3473792552600429, 0.029694756186200266, 0.0890842685586008, 0.6532846360964059, 0.11877902474480106, 0.11877902474480106, 0.05226897595947902, 0.05226897595947902, 0.8363036153516643, 0.900772305545871, 0.081888391413261, 0.05314248137447964, 0.13285620343619908, 0.02657124068723982, 0.7971372206171946, 0.02657124068723982, 0.03827675545502969, 0.03827675545502969, 0.7272583536455641, 0.11483026636508907, 0.03827675545502969, 0.8451472711586825, 0.12073532445124036, 0.06036766222562018, 0.04680302328377132, 0.38612494209111337, 0.01170075582094283, 0.1638105814931996, 0.38612494209111337, 0.8383552910285631, 0.05988252078775451, 0.05988252078775451, 0.8312387898776046, 0.036140816951200194, 0.036140816951200194, 0.07228163390240039, 0.036140816951200194, 0.010472066246643513, 0.13613686120636567, 0.13613686120636567, 0.7016284385251154, 0.010472066246643513, 0.7965567988194523, 0.056896914201389454, 0.056896914201389454, 0.8284426967992199, 0.11296945865443908, 0.03765648621814636, 0.1407363507855352, 0.7740499293204437, 0.0703681753927676, 0.0703681753927676, 0.06379131592929405, 0.06379131592929405, 0.8292871070808226, 0.034097142743214945, 0.034097142743214945, 0.7501371403507288, 0.034097142743214945, 0.1704857137160747, 0.830922347106381, 0.06391710362356777, 0.06391710362356777, 0.8589985859083675, 0.05368741161927297, 0.05368741161927297, 0.048558048118831125, 0.11330211227727263, 0.18613918445551933, 0.5098595052477268, 0.14567414435649337, 0.06928456996766287, 0.13856913993532574, 0.06928456996766287, 0.6928456996766287, 0.01553496690909815, 0.45828152381839543, 0.0038837417272745375, 0.19030334463645235, 0.3301180468183357, 0.013321581315873573, 0.4928985086873222, 0.2930747889492186, 0.1998237197381036, 0.016224084622208115, 0.5840670463994921, 0.016224084622208115, 0.19468901546649736, 0.19468901546649736, 0.03299836126029173, 0.16499180630145863, 0.13199344504116692, 0.24198798257547266, 0.42897869638379243, 0.14069213835842811, 0.7738067609713547, 0.07034606917921406, 0.07034606917921406, 0.26257660822015705, 0.3660158781250674, 0.055698068410336345, 0.26257660822015705, 0.06365493532609867, 0.06930766464614857, 0.7277304787845601, 0.13861532929229714, 0.034653832323074285, 0.03306876872972875, 0.16534384364864374, 0.132275074918915, 0.23148138110810124, 0.4298939934864737, 0.16924631487099523, 0.07693014312317965, 0.45388784442675995, 0.10000918606013354, 0.20771138643258505, 0.8334011075665628, 0.09260012306295143, 0.046300061531475714, 0.8270427406666342, 0.06892022838888617, 0.06892022838888617, 0.8362642351901313, 0.06432801809154856, 0.06432801809154856, 0.040292696342857724, 0.2854065990952422, 0.1611707853714309, 0.46000828324762566, 0.05036587042857215, 0.01698484600432661, 0.3991438811016753, 0.11889392203028627, 0.30572722807787894, 0.1613560370411028, 0.06210698858481438, 0.12421397716962876, 0.06210698858481438, 0.7452838630177726, 0.06210698858481438, 0.017805026559651282, 0.6765910092667488, 0.05341507967895385, 0.2136603187158154, 0.035610053119302564, 0.03556538382305215, 0.2987492241136381, 0.06401769088149388, 0.43389768264123624, 0.17071384235065032, 0.03170204822386574, 0.17436126523126158, 0.17436126523126158, 0.5389348198057177, 0.07925512055966435, 0.038348228335068506, 0.21730662723205488, 0.14700154195109594, 0.4793528541883563, 0.11504468500520552, 0.2104292989581764, 0.1052146494790882, 0.22796507387135775, 0.3507154982636273, 0.11105990778348197, 0.3616271686978821, 0.13807582804828225, 0.15122590691002344, 0.14465086747915284, 0.2038262223569881, 0.8130115334886082, 0.054200768899240546, 0.027100384449620273, 0.10840153779848109, 0.03909234997154339, 0.11727704991463019, 0.07818469994308679, 0.03909234997154339, 0.7036622994877811, 0.8084011920109271, 0.1616802384021854, 0.9134351302449988, 0.060895675349666584, 0.03874540420952584, 0.15498161683810335, 0.15498161683810335, 0.24797058694096538, 0.3952031229371636, 0.15490345637824202, 0.176026654975275, 0.147862390179231, 0.21123198597033002, 0.30980691275648403, 0.10305030217708448, 0.15457545326562672, 0.19873986848437722, 0.39747973696875444, 0.15457545326562672, 0.013016916749119185, 0.2733552517315029, 0.1562030009894302, 0.02603383349823837, 0.5206766699647674, 0.08220044151286023, 0.08220044151286023, 0.8220044151286022, 0.08220044151286023, 0.0670824225079737, 0.0670824225079737, 0.0670824225079737, 0.6708242250797369, 0.1341648450159474, 0.04395014441864597, 0.1538255054652609, 0.1318504332559379, 0.2417257943025528, 0.4285139080817982, 0.03285957337553939, 0.16429786687769693, 0.6900510408863271, 0.03285957337553939, 0.06571914675107877, 0.8493148284897909, 0.07721043895361736, 0.08980803153283283, 0.7184642522626626, 0.08980803153283283, 0.08980803153283283, 0.823556841394134, 0.0686297367828445, 0.0686297367828445, 0.01679958621837761, 0.3695908968043074, 0.2855929657124193, 0.2435940001664753, 0.09239772420107685, 0.06739333807319128, 0.16286723367687894, 0.16848334518297822, 0.33696669036595644, 0.2639572407866659, 0.9175147482062875, 0.07645956235052397, 0.7082877641891051, 0.038285825091302975, 0.019142912545651487, 0.1914291254565149, 0.038285825091302975, 0.15545358599016829, 0.04352700407724712, 0.2953618133813197, 0.17410801630898848, 0.32956160229915676, 0.7639398629459352, 0.033214776649823266, 0.033214776649823266, 0.13285910659929306, 0.033214776649823266, 0.033655578006628016, 0.0897482080176747, 0.32533725406407077, 0.4823966180950015, 0.06731115601325603, 0.024004725266582573, 0.14402835159949542, 0.12002362633291286, 0.6721323074643121, 0.07201417579974771, 0.8665397868249729, 0.08665397868249729, 0.0395899842576671, 0.1583599370306684, 0.5740547717361729, 0.13856494490183485, 0.0791799685153342, 0.011579090680026083, 0.27403847942728393, 0.0038596968933420277, 0.2238624198138376, 0.48632180856109547, 0.02572347435078727, 0.45016080113877727, 0.012861737175393635, 0.30868169220944724, 0.20578779480629816, 0.8008990100554377, 0.10446508826810057, 0.0696433921787337, 0.5902337943114723, 0.016863822694613496, 0.13491058155690797, 0.2529573404192024, 0.01611741010546774, 0.4271113677948951, 0.00805870505273387, 0.1369979858964758, 0.41905266274216124, 0.05267772269359934, 0.10535544538719868, 0.7901658404039902, 0.07525167961697266, 0.0501677864113151, 0.0501677864113151, 0.1505033592339453, 0.6772651165527538, 0.855488319312638, 0.11406510924168507, 0.057032554620842536, 0.7310202597730029, 0.13426902730524543, 0.11935024649355148, 0.7715835561598927, 0.15431671123197854, 0.038579177807994636, 0.8748766038728095, 0.05146332963957703, 0.05146332963957703, 0.11930576442111915, 0.059652882210559574, 0.059652882210559574, 0.7754874687372745, 0.08306940815679609, 0.16613881631359217, 0.7476246734111648, 0.8144443210250285, 0.07404039282045713, 0.07404039282045713, 0.08905209832291343, 0.17810419664582686, 0.8014688849062209, 0.058878759453575576, 0.8831813918036335, 0.1206731275053223, 0.13072922146409915, 0.44246813418618175, 0.20112187917553717, 0.11061703354654544, 0.0316294835964567, 0.0632589671929134, 0.1265179343858268, 0.7274781227185041, 0.0632589671929134, 0.8616494922988626, 0.08616494922988625, 0.08616494922988625, 0.08908819041621864, 0.7127055233297491, 0.08908819041621864, 0.08908819041621864, 0.0825055619562856, 0.0825055619562856, 0.825055619562856, 0.00917466200526849, 0.4587331002634245, 0.00917466200526849, 0.4128597902370821, 0.11009594406322189, 0.5365334951168828, 0.014903708197691188, 0.31297787215151496, 0.1341333737792207, 0.22534525573358521, 0.020485932339416837, 0.5940920378430883, 0.020485932339416837, 0.14340152637591785, 0.8577649866581948, 0.05718433244387965, 0.05718433244387965, 0.053268704016855656, 0.07990305602528348, 0.7457618562359792, 0.026634352008427828, 0.10653740803371131, 0.806009833101884, 0.08955664812243157, 0.08232110905828054, 0.8232110905828054, 0.08232110905828054, 0.03534247494806218, 0.07068494989612437, 0.31808227453255966, 0.4417809368507773, 0.12369866231821763, 0.11656202703616296, 0.08742152027712222, 0.05828101351808148, 0.05828101351808148, 0.6702316554579371, 0.04724426049214217, 0.04724426049214217, 0.6614196468899903, 0.18897704196856868, 0.020197398619353005, 0.6261193571999432, 0.020197398619353005, 0.22217138481288304, 0.10098699309676502, 0.08349604697813394, 0.49169894331567765, 0.06494136987188195, 0.16699209395626788, 0.19482410961564586, 0.08481402413021434, 0.04240701206510717, 0.04240701206510717, 0.7633262171719291, 0.4185385885942633, 0.12309958488066568, 0.17233941883293194, 0.09847966790453254, 0.1846493773209985, 0.13103044556644783, 0.19309749872950208, 0.15861580252780527, 0.17930482024882335, 0.3379206227766286, 0.06930942111202791, 0.06930942111202791, 0.17327355278006976, 0.693094211120279, 0.053923676928985746, 0.7279696385413076, 0.026961838464492873, 0.16177103078695723, 0.026961838464492873, 0.8511632040389325, 0.06304912622510611, 0.015762281556276528, 0.047286844668829583, 0.015762281556276528, 0.01848447676129147, 0.01848447676129147, 0.8872548845419906, 0.03696895352258294, 0.03696895352258294, 0.06460895373522495, 0.11629611672340491, 0.19382686120567486, 0.5297934206288446, 0.09045253522931493, 0.7968486246650066, 0.029512912024629873, 0.029512912024629873, 0.029512912024629873, 0.08853873607388962, 0.8385782303792844, 0.034940759599136846, 0.034940759599136846, 0.034940759599136846, 0.034940759599136846, 0.08101336891047654, 0.06628366547220808, 0.3093237722036377, 0.11047277578701348, 0.42716139970978545, 0.7496158478303233, 0.0277635499196416, 0.0555270998392832, 0.0555270998392832, 0.0555270998392832, 0.8962614520219584, 0.08962614520219583, 0.06875300491585365, 0.0916706732211382, 0.16042367813699185, 0.6416947125479674, 0.0458353366105691, 0.8376051724407183, 0.06443116711082449, 0.06443116711082449, 0.07372809007963724, 0.07372809007963724, 0.14745618015927447, 0.6635528107167352, 0.8426385223416809, 0.060188465881548636, 0.060188465881548636, 0.8787493113929515, 0.07322910928274597, 0.07322910928274597, 0.06743590504210298, 0.13487181008420596, 0.6743590504210298, 0.05841875322697534, 0.05841875322697534, 0.175256259680926, 0.6426062854967287, 0.05841875322697534, 0.029240189883334586, 0.2631617089500113, 0.029240189883334586, 0.6725243673166954, 0.029240189883334586, 0.8085665650332997, 0.1078088753377733, 0.05390443766888665, 0.8225190826465621, 0.13708651377442702, 0.06854325688721351, 0.8699034913099671, 0.05117079360646866, 0.05117079360646866, 0.05117079360646866, 0.05117079360646866, 0.7680349355798665, 0.019693203476406834, 0.0590796104292205, 0.12800582259664442, 0.02953980521461025, 0.7837635059144472, 0.03562561390520215, 0.03562561390520215, 0.10687684171560645, 0.0712512278104043, 0.12428340538151476, 0.24856681076302953, 0.20713900896919127, 0.21305726636831102, 0.21305726636831102, 0.0651569927509921, 0.0651569927509921, 0.7818839130119051, 0.0651569927509921, 0.0651569927509921, 0.06625446686180234, 0.09275625360652327, 0.22526518733012793, 0.596290201756221, 0.026501786744720934, 0.8372250734252329, 0.06440192872501792, 0.06440192872501792, 0.07843221127884592, 0.07843221127884592, 0.7058899015096133, 0.07843221127884592, 0.08774535560057142, 0.08774535560057142, 0.7019628448045714, 0.07082135361326938, 0.09013626823507012, 0.09657457310900369, 0.39917490218388196, 0.3476684631924133, 0.05038137077680745, 0.4836611594573515, 0.11083901570897639, 0.09068646739825341, 0.2619831280393987, 0.029958104030463277, 0.1497905201523164, 0.11983241612185311, 0.6890363927006554, 0.012100859395203702, 0.14521031274244442, 0.12100859395203702, 0.7018498449218147, 0.012100859395203702, 0.022814308750889946, 0.06844292625266984, 0.06844292625266984, 0.7756864975302582, 0.04562861750177989, 0.12988771033526927, 0.01623596379190866, 0.7306183706358897, 0.04870789137572598, 0.0811798189595433, 0.09006235313084897, 0.7204988250467917, 0.09006235313084897, 0.04933107601064058, 0.04933107601064058, 0.16443692003546861, 0.03288738400709372, 0.707078756152515, 0.20824284536518636, 0.7635570996723501, 0.02824757653133571, 0.05649515306267142, 0.9039224490027428, 0.07515872855648018, 0.07515872855648018, 0.025052909518826726, 0.6764285570083216, 0.15031745711296035, 0.2095109118090693, 0.17727846383844326, 0.05909282127948109, 0.31695240504448946, 0.23637128511792435, 0.06416805864802196, 0.5293864838461811, 0.01604201466200549, 0.08021007331002744, 0.30479827857810426, 0.8343647036092029, 0.06418190027763099, 0.06418190027763099, 0.014989857602664242, 0.47967544328525574, 0.1798782912319709, 0.16488843362930666, 0.14989857602664242, 0.21548842990170805, 0.10774421495085403, 0.2539685066698702, 0.08465616888995672, 0.3386246755598269, 0.7673260229268539, 0.03836630114634269, 0.03836630114634269, 0.11509890343902808, 0.03836630114634269, 0.8417583521841006, 0.10521979402301257, 0.08676489439585243, 0.034705957758340976, 0.607354260770967, 0.12147085215419341, 0.17352978879170486, 0.2837927768789676, 0.06811026645095222, 0.28946863241654697, 0.1191929662891664, 0.2383859325783328, 0.842129913581413, 0.06015213668438664, 0.06015213668438664, 0.06015213668438664, 0.035118092720062215, 0.07023618544012443, 0.035118092720062215, 0.7374799471213065, 0.14047237088024886, 0.8261536497941878, 0.06884613748284898, 0.06884613748284898, 0.09145601179321175, 0.09145601179321175, 0.731648094345694, 0.049239881419006176, 0.5088121079963971, 0.032826587612670786, 0.1641329380633539, 0.24619940709503088, 0.04989102257527982, 0.07483653386291972, 0.4240736918898784, 0.12472755643819954, 0.3242916467393188, 0.8065220791328269, 0.07332018901207518, 0.07332018901207518, 0.07332018901207518, 0.10261717938240551, 0.051308589691202756, 0.025654294845601378, 0.7696288453680413, 0.07696288453680414, 0.04801536660630326, 0.14404609981890978, 0.6602112908366699, 0.04801536660630326, 0.09603073321260652, 0.8137269502557172, 0.07397517729597429, 0.07397517729597429, 0.05089342448613175, 0.1017868489722635, 0.1017868489722635, 0.6616145183197127, 0.1017868489722635, 0.03652607963186793, 0.03652607963186793, 0.07305215926373586, 0.8400998315329623, 0.03652607963186793, 0.8385837976597499, 0.059898842689982135, 0.059898842689982135, 0.059898842689982135, 0.2053790424715737, 0.0864753863038205, 0.09728480959179807, 0.10809423287977563, 0.5080428945349454, 0.04471145778023279, 0.17884583112093116, 0.14371540000789113, 0.5844426266987572, 0.05109880889169462, 0.8671728674876219, 0.028905762249587397, 0.028905762249587397, 0.028905762249587397, 0.028905762249587397, 0.8803033444035974, 0.04633175496861039, 0.04633175496861039, 0.08557279143791195, 0.046676068057042885, 0.5678921613606884, 0.2256009956090406, 0.07001410208556433, 0.08292292929133462, 0.7048448989763442, 0.12438439393700192, 0.04146146464566731, 0.08218189431839333, 0.06723973171504909, 0.5304467724187206, 0.19424811384347515, 0.12700838212842605, 0.03149872766118342, 0.03149872766118342, 0.5669770979013016, 0.2834885489506508, 0.09449618298355025, 0.03086933515097062, 0.03086933515097062, 0.5968071462520986, 0.28811379474239246, 0.05144889191828437, 0.07461137831070361, 0.8207251614177397, 0.019499308261503066, 0.07799723304601226, 0.19499308261503065, 0.6629764808911042, 0.058497924784509193, 0.03820789229723094, 0.05094385639630792, 0.2547192819815396, 0.5985903126566181, 0.05094385639630792, 0.19217785887830682, 0.16306000147250277, 0.30282571702036226, 0.18053071591598518, 0.15723642999134194, 0.06204235305609474, 0.08393965413471641, 0.16787930826943281, 0.5620307276846229, 0.1204351559324192, 0.8279572330437696, 0.06899643608698079, 0.06899643608698079, 0.01683253044662672, 0.5891385656319352, 0.00841626522331336, 0.0841626522331336, 0.3114018132625943, 0.17115332117770363, 0.21891703871566742, 0.1910548701518552, 0.25473982686914026, 0.15921239179321267, 0.18193887005322276, 0.21404572947437972, 0.1444808673952063, 0.2086945862375202, 0.2515037321323962, 0.008400213787075861, 0.033600855148303445, 0.5376136823728551, 0.39481004799256547, 0.016800427574151722, 0.1293544079150553, 0.08084650494690956, 0.2748781168194925, 0.44196089370977226, 0.07545673795044892, 0.41699707720333257, 0.05212463465041657, 0.041699707720333254, 0.3752973694829993, 0.11467419623091644, 0.31887556741434714, 0.09566267022430414, 0.09566267022430414, 0.15943778370717357, 0.3348193457850645, 0.8105917329988528, 0.04052958664994264, 0.08105917329988528, 0.04052958664994264, 0.04052958664994264, 0.8246172802138594, 0.06871810668448829, 0.06871810668448829, 0.14435635811772232, 0.07217817905886116, 0.03608908952943058, 0.685692701059181, 0.07217817905886116, 0.041097159496876756, 0.061645739245315134, 0.20548579748438378, 0.6370059722015897, 0.061645739245315134, 0.04735824390856453, 0.13260308294398068, 0.12313143416226778, 0.5209406829942098, 0.1704896780708323, 0.09247588165351071, 0.11302607757651309, 0.2311897041337768, 0.15926401840326845, 0.4007288204985464, 0.11158395398133976, 0.018597325663556628, 0.09298662831778313, 0.6509063982244819, 0.1301812796448964, 0.09024880958142494, 0.8122392862328245, 0.05615949292757153, 0.11231898585514306, 0.11231898585514306, 0.7300734080584299, 0.801238450731919, 0.12651133432609246, 0.042170444775364156, 0.9219835621128911, 0.03179253662458245, 0.03179253662458245, 0.03179253662458245, 0.04685072227036736, 0.09370144454073472, 0.04685072227036736, 0.8433130008666125, 0.050237325294893, 0.150711975884679, 0.753559879423395, 0.050237325294893, 0.705260520668683, 0.17631513016717076, 0.08815756508358538, 0.5117974504981624, 0.014216595847171179, 0.2558987252490812, 0.09951617093019825, 0.09951617093019825, 0.8662914050957056, 0.08662914050957056, 0.08434595464972149, 0.02811531821657383, 0.7731712509557803, 0.07028829554143458, 0.04217297732486074, 0.8570738354676055, 0.05713825569784037, 0.03682357715215653, 0.03682357715215653, 0.8101186973474436, 0.11047073145646957, 0.03682357715215653, 0.739981641372552, 0.1479963282745104, 0.0739981641372552, 0.1160946464882371, 0.16389832445398178, 0.198043808715228, 0.1502401307494833, 0.368771230021459, 0.8363755681212423, 0.12867316432634496, 0.06433658216317248, 0.08223046574758112, 0.7400741917282301, 0.08223046574758112, 0.08223046574758112, 0.0810491156282121, 0.2971800906367777, 0.16885232422544186, 0.3917373922030251, 0.06078683672115907, 0.05140671528546384, 0.05140671528546384, 0.15422014585639152, 0.6682872987110299, 0.05140671528546384, 0.04668593881167611, 0.16673549575598612, 0.300123892360775, 0.420173449305085, 0.06669419830239445, 0.03348946159493413, 0.16744730797467064, 0.14512100024471455, 0.22326307729956082, 0.43536300073414363, 0.7924145118707318, 0.1440753657946785, 0.030266764733512648, 0.24213411786810118, 0.030266764733512648, 0.6658688241372782, 0.030266764733512648, 0.7661837408641944, 0.12097638013645173, 0.08065092009096783, 0.1550797027612974, 0.040810448095078264, 0.18772806123736002, 0.1550797027612974, 0.46523910828389226, 0.08194290489934794, 0.08194290489934794, 0.8194290489934795, 0.039810466053509665, 0.019905233026754832, 0.07962093210701933, 0.019905233026754832, 0.836019787123703, 0.1313796509670241, 0.1313796509670241, 0.3430468664138962, 0.1678739984578641, 0.22626495444320813, 0.5888907557741243, 0.039259383718274955, 0.17666722673223728, 0.05888907557741243, 0.13740784301396233, 0.519094885816073, 0.06488686072700912, 0.0811085759087614, 0.1622171518175228, 0.1622171518175228, 0.059943409348673565, 0.1798302280460207, 0.059943409348673565, 0.7193209121840828, 0.025413391439693588, 0.7624017431908076, 0.10165356575877435, 0.050826782879387175, 0.050826782879387175, 0.8570831124231407, 0.053567694526446295, 0.053567694526446295, 0.053567694526446295, 0.053567694526446295, 0.8362183624122846, 0.0643244894163296, 0.0643244894163296, 0.8395416297067082, 0.09876960349490685, 0.049384801747453425, 0.8453056080700615, 0.12075794401000879, 0.060378972005004396, 0.07417729250933393, 0.15659650640859385, 0.14835458501866786, 0.19780611335822382, 0.4285799122761516, 0.07717709271812744, 0.6945938344631468, 0.025725697572709143, 0.20580558058167314, 0.8613034387286868, 0.05383146492054292, 0.05383146492054292, 0.05383146492054292, 0.05383146492054292, 0.12471181520140041, 0.06235590760070021, 0.7482708912084025, 0.6632818238173405, 0.12059669523951645, 0.12059669523951645, 0.09044752142963734, 0.8807442507607504, 0.021481567091725617, 0.021481567091725617, 0.04296313418345123, 0.021481567091725617, 0.8451121587630737, 0.0603651541973624, 0.0603651541973624, 0.0603651541973624, 0.0603651541973624, 0.3895226579941404, 0.14164460290696013, 0.24787805508718022, 0.08262601836239342, 0.14164460290696013, 0.11139227362668125, 0.06962017101667578, 0.3481008550833789, 0.17405042754168945, 0.2924047182700383, 0.8327561641821757, 0.13879269403036262, 0.06432396369483721, 0.12280029432650742, 0.16373372576867656, 0.2689911209056829, 0.37424851604268927, 0.08792469956811455, 0.05861646637874303, 0.7327058297342879, 0.05861646637874303, 0.05861646637874303, 0.04741622263062351, 0.14224866789187052, 0.09483244526124703, 0.5689946715674821, 0.14224866789187052, 0.025675455337424605, 0.012837727668712303, 0.012837727668712303, 0.012837727668712303, 0.9371541198159982, 0.09463470594428057, 0.06308980396285371, 0.09463470594428057, 0.7255327455728177, 0.1808891662905864, 0.020098796254509603, 0.1205927775270576, 0.0602963887635288, 0.6029638876352881, 0.3199299070618618, 0.05893445656402717, 0.19364178585323213, 0.11365930908776668, 0.3157203030215741, 0.8141202359232347, 0.07401093053847588, 0.07401093053847588, 0.054172409309917506, 0.8667585489586801, 0.054172409309917506, 0.054172409309917506, 0.07146118476917852, 0.1786529619229463, 0.7146118476917852, 0.03573059238458926, 0.09027843685882254, 0.8125059317294029, 0.045950567287450374, 0.7811596438866564, 0.09190113457490075, 0.045950567287450374, 0.04670867564767162, 0.04670867564767162, 0.04670867564767162, 0.8407561616580892, 0.09323043814132971, 0.072512562998812, 0.1657430011401417, 0.5593826288479783, 0.10358937571258857, 0.6942655998725205, 0.0443148255237779, 0.07385804253962983, 0.16248769358718562, 0.029543217015851934, 0.7680446452714971, 0.02477563371843539, 0.02477563371843539, 0.12387816859217694, 0.04955126743687078, 0.8662389425905409, 0.02585787888329973, 0.05171575776659946, 0.02585787888329973, 0.03878681832494959, 0.7652906026291405, 0.031887108442880854, 0.031887108442880854, 0.12754843377152342, 0.06377421688576171, 0.8384965720360081, 0.04791408983062904, 0.02395704491531452, 0.07187113474594356, 0.02395704491531452, 0.8346891729562258, 0.03477871553984274, 0.03477871553984274, 0.06955743107968548, 0.03477871553984274, 0.8269044124377407, 0.04593913402431893, 0.09187826804863786, 0.04593913402431893, 0.681170298663861, 0.05676419155532175, 0.05676419155532175, 0.07568558874042901, 0.13244978029575075, 0.7507501760627375, 0.025887937105611637, 0.12943968552805818, 0.07766381131683492, 0.18352876600582776, 0.02294109575072847, 0.09176438300291388, 0.09176438300291388, 0.6423506810203972, 0.08975890065156637, 0.044879450325783186, 0.08975890065156637, 0.044879450325783186, 0.7629506555383142, 0.04718746630400631, 0.6842182614080915, 0.023593733152003155, 0.07078119945600947, 0.16515613206402208, 0.021494430701119914, 0.6878217824358372, 0.257933168413439, 0.021494430701119914, 0.8849399374320515, 0.03277555323822413, 0.06555110647644825], \"Term\": [\"\\uac00\\uaca9\", \"\\uac00\\uaca9\", \"\\uac00\\uaca9\", \"\\uac00\\uaca9\", \"\\uac00\\uaca9\", \"\\uac00\\uaca9\\uc740\", \"\\uac00\\uaca9\\uc740\", \"\\uac00\\uaca9\\uc740\", \"\\uac00\\uaca9\\uc740\", \"\\uac00\\uaca9\\uc740\", \"\\uac00\\uaca9\\uc774\", \"\\uac00\\uaca9\\uc774\", \"\\uac00\\uaca9\\uc774\", \"\\uac00\\uaca9\\uc774\", \"\\uac00\\uaca9\\uc774\", \"\\uac00\\ub2a5\\uc131\\uc774\", \"\\uac00\\ub2a5\\uc131\\uc774\", \"\\uac00\\ub2a5\\uc131\\uc774\", \"\\uac00\\ub2a5\\uc131\\uc774\", \"\\uac00\\ub2a5\\uc131\\uc774\", \"\\uac00\\uc0c1\\ud654\\ud3d0\", \"\\uac00\\uc0c1\\ud654\\ud3d0\", \"\\uac00\\uc0c1\\ud654\\ud3d0\", \"\\uac00\\uc0c1\\ud654\\ud3d0\", \"\\uac00\\uc0c1\\ud654\\ud3d0\", \"\\uac04\\uc0ac\\uac00\", \"\\uac04\\uc0ac\\uac00\", \"\\uac04\\uc0ac\\uac00\", \"\\uac04\\uc0ac\\uac00\", \"\\uac10\\uc18c\\ud55c\", \"\\uac10\\uc18c\\ud55c\", \"\\uac15\\uc6d0\", \"\\uac15\\uc6d0\", \"\\uac15\\uc6d0\", \"\\uac15\\uc6d0\", \"\\uac15\\uc6d0\", \"\\uac19\\uc2b5\\ub2c8\\ub2e4\", \"\\uac19\\uc2b5\\ub2c8\\ub2e4\", \"\\uac19\\uc2b5\\ub2c8\\ub2e4\", \"\\uac19\\uc2b5\\ub2c8\\ub2e4\", \"\\uac19\\uc2b5\\ub2c8\\ub2e4\", \"\\uac19\\uc544\\uc694\", \"\\uac19\\uc544\\uc694\", \"\\uac19\\uc544\\uc694\", \"\\uac19\\uc544\\uc694\", \"\\uac19\\uc544\\uc694\", \"\\uac1c\\ub7c9\\ud558\\uace0\", \"\\uac1c\\ub7c9\\ud558\\uace0\", \"\\uac1c\\ub7c9\\ud558\\uace0\", \"\\uac24\\ub7ed\\uc2dc\", \"\\uac24\\ub7ed\\uc2dc\", \"\\uac24\\ub7ed\\uc2dc\", \"\\uac74\\uac15\\ud55c\", \"\\uac74\\uac15\\ud55c\", \"\\uac74\\uac15\\ud55c\", \"\\uac74\\uac15\\ud55c\", \"\\uac74\\uac15\\ud55c\", \"\\uac80\\uc0c9\\ud574\", \"\\uac80\\uc0c9\\ud574\", \"\\uac80\\uc0c9\\ud574\", \"\\uac80\\uc0c9\\ud574\", \"\\uac80\\uc0c9\\ud574\", \"\\uac8c\\uc784\", \"\\uac8c\\uc784\", \"\\uac8c\\uc784\", \"\\uac8c\\uc784\", \"\\uac8c\\uc784\", \"\\uac8c\\ud2f0\\uc774\\ubbf8\\uc9c0\\ubc45\\ud06c\", \"\\uac8c\\ud2f0\\uc774\\ubbf8\\uc9c0\\ubc45\\ud06c\", \"\\uac8c\\ud2f0\\uc774\\ubbf8\\uc9c0\\ubc45\\ud06c\", \"\\uacbd\\uae30\", \"\\uacbd\\uae30\", \"\\uacbd\\uae30\", \"\\uacbd\\uae30\", \"\\uacbd\\uae30\", \"\\uacbd\\uae30\\ub3c4\", \"\\uacbd\\uae30\\ub3c4\", \"\\uacbd\\uae30\\ub3c4\", \"\\uacbd\\uae30\\ub3c4\", \"\\uacbd\\uae30\\ub3c4\", \"\\uacbd\\uc0c1\\uc218\\uc9c0\", \"\\uacbd\\uc0c1\\uc218\\uc9c0\", \"\\uacbd\\uc0c1\\uc218\\uc9c0\", \"\\uacbd\\ucc30\", \"\\uacbd\\ucc30\", \"\\uacbd\\ucc30\", \"\\uacbd\\ucc30\", \"\\uacc4\\uc18d\", \"\\uacc4\\uc18d\", \"\\uacc4\\uc18d\", \"\\uacc4\\uc18d\", \"\\uacc4\\uc18d\", \"\\uace0\\ub3c4\\uac00\", \"\\uace0\\ub3c4\\uac00\", \"\\uace0\\ub3c4\\uac00\", \"\\uacf5\\uac1c\", \"\\uacf5\\uac1c\", \"\\uacf5\\uac1c\", \"\\uacf5\\uac1c\", \"\\uacf5\\uac1c\", \"\\uacf5\\uac1c\\ud558\\uba74\", \"\\uacf5\\uac1c\\ud558\\uba74\", \"\\uacf5\\uac1c\\ud558\\uba74\", \"\\uacf5\\uac1c\\ud558\\uba74\", \"\\uad00\\uacc4\\uc790\\ub294\", \"\\uad00\\uacc4\\uc790\\ub294\", \"\\uad00\\uacc4\\uc790\\ub294\", \"\\uad00\\uacc4\\uc790\\ub294\", \"\\uad00\\uacc4\\uc790\\ub294\", \"\\uad00\\ucc30\\ub300\\uc0c1\\uad6d\\uc5d0\", \"\\uad00\\ucc30\\ub300\\uc0c1\\uad6d\\uc5d0\", \"\\uad00\\ucc30\\ub300\\uc0c1\\uad6d\\uc5d0\", \"\\uad00\\ucc30\\ub300\\uc0c1\\uad6d\\uc73c\\ub85c\", \"\\uad00\\ucc30\\ub300\\uc0c1\\uad6d\\uc73c\\ub85c\", \"\\uad00\\ucc30\\ub300\\uc0c1\\uad6d\\uc73c\\ub85c\", \"\\uad49\\uc7a5\\ud788\", \"\\uad49\\uc7a5\\ud788\", \"\\uad49\\uc7a5\\ud788\", \"\\uad49\\uc7a5\\ud788\", \"\\uad49\\uc7a5\\ud788\", \"\\uad50\\uc12d\\uc744\", \"\\uad50\\uc12d\\uc744\", \"\\uad50\\uc218\", \"\\uad50\\uc218\", \"\\uad50\\uc218\", \"\\uad50\\uc218\", \"\\uad50\\uc218\", \"\\uad50\\uc218\\uac00\", \"\\uad50\\uc218\\uac00\", \"\\uad50\\uc218\\uac00\", \"\\uad50\\uc218\\uac00\", \"\\uad6d\\uac00\\uc548\\ubcf4\\uc2e4\", \"\\uad6d\\uac00\\uc548\\ubcf4\\uc2e4\", \"\\uad6d\\uac00\\uc548\\ubcf4\\uc2e4\", \"\\uad6d\\uac00\\uc548\\ubcf4\\uc2e4\", \"\\uad6d\\uac00\\uc548\\ubcf4\\uc2e4\\uc740\", \"\\uad6d\\uac00\\uc548\\ubcf4\\uc2e4\\uc740\", \"\\uad6d\\uac00\\uc548\\ubcf4\\uc2e4\\uc740\", \"\\uad6d\\ub0b4\", \"\\uad6d\\ub0b4\", \"\\uad6d\\ub0b4\", \"\\uad6d\\ub0b4\", \"\\uad6d\\ub0b4\", \"\\uad6d\\ubbfc\\uc758\\ud798\", \"\\uad6d\\ubbfc\\uc758\\ud798\", \"\\uad6d\\ubbfc\\uc758\\ud798\", \"\\uad6d\\ubbfc\\uc758\\ud798\", \"\\uad6d\\ubbfc\\uc758\\ud798\", \"\\uad6d\\ubc29\\ube44\\uc11c\\uad00\", \"\\uad6d\\ubc29\\ube44\\uc11c\\uad00\", \"\\uad6d\\ubc29\\ube44\\uc11c\\uad00\", \"\\uad6d\\uc815\\uc6d0\", \"\\uad6d\\uc815\\uc6d0\", \"\\uad6d\\uc815\\uc6d0\", \"\\uad6d\\uc815\\uc6d0\", \"\\uad6d\\uc815\\uc6d0\", \"\\uad6d\\uc815\\uc6d0\\uc774\", \"\\uad6d\\uc815\\uc6d0\\uc774\", \"\\uad6d\\uc815\\uc6d0\\uc774\", \"\\uad6d\\uc815\\uc6d0\\uc774\", \"\\uad6d\\uc815\\uc6d0\\uc774\", \"\\uad6d\\ud1a0\\uad50\\ud1b5\\ubd80\\uc640\", \"\\uad6d\\ud1a0\\uad50\\ud1b5\\ubd80\\uc640\", \"\\uad6d\\ud1a0\\uad50\\ud1b5\\ubd80\\uc640\", \"\\uad6d\\ud1a0\\uad50\\ud1b5\\ubd80\\uc640\", \"\\uad6d\\ud1a0\\uad50\\ud1b5\\ubd80\\uc640\", \"\\uad6d\\ud1a0\\ubd80\\ub294\", \"\\uad6d\\ud1a0\\ubd80\\ub294\", \"\\uad6d\\ud1a0\\ubd80\\ub294\", \"\\uad6d\\ud1a0\\ubd80\\ub294\", \"\\uad6d\\ud1a0\\ubd80\\ub294\", \"\\uad6d\\ud68c\", \"\\uad6d\\ud68c\", \"\\uad6d\\ud68c\", \"\\uad6d\\ud68c\", \"\\uad6d\\ud68c\", \"\\uad6d\\ud68c\\uac00\", \"\\uad6d\\ud68c\\uac00\", \"\\uad6d\\ud68c\\uac00\", \"\\uad6d\\ud68c\\uac00\", \"\\uad6d\\ud68c\\uac00\", \"\\uad8c\\uc601\\ud638\", \"\\uad8c\\uc601\\ud638\", \"\\uad8c\\uc601\\ud638\", \"\\uadf8\\uac83\\uc740\", \"\\uadf8\\uac83\\uc740\", \"\\uadf8\\uac83\\uc740\", \"\\uadf8\\uac83\\uc740\", \"\\uadf8\\ub807\\uac8c\", \"\\uadf8\\ub807\\uac8c\", \"\\uadf8\\ub807\\uac8c\", \"\\uadf8\\ub807\\uac8c\", \"\\uadf8\\ub807\\uac8c\", \"\\uadfc\\uc6d0\", \"\\uadfc\\uc6d0\", \"\\uadfc\\uc6d0\", \"\\uae00\\ub85c\\ubc8c\", \"\\uae00\\ub85c\\ubc8c\", \"\\uae00\\ub85c\\ubc8c\", \"\\uae00\\ub85c\\ubc8c\", \"\\uae00\\ub85c\\ubc8c\", \"\\uae00\\uc744\", \"\\uae00\\uc744\", \"\\uae00\\uc744\", \"\\uae00\\uc744\", \"\\uae00\\uc744\", \"\\uae08\\uc9c0\\ud569\\ub2c8\\ub2e4\", \"\\uae08\\uc9c0\\ud569\\ub2c8\\ub2e4\", \"\\uae08\\uc9c0\\ud569\\ub2c8\\ub2e4\", \"\\uae09\\ub4f1\\ud574\", \"\\uae09\\ub4f1\\ud574\", \"\\uae30\\ub150\", \"\\uae30\\ub150\", \"\\uae30\\ub150\", \"\\uae30\\ub150\", \"\\uae30\\ub150\", \"\\uae30\\ub85d\\uc744\", \"\\uae30\\ub85d\\uc744\", \"\\uae30\\ub85d\\uc744\", \"\\uae30\\ub85d\\uc744\", \"\\uae30\\ub85d\\uc744\", \"\\uae30\\ubbfc\\ud558\\uac8c\", \"\\uae30\\ubbfc\\ud558\\uac8c\", \"\\uae30\\ubbfc\\ud558\\uac8c\", \"\\uae30\\uc0c1\", \"\\uae30\\uc0c1\", \"\\uae30\\uc0c1\", \"\\uae30\\uc0c1\", \"\\uae30\\uc0c1\", \"\\uae30\\uc628\", \"\\uae30\\uc628\", \"\\uae30\\uc628\", \"\\uae30\\uc628\\uc740\", \"\\uae30\\uc628\\uc740\", \"\\uae30\\uc628\\uc740\", \"\\uae30\\uc628\\uc740\", \"\\uae30\\uc628\\uc740\", \"\\uae40\\uac74\\ud76c\", \"\\uae40\\uac74\\ud76c\", \"\\uae40\\uac74\\ud76c\", \"\\uae40\\uac74\\ud76c\", \"\\uae40\\uac74\\ud76c\", \"\\uae40\\uc131\\ud55c\", \"\\uae40\\uc131\\ud55c\", \"\\uae40\\uc131\\ud55c\", \"\\uae40\\ud0dc\\ud6a8\", \"\\uae40\\ud0dc\\ud6a8\", \"\\uae40\\ud0dc\\ud6a8\", \"\\uae40\\ud604\\uc815\\uc758\", \"\\uae40\\ud604\\uc815\\uc758\", \"\\uae40\\ud604\\uc815\\uc758\", \"\\uae40\\ud604\\uc815\\uc758\", \"\\ub098\\ud0c0\\ub098\\ub294\", \"\\ub098\\ud0c0\\ub098\\ub294\", \"\\ub098\\ud0c0\\ub098\\ub294\", \"\\ub0a8\\uc131\", \"\\ub0a8\\uc131\", \"\\ub0a8\\uc131\", \"\\ub0a8\\uc131\", \"\\ub0a8\\uc131\", \"\\ub0b4\\ub959\\ubb3c\\ub958\\uae30\\uc9c0\", \"\\ub0b4\\ub959\\ubb3c\\ub958\\uae30\\uc9c0\", \"\\ub0b4\\ub959\\ubb3c\\ub958\\uae30\\uc9c0\", \"\\ub0b4\\ub959\\ucee8\\ud14c\\uc774\\ub108\\uae30\\uc9c0\", \"\\ub0b4\\ub959\\ucee8\\ud14c\\uc774\\ub108\\uae30\\uc9c0\", \"\\ub0b4\\ub959\\ucee8\\ud14c\\uc774\\ub108\\uae30\\uc9c0\", \"\\ub108\\ubb34\", \"\\ub108\\ubb34\", \"\\ub108\\ubb34\", \"\\ub108\\ubb34\", \"\\ub108\\ubb34\", \"\\ub192\\uc544\\uc9c0\\uace0\", \"\\ub192\\uc544\\uc9c0\\uace0\", \"\\ub192\\uc544\\uc9c0\\uace0\", \"\\ub192\\uc544\\uc9c0\\uace0\", \"\\ub204\\ub9ac\\ud638\", \"\\ub204\\ub9ac\\ud638\", \"\\ub204\\ub9ac\\ud638\", \"\\ub204\\ub9ac\\ud638\", \"\\ub204\\ub9ac\\ud638\", \"\\ub204\\ub9ac\\ud638\\ub294\", \"\\ub204\\ub9ac\\ud638\\ub294\", \"\\ub204\\ub9ac\\ud638\\ub294\", \"\\ub204\\ub9ac\\ud638\\ub294\", \"\\ub204\\ub9ac\\ud638\\ub97c\", \"\\ub204\\ub9ac\\ud638\\ub97c\", \"\\ub204\\ub9ac\\ud638\\ub97c\", \"\\ub204\\ub9ac\\ud638\\ub97c\", \"\\ub204\\ub9ac\\ud638\\ub97c\", \"\\ub274\\uc2a4\\uac00\", \"\\ub274\\uc2a4\\uac00\", \"\\ub274\\uc2a4\\uac00\", \"\\ub274\\uc2a4\\uac00\", \"\\ub274\\uc2a4\\uac00\", \"\\ub274\\uc2a4\\uc1fc\", \"\\ub274\\uc2a4\\uc1fc\", \"\\ub274\\uc2a4\\uc1fc\", \"\\ub274\\uc2a4\\uc1fc\", \"\\ub274\\uc2dc\\uc2a4\", \"\\ub274\\uc2dc\\uc2a4\", \"\\ub274\\uc2dc\\uc2a4\", \"\\ub274\\uc2dc\\uc2a4\", \"\\ub274\\uc2dc\\uc2a4\", \"\\ub2f9\\uc120\\uc778\\uc740\", \"\\ub2f9\\uc120\\uc778\\uc740\", \"\\ub2f9\\uc120\\uc778\\uc740\", \"\\ub2f9\\uc120\\uc778\\uc740\", \"\\ub2f9\\uc2e0\\uc758\", \"\\ub2f9\\uc2e0\\uc758\", \"\\ub2f9\\uc2e0\\uc758\", \"\\ub2f9\\uc2e0\\uc758\", \"\\ub2f9\\uc2e0\\uc758\", \"\\ub300\\ube44\", \"\\ub300\\ube44\", \"\\ub300\\ube44\", \"\\ub300\\ube44\", \"\\ub300\\ube44\", \"\\ub300\\ube44\\ud0dc\\uc138\\ub97c\", \"\\ub300\\ube44\\ud0dc\\uc138\\ub97c\", \"\\ub300\\ube44\\ud0dc\\uc138\\ub97c\", \"\\ub300\\uc751\\ud55c\\ub2e4\\ub294\", \"\\ub300\\uc751\\ud55c\\ub2e4\\ub294\", \"\\ub300\\uc751\\ud55c\\ub2e4\\ub294\", \"\\ub300\\uc751\\ud588\\uc73c\\ub098\", \"\\ub300\\uc751\\ud588\\uc73c\\ub098\", \"\\ub300\\uc751\\ud588\\uc73c\\ub098\", \"\\ub300\\ud1b5\\ub839\", \"\\ub300\\ud1b5\\ub839\", \"\\ub300\\ud1b5\\ub839\", \"\\ub300\\ud1b5\\ub839\", \"\\ub300\\ud1b5\\ub839\", \"\\ub300\\ud1b5\\ub839\\uc2e4\", \"\\ub300\\ud1b5\\ub839\\uc2e4\", \"\\ub300\\ud1b5\\ub839\\uc2e4\", \"\\ub300\\ud1b5\\ub839\\uc2e4\", \"\\ub300\\ud1b5\\ub839\\uc2e4\", \"\\ub300\\ud1b5\\ub839\\uc2e4\\uc5d0\\uc11c\", \"\\ub300\\ud1b5\\ub839\\uc2e4\\uc5d0\\uc11c\", \"\\ub300\\ud1b5\\ub839\\uc2e4\\uc5d0\\uc11c\", \"\\ub300\\ud1b5\\ub839\\uc2e4\\uc5d0\\uc11c\", \"\\ub300\\ud1b5\\ub839\\uc2e4\\uc5d0\\uc11c\", \"\\ub300\\ud1b5\\ub839\\uc2e4\\uc740\", \"\\ub300\\ud1b5\\ub839\\uc2e4\\uc740\", \"\\ub300\\ud1b5\\ub839\\uc2e4\\uc740\", \"\\ub300\\ud1b5\\ub839\\uc2e4\\uc740\", \"\\ub300\\ud1b5\\ub839\\uc2e4\\uc740\", \"\\ub300\\ud1b5\\ub839\\uc740\", \"\\ub300\\ud1b5\\ub839\\uc740\", \"\\ub300\\ud1b5\\ub839\\uc740\", \"\\ub300\\ud1b5\\ub839\\uc740\", \"\\ub300\\ud1b5\\ub839\\uc740\", \"\\ub300\\ud1b5\\ub839\\uc758\", \"\\ub300\\ud1b5\\ub839\\uc758\", \"\\ub300\\ud1b5\\ub839\\uc758\", \"\\ub300\\ud1b5\\ub839\\uc758\", \"\\ub300\\ud1b5\\ub839\\uc758\", \"\\ub300\\ud1b5\\ub839\\uc774\", \"\\ub300\\ud1b5\\ub839\\uc774\", \"\\ub300\\ud1b5\\ub839\\uc774\", \"\\ub300\\ud1b5\\ub839\\uc774\", \"\\ub300\\ud1b5\\ub839\\uc774\", \"\\ub300\\ud45c\", \"\\ub300\\ud45c\", \"\\ub300\\ud45c\", \"\\ub300\\ud45c\", \"\\ub300\\ud45c\", \"\\ub300\\ud45c\\ub294\", \"\\ub300\\ud45c\\ub294\", \"\\ub300\\ud45c\\ub294\", \"\\ub300\\ud45c\\ub294\", \"\\ub300\\ud45c\\ub294\", \"\\ub3c4\\ub85c\", \"\\ub3c4\\ub85c\", \"\\ub3c4\\ub85c\", \"\\ub3c4\\ub85c\", \"\\ub3c4\\uc6c0\\uc744\", \"\\ub3c4\\uc6c0\\uc744\", \"\\ub3c4\\uc6c0\\uc744\", \"\\ub3c4\\uc6c0\\uc744\", \"\\ub3c4\\uc6c0\\uc744\", \"\\ub3d9\\uc6d4\", \"\\ub3d9\\uc6d4\", \"\\ub3d9\\uc6d4\\ubcf4\\ub2e4\", \"\\ub3d9\\uc6d4\\ubcf4\\ub2e4\", \"\\ub429\\ub2c8\\ub2e4\", \"\\ub429\\ub2c8\\ub2e4\", \"\\ub429\\ub2c8\\ub2e4\", \"\\ub429\\ub2c8\\ub2e4\", \"\\ub429\\ub2c8\\ub2e4\", \"\\ub4f1\\uc774\", \"\\ub4f1\\uc774\", \"\\ub4f1\\uc774\", \"\\ub4f1\\uc774\", \"\\ub4f1\\uc774\", \"\\ub77c\\uba70\", \"\\ub77c\\uba70\", \"\\ub77c\\uba70\", \"\\ub77c\\uba70\", \"\\ub77c\\uba70\", \"\\ub7ec\\uc2dc\\uc544\", \"\\ub7ec\\uc2dc\\uc544\", \"\\ub7ec\\uc2dc\\uc544\", \"\\ub7ec\\uc2dc\\uc544\", \"\\ub7ec\\uc2dc\\uc544\", \"\\ub9d0\\ub77c\\uace0\", \"\\ub9d0\\ub77c\\uace0\", \"\\ub9d0\\ub77c\\uace0\", \"\\ub9d0\\ub77c\\uace0\", \"\\ub9d0\\ud558\\uba74\", \"\\ub9d0\\ud558\\uba74\", \"\\ub9d0\\ud558\\uba74\", \"\\ub9d0\\ud558\\uba74\", \"\\ub9d0\\ud558\\uba74\", \"\\uba54\\uc77c\", \"\\uba54\\uc77c\", \"\\uba54\\uc77c\", \"\\uba54\\uc77c\", \"\\uba54\\uc77c\", \"\\uba54\\ud0c0\\ubc84\\uc2a4\", \"\\uba54\\ud0c0\\ubc84\\uc2a4\", \"\\uba54\\ud0c0\\ubc84\\uc2a4\", \"\\uba54\\ud0c0\\ubc84\\uc2a4\", \"\\uba54\\ud0c0\\ubc84\\uc2a4\", \"\\ubaa8\\uc778\", \"\\ubaa8\\uc778\", \"\\ubab8\\ub2f4\\uc558\\uace0\", \"\\ubab8\\ub2f4\\uc558\\uace0\", \"\\ubab8\\ub2f4\\uc558\\uace0\", \"\\ubab8\\ub2f4\\uc558\\uace0\", \"\\ubb34\\uae30\\uccb4\\uacc4\\ub97c\", \"\\ubb34\\uae30\\uccb4\\uacc4\\ub97c\", \"\\ubb34\\uae30\\uccb4\\uacc4\\ub97c\", \"\\ubb38\\uc7ac\\uc778\", \"\\ubb38\\uc7ac\\uc778\", \"\\ubb38\\uc7ac\\uc778\", \"\\ubb38\\uc7ac\\uc778\", \"\\ubb38\\uc7ac\\uc778\", \"\\ubb38\\uc81c\\uac00\", \"\\ubb38\\uc81c\\uac00\", \"\\ubb38\\uc81c\\uac00\", \"\\ubb38\\uc81c\\uac00\", \"\\ubb38\\uc81c\\uac00\", \"\\ubb38\\uc81c\\uc640\", \"\\ubb38\\uc81c\\uc640\", \"\\ubb3c\\ub958\", \"\\ubb3c\\ub958\", \"\\ubb3c\\ub958\", \"\\ubb3c\\ub958\", \"\\ubb3c\\ub958\", \"\\ubbf8\\uad6d\", \"\\ubbf8\\uad6d\", \"\\ubbf8\\uad6d\", \"\\ubbf8\\uad6d\", \"\\ubbf8\\uad6d\", \"\\ubbfc\\uc8fc\\ub178\\ucd1d\", \"\\ubbfc\\uc8fc\\ub178\\ucd1d\", \"\\ubbfc\\uc8fc\\ub178\\ucd1d\", \"\\ubbfc\\uc8fc\\ub178\\ucd1d\", \"\\ubbfc\\uc8fc\\ub178\\ucd1d\", \"\\ubbfc\\uc8fc\\ub2f9\", \"\\ubbfc\\uc8fc\\ub2f9\", \"\\ubbfc\\uc8fc\\ub2f9\", \"\\ubbfc\\uc8fc\\ub2f9\", \"\\ubbfc\\uc8fc\\ub2f9\", \"\\ubbfc\\uc8fc\\ub2f9\\uc774\", \"\\ubbfc\\uc8fc\\ub2f9\\uc774\", \"\\ubbfc\\uc8fc\\ub2f9\\uc774\", \"\\ubbfc\\uc8fc\\ub2f9\\uc774\", \"\\ubbfc\\uc8fc\\ub2f9\\uc774\", \"\\ubc14\\ub2e4\\uc758\", \"\\ubc14\\ub2e4\\uc758\", \"\\ubc15\\uc9c0\\uc6d0\", \"\\ubc15\\uc9c0\\uc6d0\", \"\\ubc15\\uc9c0\\uc6d0\", \"\\ubc15\\uc9c0\\uc6d0\", \"\\ubc15\\uc9c0\\uc6d0\", \"\\ubc1c\\uc0ac\", \"\\ubc1c\\uc0ac\", \"\\ubc1c\\uc0ac\", \"\\ubc1c\\uc0ac\", \"\\ubc1c\\uc0ac\", \"\\ubc1c\\uc0ac\\uac00\", \"\\ubc1c\\uc0ac\\uac00\", \"\\ubc1c\\uc0ac\\uac00\", \"\\ubc1c\\uc0ac\\uac00\", \"\\ubc1c\\uc0ac\\uac00\", \"\\ubc1c\\uc0ac\\ub300\\uc5d0\", \"\\ubc1c\\uc0ac\\ub300\\uc5d0\", \"\\ubc1c\\uc0ac\\ub300\\uc5d0\", \"\\ubc1c\\uc0ac\\ub97c\", \"\\ubc1c\\uc0ac\\ub97c\", \"\\ubc1c\\uc0ac\\ub97c\", \"\\ubc1c\\uc0ac\\ub97c\", \"\\ubc1c\\uc0ac\\uccb4\", \"\\ubc1c\\uc0ac\\uccb4\", \"\\ubc1c\\uc0ac\\uccb4\", \"\\ubc1c\\uc0ac\\uccb4\", \"\\ubc1c\\uc0ac\\uccb4\", \"\\ubc1c\\uc0dd\\ud55c\\ub2e4\", \"\\ubc1c\\uc0dd\\ud55c\\ub2e4\", \"\\ubc1c\\uc0dd\\ud55c\\ub2e4\", \"\\ubc1c\\uc0dd\\ud560\", \"\\ubc1c\\uc0dd\\ud560\", \"\\ubc1c\\uc0dd\\ud560\", \"\\ubc1c\\uc0dd\\ud560\", \"\\ubc1c\\uc0dd\\ud560\", \"\\ubc1c\\ud45c\\ud558\\uc9c0\", \"\\ubc1c\\ud45c\\ud558\\uc9c0\", \"\\ubc1c\\ud45c\\ud558\\uc9c0\", \"\\ubc29\\uc0ac\\ud3ec\", \"\\ubc29\\uc0ac\\ud3ec\", \"\\ubc29\\uc0ac\\ud3ec\", \"\\ubc29\\uc0ac\\ud3ec\\ub85c\", \"\\ubc29\\uc0ac\\ud3ec\\ub85c\", \"\\ubc29\\uc0ac\\ud3ec\\ub85c\", \"\\ubc29\\uc0ac\\ud3ec\\uc758\", \"\\ubc29\\uc0ac\\ud3ec\\uc758\", \"\\ubc29\\uc0ac\\ud3ec\\uc758\", \"\\ubc29\\uc548\", \"\\ubc29\\uc548\", \"\\ubc29\\uc548\", \"\\ubc29\\uc548\", \"\\ubc29\\uc5ed\", \"\\ubc29\\uc5ed\", \"\\ubc29\\uc5ed\", \"\\ubc31\\ud0dc\\ud604\", \"\\ubc31\\ud0dc\\ud604\", \"\\ubc31\\ud0dc\\ud604\", \"\\ubcd1\\uc6d0\", \"\\ubcd1\\uc6d0\", \"\\ubcd1\\uc6d0\", \"\\ubcd1\\uc6d0\\uc744\", \"\\ubcd1\\uc6d0\\uc744\", \"\\ubcf4\\ub2e4\", \"\\ubcf4\\ub2e4\", \"\\ubcf4\\ub2e4\", \"\\ubcf4\\ub2e4\", \"\\ubcf4\\ub2e4\", \"\\ubcf4\\uc2ed\\ub2c8\\uae4c\", \"\\ubcf4\\uc2ed\\ub2c8\\uae4c\", \"\\ubcf4\\uc2ed\\ub2c8\\uae4c\", \"\\ubcf4\\uc2ed\\ub2c8\\uae4c\", \"\\ubcf4\\uc2ed\\ub2c8\\uae4c\", \"\\ubcf5\\uadc0\\ud558\\uae30\\ub85c\", \"\\ubcf5\\uadc0\\ud558\\uae30\\ub85c\", \"\\ubcf5\\uadc0\\ud558\\uae30\\ub85c\", \"\\ubcfc\\uae4c\\uc694\", \"\\ubcfc\\uae4c\\uc694\", \"\\ubcfc\\uae4c\\uc694\", \"\\ubcfc\\uae4c\\uc694\", \"\\ubd80\\uc704\\uc5d0\", \"\\ubd80\\uc704\\uc5d0\", \"\\ubd80\\uc704\\uc5d0\", \"\\ubd81\\ud55c\\uc758\", \"\\ubd81\\ud55c\\uc758\", \"\\ubd81\\ud55c\\uc758\", \"\\ubd81\\ud55c\\uc758\", \"\\ubd81\\ud55c\\uc758\", \"\\ubd81\\ud55c\\uc774\", \"\\ubd81\\ud55c\\uc774\", \"\\ubd81\\ud55c\\uc774\", \"\\ubd81\\ud55c\\uc774\", \"\\ube0c\\ub79c\\ub4dc\", \"\\ube0c\\ub79c\\ub4dc\", \"\\ube0c\\ub79c\\ub4dc\", \"\\ube0c\\ub79c\\ub4dc\", \"\\ube0c\\ub79c\\ub4dc\", \"\\uc0ac\\uac70\\ub9ac\\uac00\", \"\\uc0ac\\uac70\\ub9ac\\uac00\", \"\\uc0ac\\uac70\\ub9ac\\uac00\", \"\\uc0ac\\uac74\", \"\\uc0ac\\uac74\", \"\\uc0ac\\uac74\", \"\\uc0ac\\uac74\", \"\\uc0ac\\uac74\", \"\\uc0ac\\uacfc\\ub4dc\\ub9b0\\ub2e4\", \"\\uc0ac\\uacfc\\ub4dc\\ub9b0\\ub2e4\", \"\\uc0ac\\uacfc\\ud588\\ub2e4\", \"\\uc0ac\\uacfc\\ud588\\ub2e4\", \"\\uc0ac\\uacfc\\ud588\\ub2e4\", \"\\uc0ac\\uc2e4\", \"\\uc0ac\\uc2e4\", \"\\uc0ac\\uc2e4\", \"\\uc0ac\\uc2e4\", \"\\uc0ac\\uc2e4\", \"\\uc0ac\\uc6a9\\ud558\\ub294\", \"\\uc0ac\\uc6a9\\ud558\\ub294\", \"\\uc0ac\\uc6a9\\ud558\\ub294\", \"\\uc0ac\\uc6a9\\ud558\\ub294\", \"\\uc0ac\\uc6a9\\ud558\\ub294\", \"\\uc0ac\\uc9c4\\uc774\", \"\\uc0ac\\uc9c4\\uc774\", \"\\uc0ac\\uc9c4\\uc774\", \"\\uc0ac\\uc9c4\\uc774\", \"\\uc0b0\\ud654\\uc81c\", \"\\uc0b0\\ud654\\uc81c\", \"\\uc0b0\\ud654\\uc81c\", \"\\uc0b0\\ud654\\uc81c\", \"\\uc0b0\\ud654\\uc81c\", \"\\uc0c1\\ud669\\uc744\", \"\\uc0c1\\ud669\\uc744\", \"\\uc0c1\\ud669\\uc744\", \"\\uc0c1\\ud669\\uc744\", \"\\uc0c1\\ud669\\uc744\", \"\\uc0dd\\uae38\", \"\\uc0dd\\uae38\", \"\\uc0dd\\uae38\", \"\\uc0dd\\uae38\", \"\\uc11c\\ube44\\uc2a4\", \"\\uc11c\\ube44\\uc2a4\", \"\\uc11c\\ube44\\uc2a4\", \"\\uc11c\\ube44\\uc2a4\", \"\\uc11c\\ube44\\uc2a4\", \"\\uc124\\uba85\\ud588\\ub2e4\", \"\\uc124\\uba85\\ud588\\ub2e4\", \"\\uc124\\uba85\\ud588\\ub2e4\", \"\\uc124\\uba85\\ud588\\ub2e4\", \"\\uc124\\uba85\\ud588\\ub2e4\", \"\\uc131\\uc7a5\", \"\\uc131\\uc7a5\", \"\\uc131\\uc7a5\", \"\\uc131\\uc7a5\", \"\\uc13c\\uc11c\", \"\\uc13c\\uc11c\", \"\\uc13c\\uc11c\", \"\\uc13c\\uc11c\", \"\\uc13c\\uc11c\", \"\\uc18c\\ub098\\uae30\\uac00\", \"\\uc18c\\ub098\\uae30\\uac00\", \"\\uc18c\\ub098\\uae30\\uac00\", \"\\uc18c\\ub098\\uae30\\uac00\", \"\\uc18c\\ub098\\uae30\\uac00\", \"\\uc218\\ubc15\", \"\\uc218\\ubc15\", \"\\uc218\\ubc15\", \"\\uc218\\ubc15\", \"\\uc218\\ubc15\", \"\\uc218\\ubc16\\uc5d0\", \"\\uc218\\ubc16\\uc5d0\", \"\\uc218\\ubc16\\uc5d0\", \"\\uc218\\ubc16\\uc5d0\", \"\\uc218\\ubc16\\uc5d0\", \"\\uc2a4\\ud0c0\\ud2b8\\uc5c5\", \"\\uc2a4\\ud0c0\\ud2b8\\uc5c5\", \"\\uc2a4\\ud0c0\\ud2b8\\uc5c5\", \"\\uc2a4\\ud0c0\\ud2b8\\uc5c5\", \"\\uc2a4\\ud0c0\\ud2b8\\uc5c5\", \"\\uc2dc\\uba58\\ud2b8\", \"\\uc2dc\\uba58\\ud2b8\", \"\\uc2dc\\uba58\\ud2b8\", \"\\uc2dc\\uba58\\ud2b8\", \"\\uc2dc\\uba58\\ud2b8\", \"\\uc2dc\\uc7a5\", \"\\uc2dc\\uc7a5\", \"\\uc2dc\\uc7a5\", \"\\uc2dc\\uc7a5\", \"\\uc2dc\\uc7a5\", \"\\uc2dc\\ud589\", \"\\uc2dc\\ud589\", \"\\uc2dc\\ud589\", \"\\uc2dc\\ud589\", \"\\uc2dc\\ud589\", \"\\uc2dd\\ub8cc\\ud488\", \"\\uc2dd\\ub8cc\\ud488\", \"\\uc2dd\\uc73c\\ub85c\", \"\\uc2dd\\uc73c\\ub85c\", \"\\uc2dd\\uc73c\\ub85c\", \"\\uc2dd\\uc73c\\ub85c\", \"\\uc2dd\\uc73c\\ub85c\", \"\\uc2e0\\uc778\\ud638\", \"\\uc2e0\\uc778\\ud638\", \"\\uc2e0\\uc778\\ud638\", \"\\uc2e0\\uc784\", \"\\uc2e0\\uc784\", \"\\uc2e0\\uc784\", \"\\uc2e0\\uc784\", \"\\uc2e4\\ubb34\\uad50\\uc12d\\uc5d0\\uc11c\", \"\\uc2e4\\ubb34\\uad50\\uc12d\\uc5d0\\uc11c\", \"\\uc2e4\\ubb34\\uad50\\uc12d\\uc5d0\\uc11c\", \"\\uc2e4\\ubb34\\ub300\\ud654\\ub97c\", \"\\uc2e4\\ubb34\\ub300\\ud654\\ub97c\", \"\\uc2e4\\ubb34\\ub300\\ud654\\ub97c\", \"\\uc544\\uc9c1\\ub3c4\", \"\\uc544\\uc9c1\\ub3c4\", \"\\uc544\\uc9c1\\ub3c4\", \"\\uc548\\uace0\", \"\\uc548\\uace0\", \"\\uc548\\uace0\", \"\\uc548\\uace0\", \"\\uc548\\uace0\", \"\\uc548\\ubcf4\", \"\\uc548\\ubcf4\", \"\\uc548\\ubcf4\", \"\\uc548\\ubcf4\", \"\\uc548\\ubcf4\", \"\\uc548\\ubcf4\\uc0c1\\ud669\\uc810\\uac80\\ud68c\\uc758\\ub97c\", \"\\uc548\\ubcf4\\uc0c1\\ud669\\uc810\\uac80\\ud68c\\uc758\\ub97c\", \"\\uc548\\ubcf4\\uc0c1\\ud669\\uc810\\uac80\\ud68c\\uc758\\ub97c\", \"\\uc548\\ubcf4\\uc804\\ub7b5\\ube44\\uc11c\\uad00\", \"\\uc548\\ubcf4\\uc804\\ub7b5\\ube44\\uc11c\\uad00\", \"\\uc548\\ubcf4\\uc804\\ub7b5\\ube44\\uc11c\\uad00\", \"\\uc548\\uc804\\uc6b4\\uc784\", \"\\uc548\\uc804\\uc6b4\\uc784\", \"\\uc548\\uc804\\uc6b4\\uc784\", \"\\uc548\\uc804\\uc6b4\\uc784\", \"\\uc548\\uc804\\uc6b4\\uc784\", \"\\uc548\\uc804\\uc6b4\\uc784\\uc81c\", \"\\uc548\\uc804\\uc6b4\\uc784\\uc81c\", \"\\uc548\\uc804\\uc6b4\\uc784\\uc81c\", \"\\uc548\\uc804\\uc6b4\\uc784\\uc81c\", \"\\uc548\\uc804\\uc6b4\\uc784\\uc81c\", \"\\uc548\\uc804\\uc6b4\\uc784\\uc81c\\ub97c\", \"\\uc548\\uc804\\uc6b4\\uc784\\uc81c\\ub97c\", \"\\uc548\\uc804\\uc6b4\\uc784\\uc81c\\ub97c\", \"\\uc548\\uc804\\uc6b4\\uc784\\uc81c\\ub97c\", \"\\uc548\\uc804\\uc6b4\\uc784\\uc81c\\ub97c\", \"\\uc55e\\uc11c\", \"\\uc55e\\uc11c\", \"\\uc55e\\uc11c\", \"\\uc55e\\uc11c\", \"\\uc55e\\uc11c\", \"\\uc55e\\uc73c\\ub85c\\ub294\", \"\\uc55e\\uc73c\\ub85c\\ub294\", \"\\uc55e\\uc73c\\ub85c\\ub294\", \"\\uc55e\\uc73c\\ub85c\\ub294\", \"\\uc55e\\uc73c\\ub85c\\ub294\", \"\\uc598\\uae30\\ub97c\", \"\\uc598\\uae30\\ub97c\", \"\\uc598\\uae30\\ub97c\", \"\\uc598\\uae30\\ub97c\", \"\\uc598\\uae30\\ub97c\", \"\\uc5c4\\uc815\\ud558\\uac8c\", \"\\uc5c4\\uc815\\ud558\\uac8c\", \"\\uc5c4\\uc815\\ud558\\uac8c\", \"\\uc5c6\\ub294\\ub370\", \"\\uc5c6\\ub294\\ub370\", \"\\uc5c6\\ub294\\ub370\", \"\\uc5c6\\ub294\\ub370\", \"\\uc5c6\\uc5c8\\ub2e4\\uace0\", \"\\uc5c6\\uc5c8\\ub2e4\\uace0\", \"\\uc5c6\\uc5c8\\ub2e4\\uace0\", \"\\uc5ec\\ub7ec\", \"\\uc5ec\\ub7ec\", \"\\uc5ec\\ub7ec\", \"\\uc5ec\\ub7ec\", \"\\uc5ec\\ub7ec\", \"\\uc5ec\\ubd80\\ub97c\", \"\\uc5ec\\ubd80\\ub97c\", \"\\uc5ec\\ubd80\\ub97c\", \"\\uc5ec\\ubd80\\ub97c\", \"\\uc5ec\\ubd80\\ub97c\", \"\\uc5ec\\uc0ac\", \"\\uc5ec\\uc0ac\", \"\\uc5ec\\uc0ac\", \"\\uc5ec\\uc0ac\", \"\\uc5ec\\uc0ac\\uac00\", \"\\uc5ec\\uc0ac\\uac00\", \"\\uc5ec\\uc0ac\\uac00\", \"\\uc5ec\\uc0ac\\uac00\", \"\\uc5ec\\uc0ac\\uac00\", \"\\uc5ec\\uc0ac\\uc758\", \"\\uc5ec\\uc0ac\\uc758\", \"\\uc5ec\\uc0ac\\uc758\", \"\\uc5ec\\uc0ac\\uc758\", \"\\uc5ec\\uc0ac\\uc758\", \"\\uc5ec\\uc131\", \"\\uc5ec\\uc131\", \"\\uc5ec\\uc131\", \"\\uc5ec\\uc131\", \"\\uc5ec\\uc131\", \"\\uc5ec\\ud558\\ub97c\", \"\\uc5ec\\ud558\\ub97c\", \"\\uc5ec\\ud558\\ub97c\", \"\\uc5f0\\uad6c\", \"\\uc5f0\\uad6c\", \"\\uc5f0\\uad6c\", \"\\uc5f0\\uad6c\", \"\\uc5f0\\uad6c\", \"\\uc5f0\\uad6c\\ub294\", \"\\uc5f0\\uad6c\\ub294\", \"\\uc5f0\\uad6c\\ud300\\uc740\", \"\\uc5f0\\uad6c\\ud300\\uc740\", \"\\uc5f0\\uad6c\\ud300\\uc740\", \"\\uc5f0\\ud569\", \"\\uc5f0\\ud569\", \"\\uc5f0\\ud569\", \"\\uc5f0\\ud569\", \"\\uc5f0\\ud569\", \"\\uc5f4\\ub9b0\", \"\\uc5f4\\ub9b0\", \"\\uc5f4\\ub9b0\", \"\\uc5f4\\ub9b0\", \"\\uc5f4\\ub9b0\", \"\\uc5f4\\uc5b4\", \"\\uc5f4\\uc5b4\", \"\\uc5f4\\uc5b4\", \"\\uc5f4\\uc5b4\", \"\\uc5f4\\uc5b4\", \"\\uc601\\uc11c\", \"\\uc601\\uc11c\", \"\\uc601\\uc11c\", \"\\uc601\\ud654\", \"\\uc601\\ud654\", \"\\uc601\\ud654\", \"\\uc601\\ud654\", \"\\uc601\\ud654\", \"\\uc608\\uc815\\uc774\\ub2e4\", \"\\uc608\\uc815\\uc774\\ub2e4\", \"\\uc608\\uc815\\uc774\\ub2e4\", \"\\uc608\\uc815\\uc774\\ub2e4\", \"\\uc608\\uc815\\uc774\\ub2e4\", \"\\uc624\\ub298\\ubcf4\\ub2e4\", \"\\uc624\\ub298\\ubcf4\\ub2e4\", \"\\uc624\\ub298\\ubcf4\\ub2e4\", \"\\uc624\\ub298\\ubcf4\\ub2e4\", \"\\uc624\\ub298\\ubcf4\\ub2e4\", \"\\uc624\\ub298\\ucc98\\ub7fc\", \"\\uc624\\ub298\\ucc98\\ub7fc\", \"\\uc62c\\ub790\\ub2e4\", \"\\uc62c\\ub790\\ub2e4\", \"\\uc62c\\ub790\\ub2e4\", \"\\uc62c\\ub790\\ub2e4\", \"\\uc62c\\ub790\\ub2e4\", \"\\uc62c\\ud574\", \"\\uc62c\\ud574\", \"\\uc62c\\ud574\", \"\\uc62c\\ud574\", \"\\uc62c\\ud574\", \"\\uc644\\ub8cc\\ub418\\ub294\", \"\\uc644\\ub8cc\\ub418\\ub294\", \"\\uc644\\ub8cc\\ub418\\ub294\", \"\\uc644\\ub8cc\\ub418\\ub294\", \"\\uc678\\uad50\\ubd80\", \"\\uc678\\uad50\\ubd80\", \"\\uc678\\uad50\\ubd80\", \"\\uc678\\uad50\\ubd80\", \"\\uc678\\uad50\\ubd80\", \"\\uc678\\uad50\\ube44\\uc11c\\uad00\", \"\\uc678\\uad50\\ube44\\uc11c\\uad00\", \"\\uc678\\uad50\\ube44\\uc11c\\uad00\", \"\\uc694\\uc778\\uc774\", \"\\uc694\\uc778\\uc774\", \"\\uc694\\uc778\\uc774\", \"\\uc6b0\\uc8fc\", \"\\uc6b0\\uc8fc\", \"\\uc6b0\\uc8fc\", \"\\uc6b0\\uc8fc\", \"\\uc6b0\\uc8fc\", \"\\uc6b0\\ud06c\\ub77c\\uc774\\ub098\", \"\\uc6b0\\ud06c\\ub77c\\uc774\\ub098\", \"\\uc6b0\\ud06c\\ub77c\\uc774\\ub098\", \"\\uc6b0\\ud06c\\ub77c\\uc774\\ub098\", \"\\uc6b0\\ud06c\\ub77c\\uc774\\ub098\", \"\\uc6b4\\uc1a1\\ub8cc\", \"\\uc6b4\\uc1a1\\ub8cc\", \"\\uc6b4\\uc1a1\\ub8cc\", \"\\uc6b4\\uc1a1\\ub8cc\", \"\\uc6cc\\uc2f1\\ud134\", \"\\uc6cc\\uc2f1\\ud134\", \"\\uc6cc\\uc2f1\\ud134\", \"\\uc6cc\\uc2f1\\ud134\", \"\\uc6cc\\uc2f1\\ud134\", \"\\uc6d0\\uc7a5\\uc740\", \"\\uc6d0\\uc7a5\\uc740\", \"\\uc6d0\\uc7a5\\uc740\", \"\\uc6d0\\uc7a5\\uc740\", \"\\uc6d0\\uc7a5\\uc740\", \"\\uc704\\uae30\\uad00\\ub9ac\\uc13c\\ud130\\uc7a5\", \"\\uc704\\uae30\\uad00\\ub9ac\\uc13c\\ud130\\uc7a5\", \"\\uc704\\uae30\\uad00\\ub9ac\\uc13c\\ud130\\uc7a5\", \"\\uc704\\uc6d0\\uc7a5\", \"\\uc704\\uc6d0\\uc7a5\", \"\\uc704\\uc6d0\\uc7a5\", \"\\uc704\\uc6d0\\uc7a5\", \"\\uc704\\uc6d0\\uc7a5\", \"\\uc704\\uc6d0\\uc7a5\\uc774\", \"\\uc704\\uc6d0\\uc7a5\\uc774\", \"\\uc704\\uc6d0\\uc7a5\\uc774\", \"\\uc704\\uc6d0\\uc7a5\\uc774\", \"\\uc704\\uc6d0\\uc7a5\\uc774\", \"\\uc720\\uac00\\ubcf4\\uc870\\uae08\", \"\\uc720\\uac00\\ubcf4\\uc870\\uae08\", \"\\uc720\\uac00\\ubcf4\\uc870\\uae08\", \"\\uc720\\uac00\\ubcf4\\uc870\\uae08\", \"\\uc720\\ud29c\\ube0c\", \"\\uc720\\ud29c\\ube0c\", \"\\uc720\\ud29c\\ube0c\", \"\\uc720\\ud29c\\ube0c\", \"\\uc720\\ud29c\\ube0c\", \"\\uc724\\uc11d\\uc5f4\", \"\\uc724\\uc11d\\uc5f4\", \"\\uc724\\uc11d\\uc5f4\", \"\\uc724\\uc11d\\uc5f4\", \"\\uc724\\uc11d\\uc5f4\", \"\\uc758\\uc655\", \"\\uc758\\uc655\", \"\\uc758\\uc655\", \"\\uc758\\uc655\", \"\\uc758\\uc655\", \"\\uc758\\uc655\\uc2dc\", \"\\uc758\\uc655\\uc2dc\", \"\\uc758\\uc655\\uc2dc\", \"\\uc758\\uc6d0\", \"\\uc758\\uc6d0\", \"\\uc758\\uc6d0\", \"\\uc758\\uc6d0\", \"\\uc758\\uc6d0\", \"\\uc758\\uc6d0\\uacfc\", \"\\uc758\\uc6d0\\uacfc\", \"\\uc758\\uc6d0\\uacfc\", \"\\uc758\\uc6d0\\uacfc\", \"\\uc758\\uc6d0\\uc740\", \"\\uc758\\uc6d0\\uc740\", \"\\uc758\\uc6d0\\uc740\", \"\\uc758\\uc6d0\\uc740\", \"\\uc758\\uc6d0\\uc740\", \"\\uc758\\uc6d0\\uc758\", \"\\uc758\\uc6d0\\uc758\", \"\\uc758\\uc6d0\\uc758\", \"\\uc758\\uc6d0\\uc758\", \"\\uc758\\uc6d0\\uc758\", \"\\uc758\\uc6d0\\uc774\", \"\\uc758\\uc6d0\\uc774\", \"\\uc758\\uc6d0\\uc774\", \"\\uc758\\uc6d0\\uc774\", \"\\uc758\\uc6d0\\uc774\", \"\\uc758\\ud559\\uc804\\ubb38\\uae30\\uc790\", \"\\uc758\\ud559\\uc804\\ubb38\\uae30\\uc790\", \"\\uc774\\uac74\", \"\\uc774\\uac74\", \"\\uc774\\uac74\", \"\\uc774\\uac74\", \"\\uc774\\uac74\", \"\\uc774\\uac8c\", \"\\uc774\\uac8c\", \"\\uc774\\uac8c\", \"\\uc774\\uac8c\", \"\\uc774\\uac8c\", \"\\uc774\\ub77c\\uba70\", \"\\uc774\\ub77c\\uba70\", \"\\uc774\\ub77c\\uba70\", \"\\uc774\\ub77c\\uba70\", \"\\uc774\\ub77c\\uba70\", \"\\uc774\\ub807\\uac8c\", \"\\uc774\\ub807\\uac8c\", \"\\uc774\\ub807\\uac8c\", \"\\uc774\\ub807\\uac8c\", \"\\uc774\\ub807\\uac8c\", \"\\uc774\\ubb38\\ud76c\", \"\\uc774\\ubb38\\ud76c\", \"\\uc774\\ubb38\\ud76c\", \"\\uc774\\uc1a1\", \"\\uc774\\uc1a1\", \"\\uc774\\uc1a1\", \"\\uc774\\uc1a1\", \"\\uc774\\uc1a1\", \"\\uc774\\uc5b4\", \"\\uc774\\uc5b4\", \"\\uc774\\uc5b4\", \"\\uc774\\uc5b4\", \"\\uc774\\uc5b4\", \"\\uc774\\uc5d0\", \"\\uc774\\uc5d0\", \"\\uc774\\uc5d0\", \"\\uc774\\uc5d0\", \"\\uc774\\uc5d0\", \"\\uc774\\uc7ac\\uba85\", \"\\uc774\\uc7ac\\uba85\", \"\\uc774\\uc7ac\\uba85\", \"\\uc774\\uc7ac\\uba85\", \"\\uc774\\uc7ac\\uba85\", \"\\uc774\\uc900\\uc11d\", \"\\uc774\\uc900\\uc11d\", \"\\uc774\\uc900\\uc11d\", \"\\uc774\\uc900\\uc11d\", \"\\uc774\\uc900\\uc11d\", \"\\uc77c\\ubcf8\", \"\\uc77c\\ubcf8\", \"\\uc77c\\ubcf8\", \"\\uc77c\\ubcf8\", \"\\uc77c\\ubcf8\", \"\\uc77c\\ubd80\\ud130\", \"\\uc77c\\ubd80\\ud130\", \"\\uc77c\\ubd80\\ud130\", \"\\uc77c\\ubd80\\ud130\", \"\\uc77c\\ubd80\\ud130\", \"\\uc77c\\uc9f8\\uc778\", \"\\uc77c\\uc9f8\\uc778\", \"\\uc77c\\uc9f8\\uc778\", \"\\uc77c\\uc9f8\\uc778\", \"\\uc77c\\uc9f8\\uc778\", \"\\uc784\\uc0c1\\ubc94\", \"\\uc784\\uc0c1\\ubc94\", \"\\uc784\\uc0c1\\ubc94\", \"\\uc785\\ubc95\", \"\\uc785\\ubc95\", \"\\uc785\\ubc95\", \"\\uc785\\ubc95\", \"\\uc785\\ubc95\", \"\\uc788\\uac70\\ub4e0\\uc694\", \"\\uc788\\uac70\\ub4e0\\uc694\", \"\\uc788\\uac70\\ub4e0\\uc694\", \"\\uc788\\uac70\\ub4e0\\uc694\", \"\\uc788\\uac70\\ub4e0\\uc694\", \"\\uc788\\ub294\\ub370\", \"\\uc788\\ub294\\ub370\", \"\\uc788\\ub294\\ub370\", \"\\uc788\\ub294\\ub370\", \"\\uc788\\ub294\\ub370\", \"\\uc788\\ub2e4\\ub294\", \"\\uc788\\ub2e4\\ub294\", \"\\uc788\\ub2e4\\ub294\", \"\\uc788\\ub2e4\\ub294\", \"\\uc788\\ub2e4\\ub294\", \"\\uc788\\uc5b4\\uc694\", \"\\uc788\\uc5b4\\uc694\", \"\\uc788\\uc5b4\\uc694\", \"\\uc788\\uc5b4\\uc694\", \"\\uc788\\uc5b4\\uc694\", \"\\uc788\\uc73c\\ubbc0\\ub85c\", \"\\uc788\\uc73c\\ubbc0\\ub85c\", \"\\uc7a5\\uc911\", \"\\uc7a5\\uc911\", \"\\uc7a5\\uc911\", \"\\uc7a5\\uc911\", \"\\uc7ac\\ub798\\uc2dd\", \"\\uc7ac\\ub798\\uc2dd\", \"\\uc7ac\\ub798\\uc2dd\", \"\\uc7ac\\ubb34\\ubd80\\ub294\", \"\\uc7ac\\ubb34\\ubd80\\ub294\", \"\\uc7ac\\ubb34\\ubd80\\ub294\", \"\\uc7ac\\ubb34\\ubd80\\ub294\", \"\\uc7ac\\ubc30\\ud3ec\\ub97c\", \"\\uc7ac\\ubc30\\ud3ec\\ub97c\", \"\\uc7ac\\ubc30\\ud3ec\\ub97c\", \"\\uc7ac\\ubc30\\ud3ec\\ub97c\", \"\\uc800\\ub807\\uac8c\", \"\\uc800\\ub807\\uac8c\", \"\\uc800\\ub807\\uac8c\", \"\\uc800\\ub807\\uac8c\", \"\\uc800\\uc640\", \"\\uc800\\uc640\", \"\\uc800\\uc640\", \"\\uc804\\uad6d\", \"\\uc804\\uad6d\", \"\\uc804\\uad6d\", \"\\uc804\\uad6d\", \"\\uc804\\uad6d\", \"\\uc804\\uad6d\\uc774\", \"\\uc804\\uad6d\\uc774\", \"\\uc804\\ub144\", \"\\uc804\\ub144\", \"\\uc804\\ub144\", \"\\uc804\\ub144\", \"\\uc804\\ub144\", \"\\uc804\\ub9dd\\uce58\", \"\\uc804\\ub9dd\\uce58\", \"\\uc804\\uc6d4\", \"\\uc804\\uc6d4\", \"\\uc804\\uc6d4\", \"\\uc804\\uc6d4\", \"\\uc804\\uc6d4\", \"\\uc804\\uc6d4\\ubcf4\\ub2e4\", \"\\uc804\\uc6d4\\ubcf4\\ub2e4\", \"\\uc804\\uc6d4\\ubcf4\\ub2e4\", \"\\uc804\\ud588\\ub2e4\", \"\\uc804\\ud588\\ub2e4\", \"\\uc804\\ud588\\ub2e4\", \"\\uc804\\ud588\\ub2e4\", \"\\uc804\\ud588\\ub2e4\", \"\\uc810\\uac80\\ud558\\uba74\\uc11c\", \"\\uc810\\uac80\\ud558\\uba74\\uc11c\", \"\\uc810\\uac80\\ud558\\uba74\\uc11c\", \"\\uc815\\ubcf4\\uc704\", \"\\uc815\\ubcf4\\uc704\", \"\\uc815\\ubcf4\\uc704\", \"\\uc815\\ubcf4\\uc704\", \"\\uc815\\ubd80\", \"\\uc815\\ubd80\", \"\\uc815\\ubd80\", \"\\uc815\\ubd80\", \"\\uc815\\ubd80\", \"\\uc815\\uce58\\uc801\\uc778\", \"\\uc815\\uce58\\uc801\\uc778\", \"\\uc815\\uce58\\uc801\\uc778\", \"\\uc815\\uce58\\uc801\\uc778\", \"\\uc815\\uce58\\uc801\\uc778\", \"\\uc81c\\uac00\", \"\\uc81c\\uac00\", \"\\uc81c\\uac00\", \"\\uc81c\\uac00\", \"\\uc81c\\uac00\", \"\\uc81c\\ubcf4\\uac00\", \"\\uc81c\\ubcf4\\uac00\", \"\\uc81c\\ubcf4\\uac00\", \"\\uc81c\\ubcf4\\uac00\", \"\\uc81c\\ubcf4\\uac00\", \"\\uc870\\ub9bd\\ub3d9\\uc73c\\ub85c\", \"\\uc870\\ub9bd\\ub3d9\\uc73c\\ub85c\", \"\\uc8fc\\ub144\", \"\\uc8fc\\ub144\", \"\\uc8fc\\ub144\", \"\\uc8fc\\ub144\", \"\\uc8fc\\ub144\", \"\\uc8fc\\uc7ac\\ub85c\", \"\\uc8fc\\uc7ac\\ub85c\", \"\\uc8fc\\uc7ac\\ub85c\", \"\\uc911\\uad6d\", \"\\uc911\\uad6d\", \"\\uc911\\uad6d\", \"\\uc911\\uad6d\", \"\\uc911\\uad6d\", \"\\uc99d\\uc0c1\\uc744\", \"\\uc99d\\uc0c1\\uc744\", \"\\uc99d\\uc0c1\\uc744\", \"\\uc99d\\uc0c1\\uc774\", \"\\uc99d\\uc0c1\\uc774\", \"\\uc99d\\uc0c1\\uc774\", \"\\uc99d\\uc0c1\\uc774\", \"\\uc99d\\uc0c1\\uc774\", \"\\uc9c0\\ub09c\\ub2ec\", \"\\uc9c0\\ub09c\\ub2ec\", \"\\uc9c0\\ub09c\\ub2ec\", \"\\uc9c0\\ub09c\\ub2ec\", \"\\uc9c0\\ub09c\\ub2ec\", \"\\uc9c0\\uc18d\", \"\\uc9c0\\uc18d\", \"\\uc9c0\\uc18d\", \"\\uc9c0\\uc18d\", \"\\uc9c0\\uc18d\", \"\\uc9c0\\uc6d0\", \"\\uc9c0\\uc6d0\", \"\\uc9c0\\uc6d0\", \"\\uc9c0\\uc6d0\", \"\\uc9c0\\uc6d0\", \"\\uc9c4\\ub2e8\", \"\\uc9c4\\ub2e8\", \"\\uc9c4\\ub2e8\", \"\\uc9c4\\ub2e8\", \"\\uc9c8\\ubb38\", \"\\uc9c8\\ubb38\", \"\\uc9c8\\ubb38\", \"\\uc9c8\\ubb38\", \"\\uc9c8\\ubb38\", \"\\uc9d1\\ub2e8\\uc6b4\\uc1a1\\uac70\\ubd80\\ub97c\", \"\\uc9d1\\ub2e8\\uc6b4\\uc1a1\\uac70\\ubd80\\ub97c\", \"\\uc9d1\\ub2e8\\uc6b4\\uc1a1\\uac70\\ubd80\\ub97c\", \"\\uc9d1\\ub2e8\\uc6b4\\uc1a1\\uac70\\ubd80\\ub97c\", \"\\uc9d1\\ub2e8\\uc6b4\\uc1a1\\uac70\\ubd80\\ub97c\", \"\\ucc28\\ubd84\\ud558\\uace0\\ub3c4\", \"\\ucc28\\ubd84\\ud558\\uace0\\ub3c4\", \"\\ucc28\\ubd84\\ud558\\uace0\\ub3c4\", \"\\ucc28\\uc7a5\", \"\\ucc28\\uc7a5\", \"\\ucc28\\uc7a5\", \"\\ucc38\\uc11d\\uc790\\ub4e4\\uc740\", \"\\ucc38\\uc11d\\uc790\\ub4e4\\uc740\", \"\\ucc38\\uc11d\\uc790\\ub4e4\\uc740\", \"\\ucc44\\ub110\", \"\\ucc44\\ub110\", \"\\ucc44\\ub110\", \"\\ucc44\\ub110\", \"\\ucc44\\ub110\", \"\\ucc9c\\ub9cc\", \"\\ucc9c\\ub9cc\", \"\\ucc9c\\ub9cc\", \"\\ucc9c\\ub9cc\", \"\\ucca0\\ud68c\\ud558\\uace0\", \"\\ucca0\\ud68c\\ud558\\uace0\", \"\\ucca0\\ud68c\\ud558\\uace0\", \"\\ucca0\\ud68c\\ud558\\uace0\", \"\\ucca0\\ud68c\\ud558\\uace0\", \"\\ucd08\\ub300\", \"\\ucd08\\ub300\", \"\\ucd08\\ub300\", \"\\ucd1d\\uad04\", \"\\ucd1d\\uad04\", \"\\ucd1d\\uad04\", \"\\ucd1d\\uad04\", \"\\ucd1d\\ud30c\\uc5c5\", \"\\ucd1d\\ud30c\\uc5c5\", \"\\ucd1d\\ud30c\\uc5c5\", \"\\ucd1d\\ud30c\\uc5c5\", \"\\ucd1d\\ud30c\\uc5c5\", \"\\ucd1d\\ud30c\\uc5c5\\uc744\", \"\\ucd1d\\ud30c\\uc5c5\\uc744\", \"\\ucd1d\\ud30c\\uc5c5\\uc744\", \"\\ucd1d\\ud30c\\uc5c5\\uc744\", \"\\ucd1d\\ud30c\\uc5c5\\uc744\", \"\\ucd5c\\uace0\", \"\\ucd5c\\uace0\", \"\\ucd5c\\uace0\", \"\\ucd5c\\uace0\", \"\\ucd5c\\uace0\", \"\\ucd5c\\ub300\", \"\\ucd5c\\ub300\", \"\\ucd5c\\ub300\", \"\\ucd5c\\ub300\", \"\\ucd5c\\ub300\", \"\\ucd5c\\ub300\\ud3ed\", \"\\ucd5c\\ub300\\ud3ed\", \"\\ucd94\\uac00\", \"\\ucd94\\uac00\", \"\\ucd94\\uac00\", \"\\ucd94\\uac00\", \"\\ucd94\\uac00\", \"\\ucd9c\\uc2dc\", \"\\ucd9c\\uc2dc\", \"\\ucd9c\\uc2dc\", \"\\ucd9c\\uc2dc\", \"\\ucd9c\\uc2dc\", \"\\ucde8\\uc784\", \"\\ucde8\\uc784\", \"\\ucde8\\uc784\", \"\\ucde8\\uc784\", \"\\ucde8\\uc784\", \"\\uce58\\ub8cc\", \"\\uce58\\ub8cc\", \"\\uce58\\ub8cc\", \"\\uce58\\ub8cc\", \"\\uce58\\ub8cc\", \"\\uce58\\ub8cc\\ub97c\", \"\\uce58\\ub8cc\\ub97c\", \"\\uce58\\ub8cc\\ub97c\", \"\\uce58\\ub8cc\\ub97c\", \"\\uce74\\uce74\\uc624\", \"\\uce74\\uce74\\uc624\", \"\\uce74\\uce74\\uc624\", \"\\uce74\\uce74\\uc624\", \"\\uce74\\uce74\\uc624\", \"\\ucf54\\ub85c\\ub098\", \"\\ucf54\\ub85c\\ub098\", \"\\ucf54\\ub85c\\ub098\", \"\\ucf54\\ub85c\\ub098\", \"\\ucf54\\ub85c\\ub098\", \"\\ud1b5\\uc77c\\ube44\\uc11c\\uad00\", \"\\ud1b5\\uc77c\\ube44\\uc11c\\uad00\", \"\\ud1b5\\uc77c\\ube44\\uc11c\\uad00\", \"\\ud328\\uc158\", \"\\ud328\\uc158\", \"\\ud328\\uc158\", \"\\ud328\\uc158\", \"\\ud32c\\ub364\", \"\\ud32c\\ub364\", \"\\ud32c\\ub364\", \"\\ud32c\\ub364\", \"\\ud3d0\\uae30\\ud574\\uc57c\", \"\\ud3d0\\uae30\\ud574\\uc57c\", \"\\ud558\\ud0dc\\uacbd\", \"\\ud558\\ud0dc\\uacbd\", \"\\ud558\\ud0dc\\uacbd\", \"\\ud558\\ud0dc\\uacbd\", \"\\ud55c\\uad6d\\uc77c\\ubcf4\", \"\\ud55c\\uad6d\\uc77c\\ubcf4\", \"\\ud55c\\uad6d\\uc77c\\ubcf4\", \"\\ud55c\\uad6d\\uc77c\\ubcf4\", \"\\ud574\\uc57c\", \"\\ud574\\uc57c\", \"\\ud574\\uc57c\", \"\\ud574\\uc57c\", \"\\ud574\\uc57c\", \"\\ud654\\ubb3c\\uc5f0\\ub300\", \"\\ud654\\ubb3c\\uc5f0\\ub300\", \"\\ud654\\ubb3c\\uc5f0\\ub300\", \"\\ud654\\ubb3c\\uc5f0\\ub300\", \"\\ud654\\ubb3c\\uc5f0\\ub300\", \"\\ud654\\ubb3c\\uc5f0\\ub300\\uac00\", \"\\ud654\\ubb3c\\uc5f0\\ub300\\uac00\", \"\\ud654\\ubb3c\\uc5f0\\ub300\\uac00\", \"\\ud654\\ubb3c\\uc5f0\\ub300\\uac00\", \"\\ud654\\ubb3c\\uc5f0\\ub300\\uac00\", \"\\ud654\\ubb3c\\uc5f0\\ub300\\ub294\", \"\\ud654\\ubb3c\\uc5f0\\ub300\\ub294\", \"\\ud654\\ubb3c\\uc5f0\\ub300\\ub294\", \"\\ud654\\ubb3c\\uc5f0\\ub300\\ub294\", \"\\ud654\\ubb3c\\uc5f0\\ub300\\ub294\", \"\\ud654\\ubb3c\\uc5f0\\ub300\\uc640\", \"\\ud654\\ubb3c\\uc5f0\\ub300\\uc640\", \"\\ud654\\ubb3c\\uc5f0\\ub300\\uc640\", \"\\ud654\\ubb3c\\uc5f0\\ub300\\uc640\", \"\\ud654\\ubb3c\\uc5f0\\ub300\\uc640\", \"\\ud654\\ubb3c\\uc5f0\\ub300\\uc758\", \"\\ud654\\ubb3c\\uc5f0\\ub300\\uc758\", \"\\ud654\\ubb3c\\uc5f0\\ub300\\uc758\", \"\\ud654\\ubb3c\\uc5f0\\ub300\\uc758\", \"\\ud654\\ubb3c\\uc5f0\\ub300\\uc758\", \"\\ud654\\ubb3c\\uc790\\ub3d9\\ucc28\", \"\\ud654\\ubb3c\\uc790\\ub3d9\\ucc28\", \"\\ud654\\ubb3c\\uc790\\ub3d9\\ucc28\", \"\\ud654\\ubb3c\\uc790\\ub3d9\\ucc28\", \"\\ud654\\ubb3c\\uc790\\ub3d9\\ucc28\", \"\\ud654\\ubb3c\\ucc28\\uc8fc\\uc758\", \"\\ud654\\ubb3c\\ucc28\\uc8fc\\uc758\", \"\\ud654\\ubb3c\\ucc28\\uc8fc\\uc758\", \"\\ud654\\ubb3c\\ucc28\\uc8fc\\uc758\", \"\\ud655\\ub300\", \"\\ud655\\ub300\", \"\\ud655\\ub300\", \"\\ud655\\ub300\", \"\\ud655\\ub300\", \"\\ud658\\uc728\", \"\\ud658\\uc728\", \"\\ud658\\uc728\", \"\\ud658\\uc728\", \"\\ud658\\uc790\", \"\\ud658\\uc790\", \"\\ud658\\uc790\", \"\\ud658\\uc790\", \"\\ud658\\uc790\", \"\\ud658\\uc790\\uac00\", \"\\ud658\\uc790\\uac00\", \"\\ud658\\uc790\\uac00\", \"\\ud658\\uc790\\uac00\", \"\\ud658\\uc790\\uac00\", \"\\ud68c\\uc758\", \"\\ud68c\\uc758\", \"\\ud68c\\uc758\", \"\\ud68c\\uc758\", \"\\ud68c\\uc758\", \"\\ud718\\ubc1c\\uc720\", \"\\ud718\\ubc1c\\uc720\", \"\\ud718\\ubc1c\\uc720\", \"\\ud718\\ubc1c\\uc720\", \"\\ud751\\uc790\", \"\\ud751\\uc790\", \"\\ud751\\uc790\"]}, \"R\": 30, \"lambda.step\": 0.01, \"plot.opts\": {\"xlab\": \"PC1\", \"ylab\": \"PC2\"}, \"topic.order\": [1, 2, 3, 4, 5]};\n",
       "\n",
       "function LDAvis_load_lib(url, callback){\n",
       "  var s = document.createElement('script');\n",
       "  s.src = url;\n",
       "  s.async = true;\n",
       "  s.onreadystatechange = s.onload = callback;\n",
       "  s.onerror = function(){console.warn(\"failed to load library \" + url);};\n",
       "  document.getElementsByTagName(\"head\")[0].appendChild(s);\n",
       "}\n",
       "\n",
       "if(typeof(LDAvis) !== \"undefined\"){\n",
       "   // already loaded: just create the visualization\n",
       "   !function(LDAvis){\n",
       "       new LDAvis(\"#\" + \"ldavis_el969219138015154089800605259\", ldavis_el969219138015154089800605259_data);\n",
       "   }(LDAvis);\n",
       "}else if(typeof define === \"function\" && define.amd){\n",
       "   // require.js is available: use it to load d3/LDAvis\n",
       "   require.config({paths: {d3: \"https://cdnjs.cloudflare.com/ajax/libs/d3/3.5.5/d3.min\"}});\n",
       "   require([\"d3\"], function(d3){\n",
       "      window.d3 = d3;\n",
       "      LDAvis_load_lib(\"https://cdn.rawgit.com/bmabey/pyLDAvis/files/ldavis.v1.0.0.js\", function(){\n",
       "        new LDAvis(\"#\" + \"ldavis_el969219138015154089800605259\", ldavis_el969219138015154089800605259_data);\n",
       "      });\n",
       "    });\n",
       "}else{\n",
       "    // require.js not available: dynamically load d3 & LDAvis\n",
       "    LDAvis_load_lib(\"https://cdnjs.cloudflare.com/ajax/libs/d3/3.5.5/d3.min.js\", function(){\n",
       "         LDAvis_load_lib(\"https://cdn.rawgit.com/bmabey/pyLDAvis/files/ldavis.v1.0.0.js\", function(){\n",
       "                 new LDAvis(\"#\" + \"ldavis_el969219138015154089800605259\", ldavis_el969219138015154089800605259_data);\n",
       "            })\n",
       "         });\n",
       "}\n",
       "</script>"
      ],
      "text/plain": [
       "<IPython.core.display.HTML object>"
      ]
     },
     "execution_count": 417,
     "metadata": {},
     "output_type": "execute_result"
    }
   ],
   "source": [
    "p = pyLDAvis.gensim.prepare(model, corpus, dic, sort_topics=False)\n",
    "pyLDAvis.display(p)"
   ]
  }
 ],
 "metadata": {
  "kernelspec": {
   "display_name": "Python 3 (ipykernel)",
   "language": "python",
   "name": "python3"
  },
  "language_info": {
   "codemirror_mode": {
    "name": "ipython",
    "version": 3
   },
   "file_extension": ".py",
   "mimetype": "text/x-python",
   "name": "python",
   "nbconvert_exporter": "python",
   "pygments_lexer": "ipython3",
   "version": "3.9.13"
  }
 },
 "nbformat": 4,
 "nbformat_minor": 5
}
